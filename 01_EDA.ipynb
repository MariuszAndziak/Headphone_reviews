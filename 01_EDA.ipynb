{
 "cells": [
  {
   "cell_type": "markdown",
   "metadata": {},
   "source": [
    "# Headphone dataset review analysis #"
   ]
  },
  {
   "cell_type": "markdown",
   "metadata": {},
   "source": [
    "Analyze how customers expressed their feelings about headphones bought through Amazon\n",
    "\n",
    "Data from: https://www.kaggle.com/datasets/mdwaquarazam/headphone-dataset-review-analysis"
   ]
  },
  {
   "cell_type": "markdown",
   "metadata": {},
   "source": [
    "---"
   ]
  },
  {
   "cell_type": "markdown",
   "metadata": {},
   "source": [
    "### ***Imports*** ###"
   ]
  },
  {
   "cell_type": "code",
   "execution_count": 1,
   "metadata": {},
   "outputs": [
    {
     "name": "stderr",
     "output_type": "stream",
     "text": [
      "\n",
      "Bad key text.latex.preview in file c:\\Users\\mariu\\AppData\\Local\\Programs\\Python\\Python37\\lib\\site-packages\\matplotlib\\mpl-data\\stylelib\\_classic_test.mplstyle, line 123 ('text.latex.preview : False')\n",
      "You probably need to get an updated matplotlibrc file from\n",
      "https://github.com/matplotlib/matplotlib/blob/v3.5.2/matplotlibrc.template\n",
      "or from the matplotlib source distribution\n",
      "\n",
      "Bad key mathtext.fallback_to_cm in file c:\\Users\\mariu\\AppData\\Local\\Programs\\Python\\Python37\\lib\\site-packages\\matplotlib\\mpl-data\\stylelib\\_classic_test.mplstyle, line 155 ('mathtext.fallback_to_cm : True  # When True, use symbols from the Computer Modern')\n",
      "You probably need to get an updated matplotlibrc file from\n",
      "https://github.com/matplotlib/matplotlib/blob/v3.5.2/matplotlibrc.template\n",
      "or from the matplotlib source distribution\n",
      "\n",
      "Bad key savefig.jpeg_quality in file c:\\Users\\mariu\\AppData\\Local\\Programs\\Python\\Python37\\lib\\site-packages\\matplotlib\\mpl-data\\stylelib\\_classic_test.mplstyle, line 418 ('savefig.jpeg_quality: 95       # when a jpeg is saved, the default quality parameter.')\n",
      "You probably need to get an updated matplotlibrc file from\n",
      "https://github.com/matplotlib/matplotlib/blob/v3.5.2/matplotlibrc.template\n",
      "or from the matplotlib source distribution\n",
      "\n",
      "Bad key keymap.all_axes in file c:\\Users\\mariu\\AppData\\Local\\Programs\\Python\\Python37\\lib\\site-packages\\matplotlib\\mpl-data\\stylelib\\_classic_test.mplstyle, line 466 ('keymap.all_axes : a                 # enable all axes')\n",
      "You probably need to get an updated matplotlibrc file from\n",
      "https://github.com/matplotlib/matplotlib/blob/v3.5.2/matplotlibrc.template\n",
      "or from the matplotlib source distribution\n",
      "\n",
      "Bad key animation.avconv_path in file c:\\Users\\mariu\\AppData\\Local\\Programs\\Python\\Python37\\lib\\site-packages\\matplotlib\\mpl-data\\stylelib\\_classic_test.mplstyle, line 477 ('animation.avconv_path: avconv     # Path to avconv binary. Without full path')\n",
      "You probably need to get an updated matplotlibrc file from\n",
      "https://github.com/matplotlib/matplotlib/blob/v3.5.2/matplotlibrc.template\n",
      "or from the matplotlib source distribution\n",
      "\n",
      "Bad key animation.avconv_args in file c:\\Users\\mariu\\AppData\\Local\\Programs\\Python\\Python37\\lib\\site-packages\\matplotlib\\mpl-data\\stylelib\\_classic_test.mplstyle, line 479 ('animation.avconv_args:            # Additional arguments to pass to avconv')\n",
      "You probably need to get an updated matplotlibrc file from\n",
      "https://github.com/matplotlib/matplotlib/blob/v3.5.2/matplotlibrc.template\n",
      "or from the matplotlib source distribution\n"
     ]
    }
   ],
   "source": [
    "import numpy as np\n",
    "import matplotlib.pyplot as plt\n",
    "import pandas as pd\n",
    "\n",
    "from wordcloud import WordCloud, ImageColorGenerator\n",
    "\n",
    "from spacy.lang.en.stop_words import STOP_WORDS\n",
    "import string\n",
    "from PIL import Image\n",
    "\n",
    "import seaborn as sns\n",
    "import nltk\n",
    "from nltk.tokenize import sent_tokenize"
   ]
  },
  {
   "cell_type": "code",
   "execution_count": 2,
   "metadata": {},
   "outputs": [],
   "source": [
    "%matplotlib inline"
   ]
  },
  {
   "cell_type": "code",
   "execution_count": 3,
   "metadata": {},
   "outputs": [],
   "source": [
    "df = pd.read_csv('inputs/headphone_datn.csv')"
   ]
  },
  {
   "cell_type": "code",
   "execution_count": 4,
   "metadata": {},
   "outputs": [
    {
     "data": {
      "text/html": [
       "<div>\n",
       "<style scoped>\n",
       "    .dataframe tbody tr th:only-of-type {\n",
       "        vertical-align: middle;\n",
       "    }\n",
       "\n",
       "    .dataframe tbody tr th {\n",
       "        vertical-align: top;\n",
       "    }\n",
       "\n",
       "    .dataframe thead th {\n",
       "        text-align: right;\n",
       "    }\n",
       "</style>\n",
       "<table border=\"1\" class=\"dataframe\">\n",
       "  <thead>\n",
       "    <tr style=\"text-align: right;\">\n",
       "      <th></th>\n",
       "      <th>Customer_Name</th>\n",
       "      <th>REVIEW_TITLE</th>\n",
       "      <th>Color</th>\n",
       "      <th>REVIEW_DATE</th>\n",
       "      <th>COMMENTS</th>\n",
       "      <th>RATINGS</th>\n",
       "    </tr>\n",
       "  </thead>\n",
       "  <tbody>\n",
       "    <tr>\n",
       "      <th>0</th>\n",
       "      <td>Ramdika</td>\n",
       "      <td>Really Exceed my expectation.</td>\n",
       "      <td>Black</td>\n",
       "      <td>30-May-21</td>\n",
       "      <td>Okay.. I was skeptical at first to buy this as...</td>\n",
       "      <td>5</td>\n",
       "    </tr>\n",
       "    <tr>\n",
       "      <th>1</th>\n",
       "      <td>Sachin AK</td>\n",
       "      <td>Great for a change from inear buds</td>\n",
       "      <td>Black</td>\n",
       "      <td>01-Jun-21</td>\n",
       "      <td>The earphone is worth what you pay for. The de...</td>\n",
       "      <td>5</td>\n",
       "    </tr>\n",
       "    <tr>\n",
       "      <th>2</th>\n",
       "      <td>Manikandan Raj</td>\n",
       "      <td>For people with sensitive ears</td>\n",
       "      <td>Black</td>\n",
       "      <td>05-Sep-21</td>\n",
       "      <td>Particularly for people with sensitive ears, w...</td>\n",
       "      <td>4</td>\n",
       "    </tr>\n",
       "    <tr>\n",
       "      <th>3</th>\n",
       "      <td>Reviewguy</td>\n",
       "      <td>I tested it for a week and here's a detailed r...</td>\n",
       "      <td>Iguana</td>\n",
       "      <td>11-Sep-21</td>\n",
       "      <td>Built Quality 6.5 10The lower wire is a durabl...</td>\n",
       "      <td>4</td>\n",
       "    </tr>\n",
       "    <tr>\n",
       "      <th>4</th>\n",
       "      <td>Sridhar Sarkar</td>\n",
       "      <td>Not a good headphone</td>\n",
       "      <td>Iguana</td>\n",
       "      <td>26-Jun-21</td>\n",
       "      <td>Don't go with the over all 4 start rating. Thi...</td>\n",
       "      <td>2</td>\n",
       "    </tr>\n",
       "    <tr>\n",
       "      <th>...</th>\n",
       "      <td>...</td>\n",
       "      <td>...</td>\n",
       "      <td>...</td>\n",
       "      <td>...</td>\n",
       "      <td>...</td>\n",
       "      <td>...</td>\n",
       "    </tr>\n",
       "    <tr>\n",
       "      <th>1599</th>\n",
       "      <td>Darshan</td>\n",
       "      <td>Simply fine</td>\n",
       "      <td>Blue</td>\n",
       "      <td>11-Jun-22</td>\n",
       "      <td>Quite good sound qualityAnd had impressively g...</td>\n",
       "      <td>4</td>\n",
       "    </tr>\n",
       "    <tr>\n",
       "      <th>1600</th>\n",
       "      <td>Happy Singh</td>\n",
       "      <td>Value for money</td>\n",
       "      <td>Spirit Lime</td>\n",
       "      <td>13-Jun-22</td>\n",
       "      <td>Osm</td>\n",
       "      <td>5</td>\n",
       "    </tr>\n",
       "    <tr>\n",
       "      <th>1601</th>\n",
       "      <td>sushanth</td>\n",
       "      <td>Value for money</td>\n",
       "      <td>White</td>\n",
       "      <td>09-Jun-22</td>\n",
       "      <td>Earphones fits well onto the ears, doesn't blo...</td>\n",
       "      <td>5</td>\n",
       "    </tr>\n",
       "    <tr>\n",
       "      <th>1602</th>\n",
       "      <td>Mayuri shinde</td>\n",
       "      <td>Duplicate headphones... Not worth for price</td>\n",
       "      <td>White</td>\n",
       "      <td>09-Jun-22</td>\n",
       "      <td>Sound quality very bad... Over all very bad pr...</td>\n",
       "      <td>1</td>\n",
       "    </tr>\n",
       "    <tr>\n",
       "      <th>1603</th>\n",
       "      <td>Abhijit Nath</td>\n",
       "      <td>Worst....Only for calls....</td>\n",
       "      <td>Black</td>\n",
       "      <td>03-Dec-21</td>\n",
       "      <td>This is only for calls...Mic is good...But Com...</td>\n",
       "      <td>1</td>\n",
       "    </tr>\n",
       "  </tbody>\n",
       "</table>\n",
       "<p>1604 rows × 6 columns</p>\n",
       "</div>"
      ],
      "text/plain": [
       "       Customer_Name                                       REVIEW_TITLE  \\\n",
       "0            Ramdika                      Really Exceed my expectation.   \n",
       "1          Sachin AK                 Great for a change from inear buds   \n",
       "2     Manikandan Raj                     For people with sensitive ears   \n",
       "3          Reviewguy  I tested it for a week and here's a detailed r...   \n",
       "4     Sridhar Sarkar                               Not a good headphone   \n",
       "...              ...                                                ...   \n",
       "1599         Darshan                                        Simply fine   \n",
       "1600     Happy Singh                                    Value for money   \n",
       "1601        sushanth                                    Value for money   \n",
       "1602   Mayuri shinde        Duplicate headphones... Not worth for price   \n",
       "1603    Abhijit Nath                        Worst....Only for calls....   \n",
       "\n",
       "            Color REVIEW_DATE  \\\n",
       "0           Black   30-May-21   \n",
       "1           Black   01-Jun-21   \n",
       "2           Black   05-Sep-21   \n",
       "3          Iguana   11-Sep-21   \n",
       "4          Iguana   26-Jun-21   \n",
       "...           ...         ...   \n",
       "1599         Blue   11-Jun-22   \n",
       "1600  Spirit Lime   13-Jun-22   \n",
       "1601        White   09-Jun-22   \n",
       "1602        White   09-Jun-22   \n",
       "1603        Black   03-Dec-21   \n",
       "\n",
       "                                               COMMENTS  RATINGS  \n",
       "0     Okay.. I was skeptical at first to buy this as...        5  \n",
       "1     The earphone is worth what you pay for. The de...        5  \n",
       "2     Particularly for people with sensitive ears, w...        4  \n",
       "3     Built Quality 6.5 10The lower wire is a durabl...        4  \n",
       "4     Don't go with the over all 4 start rating. Thi...        2  \n",
       "...                                                 ...      ...  \n",
       "1599  Quite good sound qualityAnd had impressively g...        4  \n",
       "1600                                                Osm        5  \n",
       "1601  Earphones fits well onto the ears, doesn't blo...        5  \n",
       "1602  Sound quality very bad... Over all very bad pr...        1  \n",
       "1603  This is only for calls...Mic is good...But Com...        1  \n",
       "\n",
       "[1604 rows x 6 columns]"
      ]
     },
     "execution_count": 4,
     "metadata": {},
     "output_type": "execute_result"
    }
   ],
   "source": [
    "df"
   ]
  },
  {
   "cell_type": "markdown",
   "metadata": {},
   "source": [
    "### ***Word cloud logo generation*** ###"
   ]
  },
  {
   "cell_type": "code",
   "execution_count": 5,
   "metadata": {},
   "outputs": [],
   "source": [
    "class tiny_preprocessing(object):\n",
    "    def __init__(self, text):\n",
    "        self.text = text\n",
    "    \n",
    "    def __getitem__(self, index):\n",
    "        return self.text[index]\n",
    "    \n",
    "    def lower(self):\n",
    "        self.text = self.text.map(lambda x: str(x).lower())\n",
    "        return self.text\n",
    "\n",
    "    def remove_stop_words(self):\n",
    "        self.text = self.text.map(lambda x: ' '.join([elem for elem in x.split() if elem not in STOP_WORDS]))\n",
    "        return self.text\n",
    "    \n",
    "    def remove_punctuation(self):\n",
    "        self.text = self.text.map(lambda x: x.translate(x.maketrans('', '', string.punctuation)))\n",
    "        return self.text\n"
   ]
  },
  {
   "cell_type": "code",
   "execution_count": 6,
   "metadata": {},
   "outputs": [],
   "source": [
    "data = tiny_preprocessing(df['COMMENTS'])"
   ]
  },
  {
   "cell_type": "code",
   "execution_count": 7,
   "metadata": {},
   "outputs": [
    {
     "data": {
      "text/plain": [
       "0       okay skeptical buy tight budget  honest little...\n",
       "1       earphone worth pay for design earbud cause pai...\n",
       "2       particularly people sensitive ears gets ear pa...\n",
       "3       built quality 65 10the lower wire durable nylo...\n",
       "4       dont 4 start rating boat brand endorse lot mon...\n",
       "                              ...                        \n",
       "1599         good sound qualityand impressively good bass\n",
       "1600                                                  osm\n",
       "1601    earphones fits ears doesnt block ear outside s...\n",
       "1602              sound quality bad bad product happy buy\n",
       "1603             callsmic goodbut comfort bad music worst\n",
       "Name: COMMENTS, Length: 1604, dtype: object"
      ]
     },
     "execution_count": 7,
     "metadata": {},
     "output_type": "execute_result"
    }
   ],
   "source": [
    "data.lower()\n",
    "data.remove_stop_words()\n",
    "data.remove_punctuation()"
   ]
  },
  {
   "cell_type": "code",
   "execution_count": 8,
   "metadata": {},
   "outputs": [
    {
     "data": {
      "text/plain": [
       "0       okay skeptical buy tight budget  honest little...\n",
       "1       earphone worth pay for design earbud cause pai...\n",
       "2       particularly people sensitive ears gets ear pa...\n",
       "3       built quality 65 10the lower wire durable nylo...\n",
       "4       dont 4 start rating boat brand endorse lot mon...\n",
       "                              ...                        \n",
       "1599         good sound qualityand impressively good bass\n",
       "1600                                                  osm\n",
       "1601    earphones fits ears doesnt block ear outside s...\n",
       "1602              sound quality bad bad product happy buy\n",
       "1603             callsmic goodbut comfort bad music worst\n",
       "Name: COMMENTS, Length: 1604, dtype: object"
      ]
     },
     "execution_count": 8,
     "metadata": {},
     "output_type": "execute_result"
    }
   ],
   "source": [
    "data[:]"
   ]
  },
  {
   "cell_type": "code",
   "execution_count": 9,
   "metadata": {},
   "outputs": [],
   "source": [
    "text = ' '.join(data[:])"
   ]
  },
  {
   "cell_type": "code",
   "execution_count": 10,
   "metadata": {},
   "outputs": [],
   "source": [
    "mask = np.array(Image.open('inputs/headphone-8215.jpg'))"
   ]
  },
  {
   "cell_type": "code",
   "execution_count": 11,
   "metadata": {},
   "outputs": [
    {
     "data": {
      "image/png": "[encoded data removed]",
      "text/plain": [
       "<Figure size 720x720 with 1 Axes>"
      ]
     },
     "metadata": {
      "needs_background": "light"
     },
     "output_type": "display_data"
    }
   ],
   "source": [
    "wc = WordCloud(background_color='white', max_words=500, mask = mask, max_font_size=60, random_state=0)\n",
    "wc.generate(text)\n",
    "\n",
    "image_colors = ImageColorGenerator(mask)\n",
    "image_colors.default_color = [0,0,0]\n",
    "\n",
    "plt.figure(figsize=[10,10])\n",
    "plt.imshow(wc.recolor(color_func=image_colors), interpolation=\"bilinear\")\n",
    "plt.axis(\"off\");\n",
    "plt.savefig('outputs/headphone_word_cloud.png')"
   ]
  },
  {
   "cell_type": "markdown",
   "metadata": {},
   "source": [
    "### ***Basic statistics for comments*** ###"
   ]
  },
  {
   "cell_type": "markdown",
   "metadata": {},
   "source": [
    "Statistics done on raw text"
   ]
  },
  {
   "cell_type": "markdown",
   "metadata": {},
   "source": [
    "Character count"
   ]
  },
  {
   "cell_type": "code",
   "execution_count": 12,
   "metadata": {},
   "outputs": [],
   "source": [
    "df['char_counts'] = df['COMMENTS'].map(lambda x: len(str(x)))"
   ]
  },
  {
   "cell_type": "markdown",
   "metadata": {},
   "source": [
    "Word count"
   ]
  },
  {
   "cell_type": "code",
   "execution_count": 13,
   "metadata": {},
   "outputs": [],
   "source": [
    "df['word_counts'] = df['COMMENTS'].map(lambda x: len(str(x).split()))"
   ]
  },
  {
   "cell_type": "markdown",
   "metadata": {},
   "source": [
    "Sentence count"
   ]
  },
  {
   "cell_type": "code",
   "execution_count": 14,
   "metadata": {},
   "outputs": [],
   "source": [
    "df['sent_counts'] = df['COMMENTS'].map(lambda x: len(sent_tokenize(str(x))))"
   ]
  },
  {
   "cell_type": "markdown",
   "metadata": {},
   "source": [
    "Average word length"
   ]
  },
  {
   "cell_type": "code",
   "execution_count": 15,
   "metadata": {},
   "outputs": [],
   "source": [
    "df['avg_word_len'] = df[\"COMMENTS\"].map(lambda x: np.mean([len(w) for w in str(x).split()]))"
   ]
  },
  {
   "cell_type": "markdown",
   "metadata": {},
   "source": [
    "Average sent length"
   ]
  },
  {
   "cell_type": "code",
   "execution_count": 16,
   "metadata": {},
   "outputs": [],
   "source": [
    "df['avg_sent_len'] = df['COMMENTS'].map(lambda x: np.mean([len(s.split()) for s in sent_tokenize(str(x))]))"
   ]
  },
  {
   "cell_type": "code",
   "execution_count": 17,
   "metadata": {},
   "outputs": [
    {
     "data": {
      "text/html": [
       "<div>\n",
       "<style scoped>\n",
       "    .dataframe tbody tr th:only-of-type {\n",
       "        vertical-align: middle;\n",
       "    }\n",
       "\n",
       "    .dataframe tbody tr th {\n",
       "        vertical-align: top;\n",
       "    }\n",
       "\n",
       "    .dataframe thead th {\n",
       "        text-align: right;\n",
       "    }\n",
       "</style>\n",
       "<table border=\"1\" class=\"dataframe\">\n",
       "  <thead>\n",
       "    <tr style=\"text-align: right;\">\n",
       "      <th></th>\n",
       "      <th>Customer_Name</th>\n",
       "      <th>REVIEW_TITLE</th>\n",
       "      <th>Color</th>\n",
       "      <th>REVIEW_DATE</th>\n",
       "      <th>COMMENTS</th>\n",
       "      <th>RATINGS</th>\n",
       "      <th>char_counts</th>\n",
       "      <th>word_counts</th>\n",
       "      <th>sent_counts</th>\n",
       "      <th>avg_word_len</th>\n",
       "      <th>avg_sent_len</th>\n",
       "    </tr>\n",
       "  </thead>\n",
       "  <tbody>\n",
       "    <tr>\n",
       "      <th>0</th>\n",
       "      <td>Ramdika</td>\n",
       "      <td>Really Exceed my expectation.</td>\n",
       "      <td>Black</td>\n",
       "      <td>30-May-21</td>\n",
       "      <td>Okay.. I was skeptical at first to buy this as...</td>\n",
       "      <td>5</td>\n",
       "      <td>333</td>\n",
       "      <td>65</td>\n",
       "      <td>3</td>\n",
       "      <td>4.138462</td>\n",
       "      <td>21.666667</td>\n",
       "    </tr>\n",
       "    <tr>\n",
       "      <th>1</th>\n",
       "      <td>Sachin AK</td>\n",
       "      <td>Great for a change from inear buds</td>\n",
       "      <td>Black</td>\n",
       "      <td>01-Jun-21</td>\n",
       "      <td>The earphone is worth what you pay for. The de...</td>\n",
       "      <td>5</td>\n",
       "      <td>374</td>\n",
       "      <td>67</td>\n",
       "      <td>5</td>\n",
       "      <td>4.597015</td>\n",
       "      <td>13.400000</td>\n",
       "    </tr>\n",
       "    <tr>\n",
       "      <th>2</th>\n",
       "      <td>Manikandan Raj</td>\n",
       "      <td>For people with sensitive ears</td>\n",
       "      <td>Black</td>\n",
       "      <td>05-Sep-21</td>\n",
       "      <td>Particularly for people with sensitive ears, w...</td>\n",
       "      <td>4</td>\n",
       "      <td>211</td>\n",
       "      <td>41</td>\n",
       "      <td>2</td>\n",
       "      <td>4.170732</td>\n",
       "      <td>20.500000</td>\n",
       "    </tr>\n",
       "    <tr>\n",
       "      <th>3</th>\n",
       "      <td>Reviewguy</td>\n",
       "      <td>I tested it for a week and here's a detailed r...</td>\n",
       "      <td>Iguana</td>\n",
       "      <td>11-Sep-21</td>\n",
       "      <td>Built Quality 6.5 10The lower wire is a durabl...</td>\n",
       "      <td>4</td>\n",
       "      <td>1433</td>\n",
       "      <td>260</td>\n",
       "      <td>7</td>\n",
       "      <td>4.515385</td>\n",
       "      <td>37.142857</td>\n",
       "    </tr>\n",
       "    <tr>\n",
       "      <th>4</th>\n",
       "      <td>Sridhar Sarkar</td>\n",
       "      <td>Not a good headphone</td>\n",
       "      <td>Iguana</td>\n",
       "      <td>26-Jun-21</td>\n",
       "      <td>Don't go with the over all 4 start rating. Thi...</td>\n",
       "      <td>2</td>\n",
       "      <td>655</td>\n",
       "      <td>124</td>\n",
       "      <td>11</td>\n",
       "      <td>4.290323</td>\n",
       "      <td>11.272727</td>\n",
       "    </tr>\n",
       "    <tr>\n",
       "      <th>...</th>\n",
       "      <td>...</td>\n",
       "      <td>...</td>\n",
       "      <td>...</td>\n",
       "      <td>...</td>\n",
       "      <td>...</td>\n",
       "      <td>...</td>\n",
       "      <td>...</td>\n",
       "      <td>...</td>\n",
       "      <td>...</td>\n",
       "      <td>...</td>\n",
       "      <td>...</td>\n",
       "    </tr>\n",
       "    <tr>\n",
       "      <th>1599</th>\n",
       "      <td>Darshan</td>\n",
       "      <td>Simply fine</td>\n",
       "      <td>Blue</td>\n",
       "      <td>11-Jun-22</td>\n",
       "      <td>Quite good sound qualityAnd had impressively g...</td>\n",
       "      <td>4</td>\n",
       "      <td>54</td>\n",
       "      <td>8</td>\n",
       "      <td>1</td>\n",
       "      <td>5.875000</td>\n",
       "      <td>8.000000</td>\n",
       "    </tr>\n",
       "    <tr>\n",
       "      <th>1600</th>\n",
       "      <td>Happy Singh</td>\n",
       "      <td>Value for money</td>\n",
       "      <td>Spirit Lime</td>\n",
       "      <td>13-Jun-22</td>\n",
       "      <td>Osm</td>\n",
       "      <td>5</td>\n",
       "      <td>3</td>\n",
       "      <td>1</td>\n",
       "      <td>1</td>\n",
       "      <td>3.000000</td>\n",
       "      <td>1.000000</td>\n",
       "    </tr>\n",
       "    <tr>\n",
       "      <th>1601</th>\n",
       "      <td>sushanth</td>\n",
       "      <td>Value for money</td>\n",
       "      <td>White</td>\n",
       "      <td>09-Jun-22</td>\n",
       "      <td>Earphones fits well onto the ears, doesn't blo...</td>\n",
       "      <td>5</td>\n",
       "      <td>198</td>\n",
       "      <td>36</td>\n",
       "      <td>3</td>\n",
       "      <td>4.527778</td>\n",
       "      <td>12.000000</td>\n",
       "    </tr>\n",
       "    <tr>\n",
       "      <th>1602</th>\n",
       "      <td>Mayuri shinde</td>\n",
       "      <td>Duplicate headphones... Not worth for price</td>\n",
       "      <td>White</td>\n",
       "      <td>09-Jun-22</td>\n",
       "      <td>Sound quality very bad... Over all very bad pr...</td>\n",
       "      <td>1</td>\n",
       "      <td>71</td>\n",
       "      <td>13</td>\n",
       "      <td>1</td>\n",
       "      <td>4.538462</td>\n",
       "      <td>13.000000</td>\n",
       "    </tr>\n",
       "    <tr>\n",
       "      <th>1603</th>\n",
       "      <td>Abhijit Nath</td>\n",
       "      <td>Worst....Only for calls....</td>\n",
       "      <td>Black</td>\n",
       "      <td>03-Dec-21</td>\n",
       "      <td>This is only for calls...Mic is good...But Com...</td>\n",
       "      <td>1</td>\n",
       "      <td>80</td>\n",
       "      <td>14</td>\n",
       "      <td>1</td>\n",
       "      <td>4.785714</td>\n",
       "      <td>14.000000</td>\n",
       "    </tr>\n",
       "  </tbody>\n",
       "</table>\n",
       "<p>1604 rows × 11 columns</p>\n",
       "</div>"
      ],
      "text/plain": [
       "       Customer_Name                                       REVIEW_TITLE  \\\n",
       "0            Ramdika                      Really Exceed my expectation.   \n",
       "1          Sachin AK                 Great for a change from inear buds   \n",
       "2     Manikandan Raj                     For people with sensitive ears   \n",
       "3          Reviewguy  I tested it for a week and here's a detailed r...   \n",
       "4     Sridhar Sarkar                               Not a good headphone   \n",
       "...              ...                                                ...   \n",
       "1599         Darshan                                        Simply fine   \n",
       "1600     Happy Singh                                    Value for money   \n",
       "1601        sushanth                                    Value for money   \n",
       "1602   Mayuri shinde        Duplicate headphones... Not worth for price   \n",
       "1603    Abhijit Nath                        Worst....Only for calls....   \n",
       "\n",
       "            Color REVIEW_DATE  \\\n",
       "0           Black   30-May-21   \n",
       "1           Black   01-Jun-21   \n",
       "2           Black   05-Sep-21   \n",
       "3          Iguana   11-Sep-21   \n",
       "4          Iguana   26-Jun-21   \n",
       "...           ...         ...   \n",
       "1599         Blue   11-Jun-22   \n",
       "1600  Spirit Lime   13-Jun-22   \n",
       "1601        White   09-Jun-22   \n",
       "1602        White   09-Jun-22   \n",
       "1603        Black   03-Dec-21   \n",
       "\n",
       "                                               COMMENTS  RATINGS  char_counts  \\\n",
       "0     Okay.. I was skeptical at first to buy this as...        5          333   \n",
       "1     The earphone is worth what you pay for. The de...        5          374   \n",
       "2     Particularly for people with sensitive ears, w...        4          211   \n",
       "3     Built Quality 6.5 10The lower wire is a durabl...        4         1433   \n",
       "4     Don't go with the over all 4 start rating. Thi...        2          655   \n",
       "...                                                 ...      ...          ...   \n",
       "1599  Quite good sound qualityAnd had impressively g...        4           54   \n",
       "1600                                                Osm        5            3   \n",
       "1601  Earphones fits well onto the ears, doesn't blo...        5          198   \n",
       "1602  Sound quality very bad... Over all very bad pr...        1           71   \n",
       "1603  This is only for calls...Mic is good...But Com...        1           80   \n",
       "\n",
       "      word_counts  sent_counts  avg_word_len  avg_sent_len  \n",
       "0              65            3      4.138462     21.666667  \n",
       "1              67            5      4.597015     13.400000  \n",
       "2              41            2      4.170732     20.500000  \n",
       "3             260            7      4.515385     37.142857  \n",
       "4             124           11      4.290323     11.272727  \n",
       "...           ...          ...           ...           ...  \n",
       "1599            8            1      5.875000      8.000000  \n",
       "1600            1            1      3.000000      1.000000  \n",
       "1601           36            3      4.527778     12.000000  \n",
       "1602           13            1      4.538462     13.000000  \n",
       "1603           14            1      4.785714     14.000000  \n",
       "\n",
       "[1604 rows x 11 columns]"
      ]
     },
     "execution_count": 17,
     "metadata": {},
     "output_type": "execute_result"
    }
   ],
   "source": [
    "df"
   ]
  },
  {
   "cell_type": "markdown",
   "metadata": {},
   "source": [
    "### ***Basic statistics for reviews*** ###"
   ]
  },
  {
   "cell_type": "markdown",
   "metadata": {},
   "source": [
    "Statistics done on raw text"
   ]
  },
  {
   "cell_type": "markdown",
   "metadata": {},
   "source": [
    "Character count"
   ]
  },
  {
   "cell_type": "code",
   "execution_count": 18,
   "metadata": {},
   "outputs": [],
   "source": [
    "df['char_counts_rev'] = df['REVIEW_TITLE'].map(lambda x: len(str(x)))"
   ]
  },
  {
   "cell_type": "markdown",
   "metadata": {},
   "source": [
    "Word count"
   ]
  },
  {
   "cell_type": "code",
   "execution_count": 19,
   "metadata": {},
   "outputs": [],
   "source": [
    "df['word_counts_rev'] = df['REVIEW_TITLE'].map(lambda x: len(str(x).split()))"
   ]
  },
  {
   "cell_type": "markdown",
   "metadata": {},
   "source": [
    "Sentence count"
   ]
  },
  {
   "cell_type": "code",
   "execution_count": 20,
   "metadata": {},
   "outputs": [],
   "source": [
    "df['sent_counts_rev'] = df['REVIEW_TITLE'].map(lambda x: len(sent_tokenize(str(x))))"
   ]
  },
  {
   "cell_type": "markdown",
   "metadata": {},
   "source": [
    "Average word length"
   ]
  },
  {
   "cell_type": "code",
   "execution_count": 21,
   "metadata": {},
   "outputs": [],
   "source": [
    "df['avg_word_len_rev'] = df['REVIEW_TITLE'].map(lambda x: np.mean([len(w) for w in str(x).split()]))"
   ]
  },
  {
   "cell_type": "markdown",
   "metadata": {},
   "source": [
    "Average sent length"
   ]
  },
  {
   "cell_type": "code",
   "execution_count": 22,
   "metadata": {},
   "outputs": [],
   "source": [
    "df['avg_sent_len_rev'] = df['REVIEW_TITLE'].map(lambda x: np.mean([len(s.split()) for s in sent_tokenize(str(x))]))"
   ]
  },
  {
   "cell_type": "markdown",
   "metadata": {},
   "source": [
    "### ***Text preprocessing*** ###"
   ]
  },
  {
   "cell_type": "code",
   "execution_count": 23,
   "metadata": {},
   "outputs": [
    {
     "data": {
      "text/plain": [
       "0       okay skeptical buy tight budget  honest little...\n",
       "1       earphone worth pay for design earbud cause pai...\n",
       "2       particularly people sensitive ears gets ear pa...\n",
       "3       built quality 65 10the lower wire durable nylo...\n",
       "4       dont 4 start rating boat brand endorse lot mon...\n",
       "                              ...                        \n",
       "1599         good sound qualityand impressively good bass\n",
       "1600                                                  osm\n",
       "1601    earphones fits ears doesnt block ear outside s...\n",
       "1602              sound quality bad bad product happy buy\n",
       "1603             callsmic goodbut comfort bad music worst\n",
       "Name: COMMENTS, Length: 1604, dtype: object"
      ]
     },
     "execution_count": 23,
     "metadata": {},
     "output_type": "execute_result"
    }
   ],
   "source": [
    "data[:]"
   ]
  },
  {
   "cell_type": "code",
   "execution_count": 24,
   "metadata": {},
   "outputs": [],
   "source": [
    "data_rev = tiny_preprocessing(df['REVIEW_TITLE'])"
   ]
  },
  {
   "cell_type": "code",
   "execution_count": 25,
   "metadata": {},
   "outputs": [
    {
     "data": {
      "text/plain": [
       "0                      exceed expectation\n",
       "1                 great change inear buds\n",
       "2                   people sensitive ears\n",
       "3       tested week heres detailed review\n",
       "4                          good headphone\n",
       "                      ...                \n",
       "1599                          simply fine\n",
       "1600                          value money\n",
       "1601                          value money\n",
       "1602     duplicate headphones worth price\n",
       "1603                      worstonly calls\n",
       "Name: REVIEW_TITLE, Length: 1604, dtype: object"
      ]
     },
     "execution_count": 25,
     "metadata": {},
     "output_type": "execute_result"
    }
   ],
   "source": [
    "data_rev.lower()\n",
    "data_rev.remove_stop_words()\n",
    "data_rev.remove_punctuation()"
   ]
  },
  {
   "cell_type": "code",
   "execution_count": 26,
   "metadata": {},
   "outputs": [],
   "source": [
    "df['comments_prep'] = data[:]\n",
    "df['review_prep'] = data_rev[:]"
   ]
  },
  {
   "cell_type": "markdown",
   "metadata": {},
   "source": [
    "### ***Basic statistics for customers*** ###"
   ]
  },
  {
   "cell_type": "markdown",
   "metadata": {},
   "source": [
    "Anonymous customer"
   ]
  },
  {
   "cell_type": "code",
   "execution_count": 27,
   "metadata": {},
   "outputs": [
    {
     "data": {
      "text/plain": [
       "Amazon Customer    86\n",
       "Rahul               5\n",
       "Abhishek            4\n",
       "Yogesh              3\n",
       "Ajay                3\n",
       "                   ..\n",
       "janak baldaniya     1\n",
       "Tirath              1\n",
       "Vijay Gade          1\n",
       "sanal               1\n",
       "anitha              1\n",
       "Name: Customer_Name, Length: 1465, dtype: int64"
      ]
     },
     "execution_count": 27,
     "metadata": {},
     "output_type": "execute_result"
    }
   ],
   "source": [
    "df['Customer_Name'].value_counts()"
   ]
  },
  {
   "cell_type": "code",
   "execution_count": 28,
   "metadata": {},
   "outputs": [],
   "source": [
    "df['anonymous_customer'] = df['Customer_Name'].map(lambda x: True if x != 'Amazon Customer' else False)"
   ]
  },
  {
   "cell_type": "code",
   "execution_count": 29,
   "metadata": {},
   "outputs": [
    {
     "data": {
      "text/html": [
       "<div>\n",
       "<style scoped>\n",
       "    .dataframe tbody tr th:only-of-type {\n",
       "        vertical-align: middle;\n",
       "    }\n",
       "\n",
       "    .dataframe tbody tr th {\n",
       "        vertical-align: top;\n",
       "    }\n",
       "\n",
       "    .dataframe thead th {\n",
       "        text-align: right;\n",
       "    }\n",
       "</style>\n",
       "<table border=\"1\" class=\"dataframe\">\n",
       "  <thead>\n",
       "    <tr style=\"text-align: right;\">\n",
       "      <th></th>\n",
       "      <th>Customer_Name</th>\n",
       "      <th>REVIEW_TITLE</th>\n",
       "      <th>Color</th>\n",
       "      <th>REVIEW_DATE</th>\n",
       "      <th>COMMENTS</th>\n",
       "      <th>RATINGS</th>\n",
       "      <th>char_counts</th>\n",
       "      <th>word_counts</th>\n",
       "      <th>sent_counts</th>\n",
       "      <th>avg_word_len</th>\n",
       "      <th>avg_sent_len</th>\n",
       "      <th>char_counts_rev</th>\n",
       "      <th>word_counts_rev</th>\n",
       "      <th>sent_counts_rev</th>\n",
       "      <th>avg_word_len_rev</th>\n",
       "      <th>avg_sent_len_rev</th>\n",
       "      <th>comments_prep</th>\n",
       "      <th>review_prep</th>\n",
       "      <th>anonymous_customer</th>\n",
       "    </tr>\n",
       "  </thead>\n",
       "  <tbody>\n",
       "    <tr>\n",
       "      <th>0</th>\n",
       "      <td>Ramdika</td>\n",
       "      <td>Really Exceed my expectation.</td>\n",
       "      <td>Black</td>\n",
       "      <td>30-May-21</td>\n",
       "      <td>Okay.. I was skeptical at first to buy this as...</td>\n",
       "      <td>5</td>\n",
       "      <td>333</td>\n",
       "      <td>65</td>\n",
       "      <td>3</td>\n",
       "      <td>4.138462</td>\n",
       "      <td>21.666667</td>\n",
       "      <td>29</td>\n",
       "      <td>4</td>\n",
       "      <td>1</td>\n",
       "      <td>6.500000</td>\n",
       "      <td>4.0</td>\n",
       "      <td>okay skeptical buy tight budget  honest little...</td>\n",
       "      <td>exceed expectation</td>\n",
       "      <td>True</td>\n",
       "    </tr>\n",
       "    <tr>\n",
       "      <th>1</th>\n",
       "      <td>Sachin AK</td>\n",
       "      <td>Great for a change from inear buds</td>\n",
       "      <td>Black</td>\n",
       "      <td>01-Jun-21</td>\n",
       "      <td>The earphone is worth what you pay for. The de...</td>\n",
       "      <td>5</td>\n",
       "      <td>374</td>\n",
       "      <td>67</td>\n",
       "      <td>5</td>\n",
       "      <td>4.597015</td>\n",
       "      <td>13.400000</td>\n",
       "      <td>34</td>\n",
       "      <td>7</td>\n",
       "      <td>1</td>\n",
       "      <td>4.000000</td>\n",
       "      <td>7.0</td>\n",
       "      <td>earphone worth pay for design earbud cause pai...</td>\n",
       "      <td>great change inear buds</td>\n",
       "      <td>True</td>\n",
       "    </tr>\n",
       "    <tr>\n",
       "      <th>2</th>\n",
       "      <td>Manikandan Raj</td>\n",
       "      <td>For people with sensitive ears</td>\n",
       "      <td>Black</td>\n",
       "      <td>05-Sep-21</td>\n",
       "      <td>Particularly for people with sensitive ears, w...</td>\n",
       "      <td>4</td>\n",
       "      <td>211</td>\n",
       "      <td>41</td>\n",
       "      <td>2</td>\n",
       "      <td>4.170732</td>\n",
       "      <td>20.500000</td>\n",
       "      <td>30</td>\n",
       "      <td>5</td>\n",
       "      <td>1</td>\n",
       "      <td>5.200000</td>\n",
       "      <td>5.0</td>\n",
       "      <td>particularly people sensitive ears gets ear pa...</td>\n",
       "      <td>people sensitive ears</td>\n",
       "      <td>True</td>\n",
       "    </tr>\n",
       "    <tr>\n",
       "      <th>3</th>\n",
       "      <td>Reviewguy</td>\n",
       "      <td>I tested it for a week and here's a detailed r...</td>\n",
       "      <td>Iguana</td>\n",
       "      <td>11-Sep-21</td>\n",
       "      <td>Built Quality 6.5 10The lower wire is a durabl...</td>\n",
       "      <td>4</td>\n",
       "      <td>1433</td>\n",
       "      <td>260</td>\n",
       "      <td>7</td>\n",
       "      <td>4.515385</td>\n",
       "      <td>37.142857</td>\n",
       "      <td>51</td>\n",
       "      <td>11</td>\n",
       "      <td>1</td>\n",
       "      <td>3.727273</td>\n",
       "      <td>11.0</td>\n",
       "      <td>built quality 65 10the lower wire durable nylo...</td>\n",
       "      <td>tested week heres detailed review</td>\n",
       "      <td>True</td>\n",
       "    </tr>\n",
       "    <tr>\n",
       "      <th>4</th>\n",
       "      <td>Sridhar Sarkar</td>\n",
       "      <td>Not a good headphone</td>\n",
       "      <td>Iguana</td>\n",
       "      <td>26-Jun-21</td>\n",
       "      <td>Don't go with the over all 4 start rating. Thi...</td>\n",
       "      <td>2</td>\n",
       "      <td>655</td>\n",
       "      <td>124</td>\n",
       "      <td>11</td>\n",
       "      <td>4.290323</td>\n",
       "      <td>11.272727</td>\n",
       "      <td>20</td>\n",
       "      <td>4</td>\n",
       "      <td>1</td>\n",
       "      <td>4.250000</td>\n",
       "      <td>4.0</td>\n",
       "      <td>dont 4 start rating boat brand endorse lot mon...</td>\n",
       "      <td>good headphone</td>\n",
       "      <td>True</td>\n",
       "    </tr>\n",
       "    <tr>\n",
       "      <th>...</th>\n",
       "      <td>...</td>\n",
       "      <td>...</td>\n",
       "      <td>...</td>\n",
       "      <td>...</td>\n",
       "      <td>...</td>\n",
       "      <td>...</td>\n",
       "      <td>...</td>\n",
       "      <td>...</td>\n",
       "      <td>...</td>\n",
       "      <td>...</td>\n",
       "      <td>...</td>\n",
       "      <td>...</td>\n",
       "      <td>...</td>\n",
       "      <td>...</td>\n",
       "      <td>...</td>\n",
       "      <td>...</td>\n",
       "      <td>...</td>\n",
       "      <td>...</td>\n",
       "      <td>...</td>\n",
       "    </tr>\n",
       "    <tr>\n",
       "      <th>1599</th>\n",
       "      <td>Darshan</td>\n",
       "      <td>Simply fine</td>\n",
       "      <td>Blue</td>\n",
       "      <td>11-Jun-22</td>\n",
       "      <td>Quite good sound qualityAnd had impressively g...</td>\n",
       "      <td>4</td>\n",
       "      <td>54</td>\n",
       "      <td>8</td>\n",
       "      <td>1</td>\n",
       "      <td>5.875000</td>\n",
       "      <td>8.000000</td>\n",
       "      <td>11</td>\n",
       "      <td>2</td>\n",
       "      <td>1</td>\n",
       "      <td>5.000000</td>\n",
       "      <td>2.0</td>\n",
       "      <td>good sound qualityand impressively good bass</td>\n",
       "      <td>simply fine</td>\n",
       "      <td>True</td>\n",
       "    </tr>\n",
       "    <tr>\n",
       "      <th>1600</th>\n",
       "      <td>Happy Singh</td>\n",
       "      <td>Value for money</td>\n",
       "      <td>Spirit Lime</td>\n",
       "      <td>13-Jun-22</td>\n",
       "      <td>Osm</td>\n",
       "      <td>5</td>\n",
       "      <td>3</td>\n",
       "      <td>1</td>\n",
       "      <td>1</td>\n",
       "      <td>3.000000</td>\n",
       "      <td>1.000000</td>\n",
       "      <td>15</td>\n",
       "      <td>3</td>\n",
       "      <td>1</td>\n",
       "      <td>4.333333</td>\n",
       "      <td>3.0</td>\n",
       "      <td>osm</td>\n",
       "      <td>value money</td>\n",
       "      <td>True</td>\n",
       "    </tr>\n",
       "    <tr>\n",
       "      <th>1601</th>\n",
       "      <td>sushanth</td>\n",
       "      <td>Value for money</td>\n",
       "      <td>White</td>\n",
       "      <td>09-Jun-22</td>\n",
       "      <td>Earphones fits well onto the ears, doesn't blo...</td>\n",
       "      <td>5</td>\n",
       "      <td>198</td>\n",
       "      <td>36</td>\n",
       "      <td>3</td>\n",
       "      <td>4.527778</td>\n",
       "      <td>12.000000</td>\n",
       "      <td>15</td>\n",
       "      <td>3</td>\n",
       "      <td>1</td>\n",
       "      <td>4.333333</td>\n",
       "      <td>3.0</td>\n",
       "      <td>earphones fits ears doesnt block ear outside s...</td>\n",
       "      <td>value money</td>\n",
       "      <td>True</td>\n",
       "    </tr>\n",
       "    <tr>\n",
       "      <th>1602</th>\n",
       "      <td>Mayuri shinde</td>\n",
       "      <td>Duplicate headphones... Not worth for price</td>\n",
       "      <td>White</td>\n",
       "      <td>09-Jun-22</td>\n",
       "      <td>Sound quality very bad... Over all very bad pr...</td>\n",
       "      <td>1</td>\n",
       "      <td>71</td>\n",
       "      <td>13</td>\n",
       "      <td>1</td>\n",
       "      <td>4.538462</td>\n",
       "      <td>13.000000</td>\n",
       "      <td>43</td>\n",
       "      <td>6</td>\n",
       "      <td>1</td>\n",
       "      <td>6.333333</td>\n",
       "      <td>6.0</td>\n",
       "      <td>sound quality bad bad product happy buy</td>\n",
       "      <td>duplicate headphones worth price</td>\n",
       "      <td>True</td>\n",
       "    </tr>\n",
       "    <tr>\n",
       "      <th>1603</th>\n",
       "      <td>Abhijit Nath</td>\n",
       "      <td>Worst....Only for calls....</td>\n",
       "      <td>Black</td>\n",
       "      <td>03-Dec-21</td>\n",
       "      <td>This is only for calls...Mic is good...But Com...</td>\n",
       "      <td>1</td>\n",
       "      <td>80</td>\n",
       "      <td>14</td>\n",
       "      <td>1</td>\n",
       "      <td>4.785714</td>\n",
       "      <td>14.000000</td>\n",
       "      <td>27</td>\n",
       "      <td>3</td>\n",
       "      <td>1</td>\n",
       "      <td>8.333333</td>\n",
       "      <td>3.0</td>\n",
       "      <td>callsmic goodbut comfort bad music worst</td>\n",
       "      <td>worstonly calls</td>\n",
       "      <td>True</td>\n",
       "    </tr>\n",
       "  </tbody>\n",
       "</table>\n",
       "<p>1604 rows × 19 columns</p>\n",
       "</div>"
      ],
      "text/plain": [
       "       Customer_Name                                       REVIEW_TITLE  \\\n",
       "0            Ramdika                      Really Exceed my expectation.   \n",
       "1          Sachin AK                 Great for a change from inear buds   \n",
       "2     Manikandan Raj                     For people with sensitive ears   \n",
       "3          Reviewguy  I tested it for a week and here's a detailed r...   \n",
       "4     Sridhar Sarkar                               Not a good headphone   \n",
       "...              ...                                                ...   \n",
       "1599         Darshan                                        Simply fine   \n",
       "1600     Happy Singh                                    Value for money   \n",
       "1601        sushanth                                    Value for money   \n",
       "1602   Mayuri shinde        Duplicate headphones... Not worth for price   \n",
       "1603    Abhijit Nath                        Worst....Only for calls....   \n",
       "\n",
       "            Color REVIEW_DATE  \\\n",
       "0           Black   30-May-21   \n",
       "1           Black   01-Jun-21   \n",
       "2           Black   05-Sep-21   \n",
       "3          Iguana   11-Sep-21   \n",
       "4          Iguana   26-Jun-21   \n",
       "...           ...         ...   \n",
       "1599         Blue   11-Jun-22   \n",
       "1600  Spirit Lime   13-Jun-22   \n",
       "1601        White   09-Jun-22   \n",
       "1602        White   09-Jun-22   \n",
       "1603        Black   03-Dec-21   \n",
       "\n",
       "                                               COMMENTS  RATINGS  char_counts  \\\n",
       "0     Okay.. I was skeptical at first to buy this as...        5          333   \n",
       "1     The earphone is worth what you pay for. The de...        5          374   \n",
       "2     Particularly for people with sensitive ears, w...        4          211   \n",
       "3     Built Quality 6.5 10The lower wire is a durabl...        4         1433   \n",
       "4     Don't go with the over all 4 start rating. Thi...        2          655   \n",
       "...                                                 ...      ...          ...   \n",
       "1599  Quite good sound qualityAnd had impressively g...        4           54   \n",
       "1600                                                Osm        5            3   \n",
       "1601  Earphones fits well onto the ears, doesn't blo...        5          198   \n",
       "1602  Sound quality very bad... Over all very bad pr...        1           71   \n",
       "1603  This is only for calls...Mic is good...But Com...        1           80   \n",
       "\n",
       "      word_counts  sent_counts  avg_word_len  avg_sent_len  char_counts_rev  \\\n",
       "0              65            3      4.138462     21.666667               29   \n",
       "1              67            5      4.597015     13.400000               34   \n",
       "2              41            2      4.170732     20.500000               30   \n",
       "3             260            7      4.515385     37.142857               51   \n",
       "4             124           11      4.290323     11.272727               20   \n",
       "...           ...          ...           ...           ...              ...   \n",
       "1599            8            1      5.875000      8.000000               11   \n",
       "1600            1            1      3.000000      1.000000               15   \n",
       "1601           36            3      4.527778     12.000000               15   \n",
       "1602           13            1      4.538462     13.000000               43   \n",
       "1603           14            1      4.785714     14.000000               27   \n",
       "\n",
       "      word_counts_rev  sent_counts_rev  avg_word_len_rev  avg_sent_len_rev  \\\n",
       "0                   4                1          6.500000               4.0   \n",
       "1                   7                1          4.000000               7.0   \n",
       "2                   5                1          5.200000               5.0   \n",
       "3                  11                1          3.727273              11.0   \n",
       "4                   4                1          4.250000               4.0   \n",
       "...               ...              ...               ...               ...   \n",
       "1599                2                1          5.000000               2.0   \n",
       "1600                3                1          4.333333               3.0   \n",
       "1601                3                1          4.333333               3.0   \n",
       "1602                6                1          6.333333               6.0   \n",
       "1603                3                1          8.333333               3.0   \n",
       "\n",
       "                                          comments_prep  \\\n",
       "0     okay skeptical buy tight budget  honest little...   \n",
       "1     earphone worth pay for design earbud cause pai...   \n",
       "2     particularly people sensitive ears gets ear pa...   \n",
       "3     built quality 65 10the lower wire durable nylo...   \n",
       "4     dont 4 start rating boat brand endorse lot mon...   \n",
       "...                                                 ...   \n",
       "1599       good sound qualityand impressively good bass   \n",
       "1600                                                osm   \n",
       "1601  earphones fits ears doesnt block ear outside s...   \n",
       "1602            sound quality bad bad product happy buy   \n",
       "1603           callsmic goodbut comfort bad music worst   \n",
       "\n",
       "                            review_prep  anonymous_customer  \n",
       "0                    exceed expectation                True  \n",
       "1               great change inear buds                True  \n",
       "2                 people sensitive ears                True  \n",
       "3     tested week heres detailed review                True  \n",
       "4                        good headphone                True  \n",
       "...                                 ...                 ...  \n",
       "1599                        simply fine                True  \n",
       "1600                        value money                True  \n",
       "1601                        value money                True  \n",
       "1602   duplicate headphones worth price                True  \n",
       "1603                    worstonly calls                True  \n",
       "\n",
       "[1604 rows x 19 columns]"
      ]
     },
     "execution_count": 29,
     "metadata": {},
     "output_type": "execute_result"
    }
   ],
   "source": [
    "df"
   ]
  },
  {
   "cell_type": "markdown",
   "metadata": {},
   "source": [
    "### ***Histograms*** ###"
   ]
  },
  {
   "cell_type": "code",
   "execution_count": 30,
   "metadata": {},
   "outputs": [
    {
     "data": {
      "image/png": "[encoded data removed]",
      "text/plain": [
       "<Figure size 432x288 with 1 Axes>"
      ]
     },
     "metadata": {
      "needs_background": "light"
     },
     "output_type": "display_data"
    }
   ],
   "source": [
    "plt.title('Distribution of word counts in comments')\n",
    "sns.histplot(data = df['word_counts']);"
   ]
  },
  {
   "cell_type": "code",
   "execution_count": 31,
   "metadata": {},
   "outputs": [
    {
     "data": {
      "image/png": "[encoded data removed]",
      "text/plain": [
       "<Figure size 432x288 with 1 Axes>"
      ]
     },
     "metadata": {
      "needs_background": "light"
     },
     "output_type": "display_data"
    }
   ],
   "source": [
    "sns.histplot(df[df['word_counts'] < np.percentile(df['word_counts'], 99)]['word_counts']);"
   ]
  },
  {
   "cell_type": "code",
   "execution_count": 32,
   "metadata": {},
   "outputs": [
    {
     "data": {
      "text/plain": [
       "8.0"
      ]
     },
     "execution_count": 32,
     "metadata": {},
     "output_type": "execute_result"
    }
   ],
   "source": [
    "np.median(df['word_counts'])"
   ]
  },
  {
   "cell_type": "code",
   "execution_count": 33,
   "metadata": {},
   "outputs": [
    {
     "data": {
      "image/png": "[encoded data removed]",
      "text/plain": [
       "<Figure size 432x288 with 1 Axes>"
      ]
     },
     "metadata": {
      "needs_background": "light"
     },
     "output_type": "display_data"
    }
   ],
   "source": [
    "plt.title('Distribution of word counts in review titles')\n",
    "sns.histplot(data = df['word_counts_rev']);"
   ]
  },
  {
   "cell_type": "code",
   "execution_count": 34,
   "metadata": {},
   "outputs": [
    {
     "data": {
      "text/plain": [
       "19"
      ]
     },
     "execution_count": 34,
     "metadata": {},
     "output_type": "execute_result"
    }
   ],
   "source": [
    "df['word_counts_rev'].max()"
   ]
  },
  {
   "cell_type": "code",
   "execution_count": 35,
   "metadata": {},
   "outputs": [
    {
     "name": "stderr",
     "output_type": "stream",
     "text": [
      "c:\\Users\\mariu\\AppData\\Local\\Programs\\Python\\Python37\\lib\\site-packages\\seaborn\\_decorators.py:43: FutureWarning: Pass the following variable as a keyword arg: x. From version 0.12, the only valid positional argument will be `data`, and passing other arguments without an explicit keyword will result in an error or misinterpretation.\n",
      "  FutureWarning\n"
     ]
    },
    {
     "data": {
      "image/png": "[encoded data removed]",
      "text/plain": [
       "<Figure size 432x288 with 1 Axes>"
      ]
     },
     "metadata": {
      "needs_background": "light"
     },
     "output_type": "display_data"
    }
   ],
   "source": [
    "plt.title('Boxplot of number of sentences in comments')\n",
    "sns.boxplot(df['sent_counts']);"
   ]
  },
  {
   "cell_type": "code",
   "execution_count": 36,
   "metadata": {},
   "outputs": [
    {
     "data": {
      "text/plain": [
       "count    1604.000000\n",
       "mean        1.593516\n",
       "std         1.336883\n",
       "min         1.000000\n",
       "25%         1.000000\n",
       "50%         1.000000\n",
       "75%         2.000000\n",
       "max        17.000000\n",
       "Name: sent_counts, dtype: float64"
      ]
     },
     "execution_count": 36,
     "metadata": {},
     "output_type": "execute_result"
    }
   ],
   "source": [
    "df['sent_counts'].describe()"
   ]
  },
  {
   "cell_type": "markdown",
   "metadata": {},
   "source": [
    "---"
   ]
  },
  {
   "cell_type": "markdown",
   "metadata": {},
   "source": [
    "🔵`Conclusion 1`🔵"
   ]
  },
  {
   "cell_type": "markdown",
   "metadata": {},
   "source": [
    "Most of the comments aren't longer then 80 words. The median of the length of comments in 8 words. The are usually 1 or 2 sentences in a comment. The review titles are mostly short - usually 2, with maximal value of 19 words."
   ]
  },
  {
   "cell_type": "markdown",
   "metadata": {},
   "source": [
    "---"
   ]
  },
  {
   "cell_type": "markdown",
   "metadata": {},
   "source": [
    "### ***General Term Frequency Analysis*** ###"
   ]
  },
  {
   "cell_type": "markdown",
   "metadata": {},
   "source": [
    "Tokenize comments"
   ]
  },
  {
   "cell_type": "code",
   "execution_count": 37,
   "metadata": {},
   "outputs": [],
   "source": [
    "comments_prep_tokens = df['comments_prep'].str.split()"
   ]
  },
  {
   "cell_type": "markdown",
   "metadata": {},
   "source": [
    "Build corpus"
   ]
  },
  {
   "cell_type": "code",
   "execution_count": 38,
   "metadata": {},
   "outputs": [],
   "source": [
    "corpus = []\n",
    "for token in comments_prep_tokens:\n",
    "    corpus += token"
   ]
  },
  {
   "cell_type": "markdown",
   "metadata": {},
   "source": [
    "Show most common words"
   ]
  },
  {
   "cell_type": "code",
   "execution_count": 39,
   "metadata": {},
   "outputs": [
    {
     "data": {
      "text/plain": [
       "[('good', 673),\n",
       " ('quality', 543),\n",
       " ('sound', 467),\n",
       " ('product', 414),\n",
       " ('bass', 166),\n",
       " ('ear', 151),\n",
       " ('working', 151),\n",
       " ('boat', 149),\n",
       " ('price', 145),\n",
       " ('earphones', 140)]"
      ]
     },
     "execution_count": 39,
     "metadata": {},
     "output_type": "execute_result"
    }
   ],
   "source": [
    "most_common_words = nltk.FreqDist(corpus).most_common(10)\n",
    "most_common_words"
   ]
  },
  {
   "cell_type": "code",
   "execution_count": 40,
   "metadata": {},
   "outputs": [
    {
     "data": {
      "image/png": "[encoded data removed]",
      "text/plain": [
       "<Figure size 432x288 with 1 Axes>"
      ]
     },
     "metadata": {
      "needs_background": "light"
     },
     "output_type": "display_data"
    }
   ],
   "source": [
    "plt.title('Most common words in the dataset')\n",
    "sns.barplot(x = [elem[1] for elem in most_common_words], y = [elem[0] for elem in most_common_words]);"
   ]
  },
  {
   "cell_type": "code",
   "execution_count": 41,
   "metadata": {},
   "outputs": [
    {
     "name": "stdout",
     "output_type": "stream",
     "text": [
      "Word count of the word \"very\": 1\n",
      "Word count of the word \"not\": 2\n"
     ]
    }
   ],
   "source": [
    "print(f'Word count of the word \"very\": {nltk.FreqDist(corpus)[\"very\"]}')\n",
    "print(f'Word count of the word \"not\": {nltk.FreqDist(corpus)[\"not\"]}')"
   ]
  },
  {
   "cell_type": "markdown",
   "metadata": {},
   "source": [
    "### ***Sentiment based term Frequency Analysis*** ###"
   ]
  },
  {
   "cell_type": "markdown",
   "metadata": {},
   "source": [
    "Sentiment construction based an ratings"
   ]
  },
  {
   "cell_type": "code",
   "execution_count": 42,
   "metadata": {},
   "outputs": [],
   "source": [
    "sentiment_dict = {'positive': [5, 4], 'neutral': [3], 'negative': [1, 2]}\n",
    "\n",
    "def key_return(x):\n",
    "    return next(k for k,v in sentiment_dict.items() if x in v)\n",
    "\n",
    "df['RATINGS_SENTIMENT'] = df['RATINGS'].map(lambda x: key_return(x))"
   ]
  },
  {
   "cell_type": "code",
   "execution_count": 43,
   "metadata": {},
   "outputs": [
    {
     "data": {
      "text/plain": [
       "positive    933\n",
       "negative    520\n",
       "neutral     151\n",
       "Name: RATINGS_SENTIMENT, dtype: int64"
      ]
     },
     "execution_count": 43,
     "metadata": {},
     "output_type": "execute_result"
    }
   ],
   "source": [
    "df['RATINGS_SENTIMENT'].value_counts()"
   ]
  },
  {
   "cell_type": "markdown",
   "metadata": {},
   "source": [
    "Positive comments"
   ]
  },
  {
   "cell_type": "code",
   "execution_count": 44,
   "metadata": {},
   "outputs": [],
   "source": [
    "positive_tokens = df[df['RATINGS_SENTIMENT'] == 'positive']['comments_prep'].str.split()\n",
    "positive_corpus = []\n",
    "for token in positive_tokens:\n",
    "    positive_corpus += token"
   ]
  },
  {
   "cell_type": "code",
   "execution_count": 45,
   "metadata": {},
   "outputs": [],
   "source": [
    "most_common_words_positive = nltk.FreqDist(positive_corpus).most_common(10)"
   ]
  },
  {
   "cell_type": "code",
   "execution_count": 46,
   "metadata": {},
   "outputs": [
    {
     "data": {
      "image/png": "[encoded data removed]",
      "text/plain": [
       "<Figure size 432x288 with 1 Axes>"
      ]
     },
     "metadata": {
      "needs_background": "light"
     },
     "output_type": "display_data"
    }
   ],
   "source": [
    "plt.title('Most common words in positve comments')\n",
    "sns.barplot(x = [elem[1] for elem in most_common_words_positive], y = [elem[0] for elem in most_common_words_positive]);"
   ]
  },
  {
   "cell_type": "markdown",
   "metadata": {},
   "source": [
    "Negative comments"
   ]
  },
  {
   "cell_type": "code",
   "execution_count": 47,
   "metadata": {},
   "outputs": [],
   "source": [
    "negative_tokens = df[df['RATINGS_SENTIMENT'] == 'negative']['comments_prep'].str.split()\n",
    "negative_corpus = []\n",
    "for token in negative_tokens:\n",
    "    negative_corpus += token"
   ]
  },
  {
   "cell_type": "code",
   "execution_count": 48,
   "metadata": {},
   "outputs": [],
   "source": [
    "most_common_words_negative = nltk.FreqDist(negative_corpus).most_common(10)"
   ]
  },
  {
   "cell_type": "code",
   "execution_count": 49,
   "metadata": {},
   "outputs": [
    {
     "data": {
      "text/plain": [
       "[('sound', 162),\n",
       " ('quality', 160),\n",
       " ('product', 153),\n",
       " ('working', 117),\n",
       " ('good', 89),\n",
       " ('boat', 73),\n",
       " ('buy', 65),\n",
       " ('dont', 60),\n",
       " ('ear', 53),\n",
       " ('poor', 52)]"
      ]
     },
     "execution_count": 49,
     "metadata": {},
     "output_type": "execute_result"
    }
   ],
   "source": [
    "most_common_words_negative"
   ]
  },
  {
   "cell_type": "code",
   "execution_count": 50,
   "metadata": {},
   "outputs": [
    {
     "data": {
      "image/png": "[encoded data removed]",
      "text/plain": [
       "<Figure size 432x288 with 1 Axes>"
      ]
     },
     "metadata": {
      "needs_background": "light"
     },
     "output_type": "display_data"
    }
   ],
   "source": [
    "plt.title('Most common words in negative comments')\n",
    "sns.barplot(x = [elem[1] for elem in most_common_words_negative], y = [elem[0] for elem in most_common_words_negative]);"
   ]
  },
  {
   "cell_type": "markdown",
   "metadata": {},
   "source": [
    "---"
   ]
  },
  {
   "cell_type": "markdown",
   "metadata": {},
   "source": [
    "🔵`Conclusion 1`🔵"
   ]
  },
  {
   "cell_type": "markdown",
   "metadata": {},
   "source": [
    "Top single tokens for positive and negative reviews are in most cases the same and don't provide any meaningful insight."
   ]
  },
  {
   "cell_type": "markdown",
   "metadata": {},
   "source": [
    "---"
   ]
  },
  {
   "cell_type": "code",
   "execution_count": null,
   "metadata": {},
   "outputs": [],
   "source": []
  },
  {
   "cell_type": "markdown",
   "metadata": {},
   "source": [
    "### ***N-grams Frequency Analysis*** ###"
   ]
  },
  {
   "cell_type": "markdown",
   "metadata": {},
   "source": [
    "All tokens"
   ]
  },
  {
   "cell_type": "code",
   "execution_count": 51,
   "metadata": {},
   "outputs": [],
   "source": [
    "from sklearn.feature_extraction.text import CountVectorizer"
   ]
  },
  {
   "cell_type": "code",
   "execution_count": 52,
   "metadata": {},
   "outputs": [],
   "source": [
    "vec = CountVectorizer(ngram_range=(2,2))\n",
    "bow = vec.fit_transform(df['comments_prep'])"
   ]
  },
  {
   "cell_type": "code",
   "execution_count": 53,
   "metadata": {},
   "outputs": [],
   "source": [
    "count_values = bow.toarray().sum(axis=0)\n",
    "ngram_freq = pd.DataFrame(sorted([(count_values[i], k) for k, i in vec.vocabulary_.items()], reverse = True))\n",
    "ngram_freq.columns = [\"frequency\", \"ngram\"]"
   ]
  },
  {
   "cell_type": "code",
   "execution_count": 54,
   "metadata": {},
   "outputs": [
    {
     "data": {
      "text/html": [
       "<div>\n",
       "<style scoped>\n",
       "    .dataframe tbody tr th:only-of-type {\n",
       "        vertical-align: middle;\n",
       "    }\n",
       "\n",
       "    .dataframe tbody tr th {\n",
       "        vertical-align: top;\n",
       "    }\n",
       "\n",
       "    .dataframe thead th {\n",
       "        text-align: right;\n",
       "    }\n",
       "</style>\n",
       "<table border=\"1\" class=\"dataframe\">\n",
       "  <thead>\n",
       "    <tr style=\"text-align: right;\">\n",
       "      <th></th>\n",
       "      <th>frequency</th>\n",
       "      <th>ngram</th>\n",
       "    </tr>\n",
       "  </thead>\n",
       "  <tbody>\n",
       "    <tr>\n",
       "      <th>0</th>\n",
       "      <td>217</td>\n",
       "      <td>sound quality</td>\n",
       "    </tr>\n",
       "    <tr>\n",
       "      <th>1</th>\n",
       "      <td>103</td>\n",
       "      <td>quality good</td>\n",
       "    </tr>\n",
       "    <tr>\n",
       "      <th>2</th>\n",
       "      <td>75</td>\n",
       "      <td>good product</td>\n",
       "    </tr>\n",
       "    <tr>\n",
       "      <th>3</th>\n",
       "      <td>68</td>\n",
       "      <td>value money</td>\n",
       "    </tr>\n",
       "    <tr>\n",
       "      <th>4</th>\n",
       "      <td>66</td>\n",
       "      <td>good quality</td>\n",
       "    </tr>\n",
       "    <tr>\n",
       "      <th>...</th>\n",
       "      <td>...</td>\n",
       "      <td>...</td>\n",
       "    </tr>\n",
       "    <tr>\n",
       "      <th>8261</th>\n",
       "      <td>1</td>\n",
       "      <td>10 couple</td>\n",
       "    </tr>\n",
       "    <tr>\n",
       "      <th>8262</th>\n",
       "      <td>1</td>\n",
       "      <td>10 built</td>\n",
       "    </tr>\n",
       "    <tr>\n",
       "      <th>8263</th>\n",
       "      <td>1</td>\n",
       "      <td>10 better</td>\n",
       "    </tr>\n",
       "    <tr>\n",
       "      <th>8264</th>\n",
       "      <td>1</td>\n",
       "      <td>10 audio</td>\n",
       "    </tr>\n",
       "    <tr>\n",
       "      <th>8265</th>\n",
       "      <td>1</td>\n",
       "      <td>10 10sound</td>\n",
       "    </tr>\n",
       "  </tbody>\n",
       "</table>\n",
       "<p>8266 rows × 2 columns</p>\n",
       "</div>"
      ],
      "text/plain": [
       "      frequency          ngram\n",
       "0           217  sound quality\n",
       "1           103   quality good\n",
       "2            75   good product\n",
       "3            68    value money\n",
       "4            66   good quality\n",
       "...         ...            ...\n",
       "8261          1      10 couple\n",
       "8262          1       10 built\n",
       "8263          1      10 better\n",
       "8264          1       10 audio\n",
       "8265          1     10 10sound\n",
       "\n",
       "[8266 rows x 2 columns]"
      ]
     },
     "execution_count": 54,
     "metadata": {},
     "output_type": "execute_result"
    }
   ],
   "source": [
    "ngram_freq"
   ]
  },
  {
   "cell_type": "code",
   "execution_count": 63,
   "metadata": {},
   "outputs": [
    {
     "data": {
      "text/plain": [
       "FreqDist({('sound', 'quality'): 218, ('quality', 'good'): 109, ('good', 'product'): 77, ('value', 'money'): 68, ('good', 'quality'): 68, ('good', 'sound'): 66, ('product', 'good'): 44, ('noise', 'cancellation'): 44, ('stopped', 'working'): 39, ('dont', 'buy'): 39, ...})"
      ]
     },
     "execution_count": 63,
     "metadata": {},
     "output_type": "execute_result"
    }
   ],
   "source": [
    "n_grams = nltk.FreqDist(list(nltk.ngrams(corpus, 2)))\n",
    "n_grams"
   ]
  },
  {
   "cell_type": "code",
   "execution_count": 75,
   "metadata": {},
   "outputs": [
    {
     "data": {
      "text/plain": [
       "{'sound quality': 218,\n",
       " 'quality good': 109,\n",
       " 'good product': 77,\n",
       " 'value money': 68,\n",
       " 'good quality': 68,\n",
       " 'good sound': 66,\n",
       " 'product good': 44,\n",
       " 'noise cancellation': 44,\n",
       " 'stopped working': 39,\n",
       " 'dont buy': 39}"
      ]
     },
     "execution_count": 75,
     "metadata": {},
     "output_type": "execute_result"
    }
   ],
   "source": [
    "most_common_n_grams = n_grams.most_common(10)\n",
    "bi_grams_dict_keys = [elem[0][0] + ' ' + elem[0][1] for elem in most_common_n_grams]\n",
    "bi_grams_dict_vals = [elem[1] for elem in most_common_n_grams]\n",
    "bi_grams_dict = dict(zip(bi_grams_dict_keys, bi_grams_dict_vals))\n",
    "bi_grams_dict"
   ]
  },
  {
   "cell_type": "code",
   "execution_count": 80,
   "metadata": {},
   "outputs": [
    {
     "data": {
      "image/png": "[encoded data removed]",
      "text/plain": [
       "<Figure size 432x288 with 1 Axes>"
      ]
     },
     "metadata": {
      "needs_background": "light"
     },
     "output_type": "display_data"
    }
   ],
   "source": [
    "plt.title('Most common bigrams for all comments')\n",
    "plt.barh(*zip(*sorted(bi_grams_dict.items(), key = lambda x: x[1])));"
   ]
  },
  {
   "cell_type": "markdown",
   "metadata": {},
   "source": [
    "Only positive reviews"
   ]
  },
  {
   "cell_type": "code",
   "execution_count": 81,
   "metadata": {},
   "outputs": [
    {
     "data": {
      "text/plain": [
       "FreqDist({('sound', 'quality'): 134, ('quality', 'good'): 73, ('good', 'quality'): 63, ('good', 'product'): 60, ('value', 'money'): 58, ('good', 'sound'): 50, ('product', 'good'): 44, ('noise', 'cancellation'): 29, ('nice', 'product'): 27, ('good', 'good'): 26, ...})"
      ]
     },
     "execution_count": 81,
     "metadata": {},
     "output_type": "execute_result"
    }
   ],
   "source": [
    "n_grams = nltk.FreqDist(list(nltk.ngrams(positive_corpus, 2)))\n",
    "n_grams"
   ]
  },
  {
   "cell_type": "code",
   "execution_count": 82,
   "metadata": {},
   "outputs": [
    {
     "data": {
      "text/plain": [
       "{'sound quality': 134,\n",
       " 'quality good': 73,\n",
       " 'good quality': 63,\n",
       " 'good product': 60,\n",
       " 'value money': 58,\n",
       " 'good sound': 50,\n",
       " 'product good': 44,\n",
       " 'noise cancellation': 29,\n",
       " 'nice product': 27,\n",
       " 'good good': 26}"
      ]
     },
     "execution_count": 82,
     "metadata": {},
     "output_type": "execute_result"
    }
   ],
   "source": [
    "most_common_n_grams = n_grams.most_common(10)\n",
    "bi_grams_dict_keys = [elem[0][0] + ' ' + elem[0][1] for elem in most_common_n_grams]\n",
    "bi_grams_dict_vals = [elem[1] for elem in most_common_n_grams]\n",
    "bi_grams_dict = dict(zip(bi_grams_dict_keys, bi_grams_dict_vals))\n",
    "bi_grams_dict"
   ]
  },
  {
   "cell_type": "code",
   "execution_count": 83,
   "metadata": {},
   "outputs": [
    {
     "data": {
      "image/png": "[encoded data removed]",
      "text/plain": [
       "<Figure size 432x288 with 1 Axes>"
      ]
     },
     "metadata": {
      "needs_background": "light"
     },
     "output_type": "display_data"
    }
   ],
   "source": [
    "plt.title('Most common bigrams for positive comments')\n",
    "plt.barh(*zip(*sorted(bi_grams_dict.items(), key = lambda x: x[1])));"
   ]
  },
  {
   "cell_type": "markdown",
   "metadata": {},
   "source": [
    "Only negative comments"
   ]
  },
  {
   "cell_type": "code",
   "execution_count": 85,
   "metadata": {},
   "outputs": [
    {
     "data": {
      "text/plain": [
       "FreqDist({('sound', 'quality'): 59, ('stopped', 'working'): 37, ('dont', 'buy'): 34, ('quality', 'good'): 24, ('waste', 'money'): 23, ('2', 'months'): 15, ('poor', 'quality'): 14, ('buy', 'product'): 11, ('quality', 'poor'): 11, ('media', 'loaded'): 11, ...})"
      ]
     },
     "execution_count": 85,
     "metadata": {},
     "output_type": "execute_result"
    }
   ],
   "source": [
    "n_grams = nltk.FreqDist(list(nltk.ngrams(negative_corpus, 2)))\n",
    "n_grams"
   ]
  },
  {
   "cell_type": "code",
   "execution_count": 86,
   "metadata": {},
   "outputs": [
    {
     "data": {
      "text/plain": [
       "{'sound quality': 59,\n",
       " 'stopped working': 37,\n",
       " 'dont buy': 34,\n",
       " 'quality good': 24,\n",
       " 'waste money': 23,\n",
       " '2 months': 15,\n",
       " 'poor quality': 14,\n",
       " 'buy product': 11,\n",
       " 'quality poor': 11,\n",
       " 'media loaded': 11}"
      ]
     },
     "execution_count": 86,
     "metadata": {},
     "output_type": "execute_result"
    }
   ],
   "source": [
    "most_common_n_grams = n_grams.most_common(10)\n",
    "bi_grams_dict_keys = [elem[0][0] + ' ' + elem[0][1] for elem in most_common_n_grams]\n",
    "bi_grams_dict_vals = [elem[1] for elem in most_common_n_grams]\n",
    "bi_grams_dict = dict(zip(bi_grams_dict_keys, bi_grams_dict_vals))\n",
    "bi_grams_dict"
   ]
  },
  {
   "cell_type": "code",
   "execution_count": 87,
   "metadata": {},
   "outputs": [
    {
     "data": {
      "image/png": "[encoded data removed]",
      "text/plain": [
       "<Figure size 432x288 with 1 Axes>"
      ]
     },
     "metadata": {
      "needs_background": "light"
     },
     "output_type": "display_data"
    }
   ],
   "source": [
    "plt.title('Most common bigrams for negative comments')\n",
    "plt.barh(*zip(*sorted(bi_grams_dict.items(), key = lambda x: x[1])));"
   ]
  },
  {
   "cell_type": "markdown",
   "metadata": {},
   "source": [
    "### ***Parts of Speech*** ###"
   ]
  },
  {
   "cell_type": "code",
   "execution_count": 97,
   "metadata": {},
   "outputs": [],
   "source": [
    "tags = nltk.pos_tag(corpus, tagset = 'universal')"
   ]
  },
  {
   "cell_type": "code",
   "execution_count": 99,
   "metadata": {},
   "outputs": [
    {
     "data": {
      "text/plain": [
       "['okay',\n",
       " 'skeptical',\n",
       " 'buy',\n",
       " 'tight',\n",
       " 'budget',\n",
       " 'honest',\n",
       " 'little',\n",
       " 'product',\n",
       " 'exceed',\n",
       " 'expectation',\n",
       " 'tight',\n",
       " 'budget',\n",
       " 'oneps',\n",
       " 'redmi',\n",
       " 'phone',\n",
       " 'user',\n",
       " 'setting',\n",
       " 'sound',\n",
       " 'effect',\n",
       " 'user',\n",
       " 'equilizer',\n",
       " 'play',\n",
       " 'sound',\n",
       " 'enhancer',\n",
       " 'best',\n",
       " 'sound',\n",
       " 'result',\n",
       " 'earphone',\n",
       " 'worth',\n",
       " 'pay',\n",
       " 'for',\n",
       " 'design',\n",
       " 'earbud',\n",
       " 'cause',\n",
       " 'pain',\n",
       " 'prolonged',\n",
       " 'usage',\n",
       " 'case',\n",
       " 'basshead',\n",
       " '103',\n",
       " 'goodin',\n",
       " 'terms',\n",
       " 'sound',\n",
       " 'way',\n",
       " 'advanced',\n",
       " 'basshead',\n",
       " '103',\n",
       " 'bass',\n",
       " 'increasedquality',\n",
       " 'wise',\n",
       " 'preferred',\n",
       " 'nylone',\n",
       " 'wrapping',\n",
       " 'small',\n",
       " 'cable',\n",
       " 'better',\n",
       " 'time',\n",
       " 'cable',\n",
       " 'gets',\n",
       " 'damaged',\n",
       " 'particularly',\n",
       " 'people',\n",
       " 'sensitive',\n",
       " 'ears',\n",
       " 'gets',\n",
       " 'ear',\n",
       " 'pain',\n",
       " 'wearing',\n",
       " 'ear',\n",
       " 'buds',\n",
       " 'kind',\n",
       " 'headsets',\n",
       " 'great',\n",
       " 'choice',\n",
       " 'doesnt',\n",
       " 'block',\n",
       " 'air',\n",
       " 'flow',\n",
       " 'ear',\n",
       " 'good',\n",
       " 'ear',\n",
       " 'drum',\n",
       " 'well',\n",
       " 'built',\n",
       " 'quality',\n",
       " '65',\n",
       " '10the',\n",
       " 'lower',\n",
       " 'wire',\n",
       " 'durable',\n",
       " 'nylon',\n",
       " 'know',\n",
       " 'tough',\n",
       " 'middle',\n",
       " 'mic',\n",
       " 'single',\n",
       " 'button',\n",
       " 'lies',\n",
       " 'feels',\n",
       " 'cheap',\n",
       " 'including',\n",
       " 'earpiece',\n",
       " 'plastic',\n",
       " 'dont',\n",
       " 'feel',\n",
       " 'look',\n",
       " 'good',\n",
       " 'wire',\n",
       " 'length',\n",
       " 'good',\n",
       " 'though',\n",
       " 'probably',\n",
       " '12',\n",
       " '13mcomfort',\n",
       " '7',\n",
       " '10feels',\n",
       " 'decently',\n",
       " 'good',\n",
       " 'people',\n",
       " 'dont',\n",
       " 'like',\n",
       " 'rubber',\n",
       " 'tipped',\n",
       " 'earphones',\n",
       " 'fit',\n",
       " 'good',\n",
       " 'comfortable',\n",
       " 'ears',\n",
       " 'talk',\n",
       " 'heresound',\n",
       " 'quality',\n",
       " '7',\n",
       " '10the',\n",
       " 'max',\n",
       " 'volume',\n",
       " 'loud',\n",
       " 'pretty',\n",
       " 'loud',\n",
       " 'thats',\n",
       " 'plus',\n",
       " 'point',\n",
       " 'treble',\n",
       " 'crisp',\n",
       " 'bass',\n",
       " 'decently',\n",
       " 'strong',\n",
       " 'works',\n",
       " 'xiaomi',\n",
       " 'redmi',\n",
       " 'phones',\n",
       " 'options',\n",
       " 'earphones',\n",
       " 'selection',\n",
       " 'different',\n",
       " 'sound',\n",
       " 'quality',\n",
       " 'preferencemic',\n",
       " '6',\n",
       " '10the',\n",
       " 'mic',\n",
       " 'best',\n",
       " 'gets',\n",
       " 'job',\n",
       " 'done',\n",
       " 'picks',\n",
       " 'noise',\n",
       " 'speaking',\n",
       " 'phone',\n",
       " 'walking',\n",
       " 'time',\n",
       " 'physical',\n",
       " 'activity',\n",
       " 'playing',\n",
       " 'games',\n",
       " 'like',\n",
       " 'bgmi',\n",
       " 'duty',\n",
       " 'mic',\n",
       " 'worked',\n",
       " 'good',\n",
       " 'issues',\n",
       " 'calls',\n",
       " 'wasnt',\n",
       " 'goodprice',\n",
       " 'performance',\n",
       " 'ratio',\n",
       " '65',\n",
       " '10this',\n",
       " 'product',\n",
       " 'people',\n",
       " 'wants',\n",
       " 'decent',\n",
       " 'ear',\n",
       " 'wired',\n",
       " 'headset',\n",
       " 'rubber',\n",
       " 'tips',\n",
       " 'people',\n",
       " 'rubber',\n",
       " 'tipped',\n",
       " 'ones',\n",
       " 'use',\n",
       " 'rubber',\n",
       " 'tipped',\n",
       " 'earphones',\n",
       " 'wanna',\n",
       " 'good',\n",
       " '500',\n",
       " 'rupees',\n",
       " '1boat',\n",
       " 'bassheads',\n",
       " '100',\n",
       " 'cheaper',\n",
       " 'great',\n",
       " 'price',\n",
       " '2',\n",
       " 'realme',\n",
       " 'buds',\n",
       " '2',\n",
       " 'good',\n",
       " 'sound',\n",
       " 'built',\n",
       " 'quality',\n",
       " 'additional',\n",
       " 'rubber',\n",
       " 'band',\n",
       " 'easy',\n",
       " 'storage',\n",
       " 'keen',\n",
       " 'music',\n",
       " 'listening',\n",
       " 'cant',\n",
       " 'comment',\n",
       " 'good',\n",
       " 'music',\n",
       " 'produce',\n",
       " 'purpose',\n",
       " 'fully',\n",
       " 'focused',\n",
       " 'call',\n",
       " 'great',\n",
       " 'work',\n",
       " 'expected',\n",
       " 'people',\n",
       " 'able',\n",
       " 'correctly',\n",
       " 'sound',\n",
       " 'produce',\n",
       " 'loud',\n",
       " 'correctly',\n",
       " 'noise',\n",
       " 'cauae',\n",
       " 'headphone',\n",
       " 'previously',\n",
       " 'jbl',\n",
       " 'phillips',\n",
       " 'castly',\n",
       " 'durability',\n",
       " 'questionable',\n",
       " 'fully',\n",
       " 'justifying',\n",
       " 'pricethis',\n",
       " 'came',\n",
       " 'tagle',\n",
       " 'free',\n",
       " 'wire',\n",
       " 'textured',\n",
       " 'easier',\n",
       " 'untangle',\n",
       " 'best',\n",
       " 'headset',\n",
       " 'life',\n",
       " 'genuin',\n",
       " 'product',\n",
       " 'good',\n",
       " 'condition',\n",
       " 'reasonable',\n",
       " 'price',\n",
       " 'value',\n",
       " 'money',\n",
       " 'thanks',\n",
       " 'amazon',\n",
       " 'perfect',\n",
       " 'delivery',\n",
       " 'feature',\n",
       " 'premium',\n",
       " 'quality',\n",
       " 'plastic',\n",
       " 'good',\n",
       " 'finishing',\n",
       " 'use',\n",
       " 'hours',\n",
       " 'dont',\n",
       " 'feel',\n",
       " 'troubling',\n",
       " 'ears',\n",
       " 'crafted',\n",
       " 'ergonomic',\n",
       " 'design',\n",
       " 'flow',\n",
       " 'wire',\n",
       " 'stem',\n",
       " 'thick',\n",
       " 'branches',\n",
       " 'rubberised',\n",
       " 'good',\n",
       " 'quality',\n",
       " 'sure',\n",
       " 'struck',\n",
       " 'arms',\n",
       " 'surely',\n",
       " '4',\n",
       " 'yearsgood',\n",
       " 'calling',\n",
       " 'mic',\n",
       " 'issues',\n",
       " 'faced',\n",
       " 'music',\n",
       " 'fine',\n",
       " 'complaints',\n",
       " 'grab',\n",
       " 'product',\n",
       " 'save',\n",
       " 'earsthe',\n",
       " 'ear',\n",
       " 'headphones',\n",
       " 'vacuum',\n",
       " 'suction',\n",
       " 'ears',\n",
       " 'lead',\n",
       " 'severe',\n",
       " 'problems',\n",
       " 'long',\n",
       " 'hours',\n",
       " 'boat',\n",
       " 'known',\n",
       " 'brand',\n",
       " 'definitely',\n",
       " 'expects',\n",
       " 'premium',\n",
       " 'sound',\n",
       " 'quality',\n",
       " 'model',\n",
       " 'meets',\n",
       " 'expectationspros',\n",
       " '1',\n",
       " 'premium',\n",
       " 'looks',\n",
       " 'quality',\n",
       " 'design2',\n",
       " 'comfortable3',\n",
       " 'good',\n",
       " 'sound',\n",
       " 'bass4',\n",
       " 'attractive',\n",
       " 'red',\n",
       " 'colour',\n",
       " 'play',\n",
       " 'pause',\n",
       " 'button5',\n",
       " 'mic',\n",
       " 'clearly',\n",
       " 'noticablecons',\n",
       " '1',\n",
       " 'netted',\n",
       " 'cable',\n",
       " 'given',\n",
       " 'jack',\n",
       " 'mic',\n",
       " 'durable2',\n",
       " 'volume',\n",
       " 'controller',\n",
       " 'previous',\n",
       " 'buttons3',\n",
       " 'treble',\n",
       " 'good4',\n",
       " 'noticed',\n",
       " 'noise',\n",
       " 'cancellation5',\n",
       " 'priced',\n",
       " '135',\n",
       " 'mm',\n",
       " 'driver',\n",
       " 'price',\n",
       " 'makes',\n",
       " 'superb',\n",
       " 'sound',\n",
       " 'quality',\n",
       " 'actually',\n",
       " 'good',\n",
       " 'compared',\n",
       " 'mi',\n",
       " 'realme',\n",
       " 'etc',\n",
       " 'wired',\n",
       " 'headphones',\n",
       " 'price',\n",
       " 'peoples',\n",
       " 'dont',\n",
       " 'like',\n",
       " 'ear',\n",
       " 'buds',\n",
       " 'find',\n",
       " 'good',\n",
       " 'option',\n",
       " 'underrated',\n",
       " 'headphones',\n",
       " 'actually',\n",
       " 'its',\n",
       " 'sound',\n",
       " 'nice',\n",
       " 'compare',\n",
       " 'othersi',\n",
       " 'like',\n",
       " 'chilly',\n",
       " 'combination',\n",
       " 'blue',\n",
       " 'orange',\n",
       " 'combo',\n",
       " 'untangled',\n",
       " 'write',\n",
       " 'light',\n",
       " 'surprisingly',\n",
       " 'loud',\n",
       " 'tiny',\n",
       " 'size',\n",
       " 'light',\n",
       " 'cable',\n",
       " 'build',\n",
       " 'quality',\n",
       " 'braided',\n",
       " 'cloth',\n",
       " 'feel',\n",
       " 'outstanding',\n",
       " 'plastic',\n",
       " 'earpiece',\n",
       " 'light',\n",
       " 'chunky',\n",
       " 'heavy',\n",
       " 'duty',\n",
       " 'single',\n",
       " 'button',\n",
       " 'fits',\n",
       " 'right',\n",
       " 'hurt',\n",
       " 'went',\n",
       " 'sleep',\n",
       " 'wearing',\n",
       " 'turned',\n",
       " 'head',\n",
       " 'its',\n",
       " 'plastic',\n",
       " 'boat',\n",
       " 'quality',\n",
       " 'competitive',\n",
       " 'price',\n",
       " 'old',\n",
       " 'school',\n",
       " 'basic',\n",
       " 'design',\n",
       " 'mobile',\n",
       " 'phone',\n",
       " 'days',\n",
       " 'media',\n",
       " 'loaded',\n",
       " 'sound',\n",
       " 'good',\n",
       " 'bass',\n",
       " 'low',\n",
       " 'bought',\n",
       " 'attending',\n",
       " 'meetings',\n",
       " 'earphone',\n",
       " 'soft',\n",
       " 'tip',\n",
       " 'turned',\n",
       " 'uncomfortable',\n",
       " 'prolonged',\n",
       " 'use',\n",
       " 'came',\n",
       " 'earphone1',\n",
       " 'value',\n",
       " 'money2',\n",
       " 'braided',\n",
       " 'cable3',\n",
       " 'clear',\n",
       " 'audio4',\n",
       " 'party',\n",
       " 'hear',\n",
       " 'meeting5',\n",
       " 'balanced',\n",
       " 'bassif',\n",
       " 'bass',\n",
       " 'head',\n",
       " 'looking',\n",
       " 'earphone',\n",
       " 'gives',\n",
       " 'strong',\n",
       " 'bass',\n",
       " 'product',\n",
       " 'you',\n",
       " 'rest',\n",
       " 'janta',\n",
       " 'buy',\n",
       " 'earphone',\n",
       " 'isnt',\n",
       " 'noise',\n",
       " 'cancelling',\n",
       " 'totally',\n",
       " 'fine',\n",
       " 'sound',\n",
       " 'relly',\n",
       " 'good',\n",
       " 'ive',\n",
       " 'boat',\n",
       " 'earphones',\n",
       " 'havent',\n",
       " 'good',\n",
       " 'experience',\n",
       " '3',\n",
       " 'models',\n",
       " 'boat',\n",
       " 'option',\n",
       " 'budget',\n",
       " 'looking',\n",
       " 'far',\n",
       " 'great',\n",
       " 'amazing',\n",
       " 'built',\n",
       " 'quality',\n",
       " 'great',\n",
       " 'sound',\n",
       " 'okayish',\n",
       " 'mic',\n",
       " 'isnt',\n",
       " 'problem',\n",
       " 'decent',\n",
       " 'sound',\n",
       " 'quality',\n",
       " 'music',\n",
       " 'calls',\n",
       " 'bass',\n",
       " 'elevated',\n",
       " 'little',\n",
       " 'bit',\n",
       " 'much',\n",
       " 'sturdy',\n",
       " 'wires',\n",
       " 'wire',\n",
       " 'jack',\n",
       " 'mic',\n",
       " 'braided',\n",
       " 'good',\n",
       " 'texture',\n",
       " 'feel',\n",
       " 'jack',\n",
       " 'kid',\n",
       " 'rubberized',\n",
       " 'plastic',\n",
       " 'helps',\n",
       " 'grip',\n",
       " 'pulling',\n",
       " 'jack',\n",
       " 'phone',\n",
       " 'laptop',\n",
       " 'satisfield',\n",
       " 'value',\n",
       " 'provides',\n",
       " 'price',\n",
       " 'media',\n",
       " 'loaded',\n",
       " 'product',\n",
       " 'look',\n",
       " 'good',\n",
       " 'sound',\n",
       " 'clarity',\n",
       " 'good',\n",
       " 'magnets',\n",
       " 'like',\n",
       " 'phones',\n",
       " 'product',\n",
       " 'comes',\n",
       " 'year',\n",
       " 'warrantyhave',\n",
       " 'endurance',\n",
       " 'earphones',\n",
       " 'looks',\n",
       " 'okay',\n",
       " 'basically',\n",
       " 'price',\n",
       " 'solve',\n",
       " 'purpose',\n",
       " 'meetings',\n",
       " 'use',\n",
       " 'normal',\n",
       " 'earphone',\n",
       " 'fit',\n",
       " 'perfectly',\n",
       " 'thing',\n",
       " 'its',\n",
       " 'best',\n",
       " 'purchase',\n",
       " 'price',\n",
       " 'obviously',\n",
       " 'cant',\n",
       " 'use',\n",
       " 'hear',\n",
       " 'music',\n",
       " 'hardcore',\n",
       " 'music',\n",
       " 'listener',\n",
       " 'wont',\n",
       " 'find',\n",
       " 'good',\n",
       " 'case',\n",
       " 'its',\n",
       " 'wonderful',\n",
       " 'product',\n",
       " '2',\n",
       " '3months',\n",
       " 'now',\n",
       " 'sound',\n",
       " 'quality',\n",
       " 'excellent',\n",
       " 'big',\n",
       " 'sound',\n",
       " 'proof',\n",
       " 'headsets',\n",
       " 'long',\n",
       " 'time',\n",
       " 'choose',\n",
       " 'travel',\n",
       " 'special',\n",
       " 'need',\n",
       " 'initially',\n",
       " 'sceptical',\n",
       " 'sound',\n",
       " 'experience',\n",
       " 'big',\n",
       " 'headsets',\n",
       " 'nice',\n",
       " 'change',\n",
       " 'build',\n",
       " 'quality',\n",
       " 'goodamazon',\n",
       " 'delivery',\n",
       " 'thumps',\n",
       " 'up',\n",
       " 'bought',\n",
       " 'total',\n",
       " '3',\n",
       " 'earphones',\n",
       " 'obviously',\n",
       " '1',\n",
       " 'bought',\n",
       " '2',\n",
       " 'planning',\n",
       " 'buy',\n",
       " 'price',\n",
       " 'drops',\n",
       " '350good',\n",
       " 'quality',\n",
       " 'strenght',\n",
       " 'awesomeonly',\n",
       " 'draw',\n",
       " 'background',\n",
       " 'noise',\n",
       " 'cancellation',\n",
       " 'call',\n",
       " 'excpecting',\n",
       " 'good',\n",
       " 'noise',\n",
       " 'cancellation',\n",
       " 'its',\n",
       " 'thereoverall',\n",
       " 'its',\n",
       " 'good',\n",
       " 'insted',\n",
       " 'buying',\n",
       " '100rs',\n",
       " 'earphone',\n",
       " 'multiple',\n",
       " 'times',\n",
       " 'long',\n",
       " '6mths',\n",
       " 'heavy',\n",
       " 'user',\n",
       " 'oily',\n",
       " 'inner',\n",
       " 'ears',\n",
       " 'alwaysprefer',\n",
       " 'ear',\n",
       " 'phines',\n",
       " 'got',\n",
       " 'sale',\n",
       " 'good',\n",
       " 'price',\n",
       " 'quality',\n",
       " 'good',\n",
       " 'bass',\n",
       " 'noise',\n",
       " 'cancellation',\n",
       " 'best',\n",
       " 'feature',\n",
       " 'regular',\n",
       " 'build',\n",
       " 'earphone',\n",
       " 'good',\n",
       " 'low',\n",
       " 'price',\n",
       " 'sound',\n",
       " 'quality',\n",
       " 'hurt',\n",
       " 'ear',\n",
       " 'built',\n",
       " 'quality',\n",
       " '10',\n",
       " '10sound',\n",
       " 'quality',\n",
       " '20',\n",
       " '10',\n",
       " 'yes',\n",
       " 'goodi',\n",
       " 'knew',\n",
       " 'boats',\n",
       " 'good',\n",
       " 'job',\n",
       " 'terms',\n",
       " 'sound',\n",
       " 'clarity',\n",
       " 'quality',\n",
       " 'prefer',\n",
       " 'half',\n",
       " 'ear',\n",
       " 'earphones',\n",
       " 'didnt',\n",
       " 'expect',\n",
       " 'good',\n",
       " 'outcome',\n",
       " 'half',\n",
       " 'ear',\n",
       " 'earphone',\n",
       " 'super',\n",
       " 'impressed',\n",
       " 'quality',\n",
       " 'clarity',\n",
       " 'bass',\n",
       " 'yes',\n",
       " 'bass',\n",
       " 'half',\n",
       " 'ear',\n",
       " 'earphone',\n",
       " 'read',\n",
       " 'right',\n",
       " 'guys',\n",
       " 'fall',\n",
       " 'love',\n",
       " 'old',\n",
       " 'school',\n",
       " 'comfortable',\n",
       " 'earphone',\n",
       " 'style',\n",
       " 'ever',\n",
       " 'earphones',\n",
       " 'came',\n",
       " 'oppo',\n",
       " 'phone',\n",
       " 'got',\n",
       " 'damaged',\n",
       " 'bought',\n",
       " 'one',\n",
       " 'compared',\n",
       " 'earphones',\n",
       " 'boat',\n",
       " 'earphones',\n",
       " 'slightly',\n",
       " 'lesser',\n",
       " 'voice',\n",
       " 'clarity',\n",
       " 'wires',\n",
       " 'thicker',\n",
       " 'likely',\n",
       " 'crack',\n",
       " 'like',\n",
       " 'ear',\n",
       " 'buds',\n",
       " 'design',\n",
       " 'doesnt',\n",
       " 'clog',\n",
       " 'ears',\n",
       " 'unlike',\n",
       " 'buds',\n",
       " 'tightly',\n",
       " 'snug',\n",
       " 'ear',\n",
       " 'block',\n",
       " 'airflow',\n",
       " 'better',\n",
       " 'boat',\n",
       " 'instead',\n",
       " 'paying',\n",
       " 'celebrities',\n",
       " 'spent',\n",
       " 'resources',\n",
       " 'improving',\n",
       " 'voice',\n",
       " 'clarity',\n",
       " 'reviewing',\n",
       " '1month',\n",
       " 'use',\n",
       " 'compare',\n",
       " 'premium',\n",
       " 'ones',\n",
       " 'quality',\n",
       " 'worth',\n",
       " 'pricepros',\n",
       " '1',\n",
       " 'good',\n",
       " 'comfortable',\n",
       " 'design',\n",
       " 'especially',\n",
       " 'bud',\n",
       " 'type',\n",
       " 'uncomfortable',\n",
       " '2',\n",
       " 'sound',\n",
       " 'quality',\n",
       " 'badcons',\n",
       " '1',\n",
       " 'button',\n",
       " 'matrrial',\n",
       " 'normal',\n",
       " 'rubber',\n",
       " 'chances',\n",
       " 'break',\n",
       " 'there',\n",
       " 'look',\n",
       " 'fantastic',\n",
       " 'like',\n",
       " 'apple',\n",
       " 'earphone',\n",
       " 'sound',\n",
       " 'quality',\n",
       " 'mic',\n",
       " 'quality',\n",
       " 'good',\n",
       " 'its',\n",
       " 'average',\n",
       " 'cheap',\n",
       " '399',\n",
       " 'earphone',\n",
       " 'expected',\n",
       " 'better',\n",
       " 'good',\n",
       " 'quality',\n",
       " 'earphones',\n",
       " 'design',\n",
       " 'best',\n",
       " 'rest',\n",
       " 'useful',\n",
       " 'muchsound',\n",
       " 'clear',\n",
       " 'spreads',\n",
       " 'received',\n",
       " 'product',\n",
       " 'great',\n",
       " 'packing',\n",
       " 'secured',\n",
       " 'packing',\n",
       " 'know',\n",
       " 'earphone',\n",
       " 'original',\n",
       " 'earphone',\n",
       " 'sturdy',\n",
       " 'durablei',\n",
       " 'liked',\n",
       " 'usage',\n",
       " 'rough',\n",
       " 'washed',\n",
       " 'earphone',\n",
       " 'cable',\n",
       " 'clean',\n",
       " 'themafter',\n",
       " 'washing',\n",
       " 'cable',\n",
       " 's',\n",
       " 'working',\n",
       " 'great',\n",
       " 'update',\n",
       " '6',\n",
       " 'months',\n",
       " 'started',\n",
       " 'malfunctionsometimes',\n",
       " 'mic',\n",
       " 'working',\n",
       " 'sound',\n",
       " 'coming',\n",
       " 'im',\n",
       " 'constant',\n",
       " 'user',\n",
       " 'boat',\n",
       " 'buying',\n",
       " 'earphones',\n",
       " 'months',\n",
       " 'earphone',\n",
       " 'cables',\n",
       " 'surprisingly',\n",
       " 'delicate',\n",
       " 'latest',\n",
       " 'experiment',\n",
       " 'say',\n",
       " 'arent',\n",
       " 'necessarily',\n",
       " 'bad',\n",
       " 'earphones',\n",
       " 'theyre',\n",
       " 'fairly',\n",
       " 'lackluster',\n",
       " 'volume',\n",
       " 'goes',\n",
       " 'high',\n",
       " 'noise',\n",
       " 'cancellation',\n",
       " 'nonexistent',\n",
       " 'hard',\n",
       " 'plastic',\n",
       " 'hurts',\n",
       " 'ears',\n",
       " 'wearing',\n",
       " 'it',\n",
       " 'hey',\n",
       " 'its',\n",
       " 'personal',\n",
       " 'listening',\n",
       " 'device',\n",
       " '400',\n",
       " 'guess',\n",
       " 'theres',\n",
       " 'complain',\n",
       " 'about',\n",
       " 'still',\n",
       " '400',\n",
       " '102',\n",
       " '100',\n",
       " 'instead',\n",
       " 'theyre',\n",
       " 'truly',\n",
       " 'good',\n",
       " 'earphones',\n",
       " 'okay',\n",
       " 'one',\n",
       " 'its',\n",
       " 'okay',\n",
       " 'wont',\n",
       " 'to',\n",
       " 'seen',\n",
       " 'indian',\n",
       " 'market',\n",
       " 'compare',\n",
       " 'tech',\n",
       " 'world',\n",
       " 'boat',\n",
       " 'energetically',\n",
       " 'competing',\n",
       " 'product',\n",
       " 'awesome',\n",
       " 'wired',\n",
       " 'color',\n",
       " 'combination',\n",
       " 'earphone',\n",
       " 'unique',\n",
       " 'sound',\n",
       " 'quality',\n",
       " 'mashallahprice',\n",
       " 'range',\n",
       " 'audio',\n",
       " 'quality',\n",
       " 'wired',\n",
       " 'earphone',\n",
       " 'thanks',\n",
       " 'making',\n",
       " 'product',\n",
       " 'bass',\n",
       " 'quality',\n",
       " '3',\n",
       " 'stars',\n",
       " 'treble',\n",
       " 'quality',\n",
       " '3',\n",
       " 'stars',\n",
       " 'sound',\n",
       " 'quality',\n",
       " '35',\n",
       " 'starsoverall',\n",
       " 'need',\n",
       " 'earphone',\n",
       " 'calls',\n",
       " 'tight',\n",
       " 'budget',\n",
       " 'price',\n",
       " ...]"
      ]
     },
     "execution_count": 99,
     "metadata": {},
     "output_type": "execute_result"
    }
   ],
   "source": []
  },
  {
   "cell_type": "code",
   "execution_count": null,
   "metadata": {},
   "outputs": [],
   "source": []
  },
  {
   "cell_type": "code",
   "execution_count": null,
   "metadata": {},
   "outputs": [],
   "source": []
  }
 ],
 "metadata": {
  "interpreter": {
   "hash": "f5dc7221bd57f443bd21d92d893b3958d3081f94c6c945d5f95188cb4cde5b4f"
  },
  "kernelspec": {
   "display_name": "Python 3.7.5 64-bit",
   "language": "python",
   "name": "python3"
  },
  "language_info": {
   "codemirror_mode": {
    "name": "ipython",
    "version": 3
   },
   "file_extension": ".py",
   "mimetype": "text/x-python",
   "name": "python",
   "nbconvert_exporter": "python",
   "pygments_lexer": "ipython3",
   "version": "3.7.5"
  },
  "orig_nbformat": 4
 },
 "nbformat": 4,
 "nbformat_minor": 2
}
