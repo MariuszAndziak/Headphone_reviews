{
 "cells": [
  {
   "cell_type": "markdown",
   "metadata": {},
   "source": [
    "# Headphone dataset review analysis  - Classification #"
   ]
  },
  {
   "cell_type": "markdown",
   "metadata": {},
   "source": [
    "Analyze how customers expressed their feelings about headphones bought through Amazon\n",
    "\n",
    "Different model representations are used as base input for classification models.\n",
    "\n",
    "Data from: https://www.kaggle.com/datasets/mdwaquarazam/headphone-dataset-review-analysis"
   ]
  },
  {
   "cell_type": "markdown",
   "metadata": {},
   "source": [
    "---"
   ]
  },
  {
   "cell_type": "markdown",
   "metadata": {},
   "source": [
    "### ***Imports*** ###"
   ]
  },
  {
   "cell_type": "code",
   "execution_count": 154,
   "metadata": {},
   "outputs": [],
   "source": [
    "import numpy as np\n",
    "import matplotlib.pyplot as plt\n",
    "import pandas as pd\n",
    "\n",
    "import seaborn as sns\n",
    "import importlib\n",
    "\n",
    "import data_mod"
   ]
  },
  {
   "cell_type": "code",
   "execution_count": 155,
   "metadata": {},
   "outputs": [],
   "source": [
    "df = pd.read_csv('inputs/headphone_datn.csv')"
   ]
  },
  {
   "cell_type": "code",
   "execution_count": 157,
   "metadata": {},
   "outputs": [],
   "source": [
    "data = data_mod.Preprocessing(df['COMMENTS'])"
   ]
  },
  {
   "cell_type": "code",
   "execution_count": 158,
   "metadata": {},
   "outputs": [
    {
     "data": {
      "text/plain": [
       "0       okay.. i was skeptical at first to buy this as...\n",
       "1       the earphone is worth what you pay for. the de...\n",
       "2       particularly for people with sensitive ears, w...\n",
       "3       built quality 6.5 10the lower wire is a durabl...\n",
       "4       don't go with the over all 4 start rating. thi...\n",
       "                              ...                        \n",
       "1599    quite good sound qualityand had impressively g...\n",
       "1600                                                  osm\n",
       "1601    earphones fits well onto the ears, doesn't blo...\n",
       "1602    sound quality very bad... over all very bad pr...\n",
       "1603    this is only for calls...mic is good...but com...\n",
       "Name: COMMENTS, Length: 1604, dtype: object"
      ]
     },
     "execution_count": 158,
     "metadata": {},
     "output_type": "execute_result"
    }
   ],
   "source": [
    "data.lower()"
   ]
  },
  {
   "cell_type": "code",
   "execution_count": 159,
   "metadata": {},
   "outputs": [
    {
     "data": {
      "text/plain": [
       "0       okay.. skeptical buy tight budget , honest lit...\n",
       "1       earphone worth pay for. design earbud cause pa...\n",
       "2       particularly people sensitive ears, gets ear p...\n",
       "3       built quality 6.5 10the lower wire durable nyl...\n",
       "4       don't 4 start rating. boat brand endorse lot m...\n",
       "                              ...                        \n",
       "1599         good sound qualityand impressively good bass\n",
       "1600                                                  osm\n",
       "1601    earphones fits ears, doesn't block ear outside...\n",
       "1602        sound quality bad... bad product... happy buy\n",
       "1603    calls...mic good...but comfort bad music worst...\n",
       "Name: COMMENTS, Length: 1604, dtype: object"
      ]
     },
     "execution_count": 159,
     "metadata": {},
     "output_type": "execute_result"
    }
   ],
   "source": [
    "data.remove_stop_words()"
   ]
  },
  {
   "cell_type": "code",
   "execution_count": 160,
   "metadata": {},
   "outputs": [
    {
     "data": {
      "text/plain": [
       "0       okay.. skeptical buy tight budget , honest lit...\n",
       "1       earphone worth pay for. design earbud cause pa...\n",
       "2       particularly people sensitive ears, gets ear p...\n",
       "3       built quality . the lower wire durable nylon k...\n",
       "4       don't  start rating. boat brand endorse lot mo...\n",
       "                              ...                        \n",
       "1599         good sound qualityand impressively good bass\n",
       "1600                                                  osm\n",
       "1601    earphones fits ears, doesn't block ear outside...\n",
       "1602        sound quality bad... bad product... happy buy\n",
       "1603    calls...mic good...but comfort bad music worst...\n",
       "Name: COMMENTS, Length: 1604, dtype: object"
      ]
     },
     "execution_count": 160,
     "metadata": {},
     "output_type": "execute_result"
    }
   ],
   "source": [
    "data.remove_digists()"
   ]
  },
  {
   "cell_type": "code",
   "execution_count": 161,
   "metadata": {},
   "outputs": [
    {
     "data": {
      "text/plain": [
       "0       okay skeptical buy tight budget  honest little...\n",
       "1       earphone worth pay for design earbud cause pai...\n",
       "2       particularly people sensitive ears gets ear pa...\n",
       "3       built quality  the lower wire durable nylon kn...\n",
       "4       dont  start rating boat brand endorse lot mone...\n",
       "                              ...                        \n",
       "1599         good sound qualityand impressively good bass\n",
       "1600                                                  osm\n",
       "1601    earphones fits ears doesnt block ear outside s...\n",
       "1602              sound quality bad bad product happy buy\n",
       "1603             callsmic goodbut comfort bad music worst\n",
       "Name: COMMENTS, Length: 1604, dtype: object"
      ]
     },
     "execution_count": 161,
     "metadata": {},
     "output_type": "execute_result"
    }
   ],
   "source": [
    "data.remove_punctuation()"
   ]
  },
  {
   "cell_type": "code",
   "execution_count": 162,
   "metadata": {},
   "outputs": [
    {
     "data": {
      "text/plain": [
       "0       [okay, skeptical, buy, tight, budget, honest, ...\n",
       "1       [earphone, worth, pay, for, design, earbud, ca...\n",
       "2       [particularly, people, sensitive, ears, gets, ...\n",
       "3       [built, quality, the, lower, wire, durable, ny...\n",
       "4       [dont, start, rating, boat, brand, endorse, lo...\n",
       "                              ...                        \n",
       "1599    [good, sound, qualityand, impressively, good, ...\n",
       "1600                                                [osm]\n",
       "1601    [earphones, fits, ears, doesnt, block, ear, ou...\n",
       "1602      [sound, quality, bad, bad, product, happy, buy]\n",
       "1603      [callsmic, goodbut, comfort, bad, music, worst]\n",
       "Name: COMMENTS, Length: 1604, dtype: object"
      ]
     },
     "execution_count": 162,
     "metadata": {},
     "output_type": "execute_result"
    }
   ],
   "source": [
    "data.tokenize()"
   ]
  },
  {
   "cell_type": "code",
   "execution_count": 163,
   "metadata": {},
   "outputs": [
    {
     "data": {
      "text/plain": [
       "0       okay skeptical buy tight budget honest little ...\n",
       "1       earphone worth pay for design earbud cause pai...\n",
       "2       particularly people sensitive ears gets ear pa...\n",
       "3       built quality the lower wire durable nylon kno...\n",
       "4       dont start rating boat brand endorse lot money...\n",
       "                              ...                        \n",
       "1599         good sound qualityand impressively good bass\n",
       "1600                                                  osm\n",
       "1601    earphones fits ears doesnt block ear outside s...\n",
       "1602              sound quality bad bad product happy buy\n",
       "1603             callsmic goodbut comfort bad music worst\n",
       "Name: COMMENTS, Length: 1604, dtype: object"
      ]
     },
     "execution_count": 163,
     "metadata": {},
     "output_type": "execute_result"
    }
   ],
   "source": [
    "data.revert_tokens()"
   ]
  },
  {
   "cell_type": "code",
   "execution_count": 165,
   "metadata": {},
   "outputs": [
    {
     "data": {
      "text/plain": [
       "0       [okay, skeptical, buy, tight, budget, honest, ...\n",
       "1       [earphone, worth, pay, for, design, earbud, ca...\n",
       "2       [particularly, people, sensitive, ears, gets, ...\n",
       "3       [built, quality, the, lower, wire, durable, ny...\n",
       "4       [dont, start, rating, boat, brand, endorse, lo...\n",
       "                              ...                        \n",
       "1599    [good, sound, qualityand, impressively, good, ...\n",
       "1600                                                [osm]\n",
       "1601    [earphones, fits, ears, doesnt, block, ear, ou...\n",
       "1602      [sound, quality, bad, bad, product, happy, buy]\n",
       "1603      [callsmic, goodbut, comfort, bad, music, worst]\n",
       "Name: COMMENTS, Length: 1604, dtype: object"
      ]
     },
     "execution_count": 165,
     "metadata": {},
     "output_type": "execute_result"
    }
   ],
   "source": [
    "data.tokenize()"
   ]
  },
  {
   "cell_type": "code",
   "execution_count": 167,
   "metadata": {},
   "outputs": [
    {
     "data": {
      "text/plain": [
       "0       [okay, skeptical, buy, tight, budget, honest, ...\n",
       "1       [earphone, worth, pay, for, design, earbud, ca...\n",
       "2       [particularly, people, sensitive, ears, gets, ...\n",
       "3       [built, quality, the, lower, wire, durable, ny...\n",
       "4       [dont, start, rating, boat, brand, endorse, lo...\n",
       "                              ...                        \n",
       "1599    [good, sound, qualityand, impressively, good, ...\n",
       "1600                                                [osm]\n",
       "1601    [earphones, fits, ears, doesnt, block, ear, ou...\n",
       "1602      [sound, quality, bad, bad, product, happy, buy]\n",
       "1603      [callsmic, goodbut, comfort, bad, music, worst]\n",
       "Name: COMMENTS, Length: 1604, dtype: object"
      ]
     },
     "execution_count": 167,
     "metadata": {},
     "output_type": "execute_result"
    }
   ],
   "source": [
    "data[:]"
   ]
  },
  {
   "cell_type": "code",
   "execution_count": null,
   "metadata": {},
   "outputs": [],
   "source": []
  }
 ],
 "metadata": {
  "interpreter": {
   "hash": "f5dc7221bd57f443bd21d92d893b3958d3081f94c6c945d5f95188cb4cde5b4f"
  },
  "kernelspec": {
   "display_name": "Python 3.7.5 64-bit",
   "language": "python",
   "name": "python3"
  },
  "language_info": {
   "codemirror_mode": {
    "name": "ipython",
    "version": 3
   },
   "file_extension": ".py",
   "mimetype": "text/x-python",
   "name": "python",
   "nbconvert_exporter": "python",
   "pygments_lexer": "ipython3",
   "version": "3.7.5"
  },
  "orig_nbformat": 4
 },
 "nbformat": 4,
 "nbformat_minor": 2
}
