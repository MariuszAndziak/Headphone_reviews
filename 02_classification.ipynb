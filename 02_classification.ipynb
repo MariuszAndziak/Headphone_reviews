{
 "cells": [
  {
   "cell_type": "markdown",
   "metadata": {},
   "source": [
    "# Headphone dataset review analysis  - Classification #"
   ]
  },
  {
   "cell_type": "markdown",
   "metadata": {},
   "source": [
    "Analyze how customers expressed their feelings about headphones bought through Amazon\n",
    "\n",
    "Different model representations are used as base input for classification models.\n",
    "\n",
    "Data from: https://www.kaggle.com/datasets/mdwaquarazam/headphone-dataset-review-analysis"
   ]
  },
  {
   "cell_type": "markdown",
   "metadata": {},
   "source": [
    "---"
   ]
  },
  {
   "cell_type": "markdown",
   "metadata": {},
   "source": [
    "### ***Imports*** ###"
   ]
  },
  {
   "cell_type": "code",
   "execution_count": 64,
   "metadata": {},
   "outputs": [],
   "source": [
    "import numpy as np\n",
    "import matplotlib.pyplot as plt\n",
    "import pandas as pd\n",
    "\n",
    "import seaborn as sns\n",
    "import importlib\n",
    "\n",
    "import nlp_data_transformations as ndt\n",
    "from sklearn.feature_extraction.text import TfidfVectorizer, CountVectorizer\n",
    "from gensim.models import Word2Vec, Doc2Vec\n",
    "from gensim.models.doc2vec import TaggedDocument\n",
    "from itertools import product\n",
    "import copy"
   ]
  },
  {
   "cell_type": "code",
   "execution_count": 2,
   "metadata": {},
   "outputs": [],
   "source": [
    "df = pd.read_csv('inputs/headphone_datn.csv')"
   ]
  },
  {
   "cell_type": "markdown",
   "metadata": {},
   "source": [
    "### ***Preprocessing*** ###"
   ]
  },
  {
   "cell_type": "code",
   "execution_count": 3,
   "metadata": {},
   "outputs": [],
   "source": [
    "data = ndt.Preprocessing(df['COMMENTS'])"
   ]
  },
  {
   "cell_type": "code",
   "execution_count": 4,
   "metadata": {},
   "outputs": [
    {
     "data": {
      "text/plain": [
       "0       okay.. i was skeptical at first to buy this as...\n",
       "1       the earphone is worth what you pay for. the de...\n",
       "2       particularly for people with sensitive ears, w...\n",
       "3       built quality 6.5 10the lower wire is a durabl...\n",
       "4       don't go with the over all 4 start rating. thi...\n",
       "                              ...                        \n",
       "1599    quite good sound qualityand had impressively g...\n",
       "1600                                                  osm\n",
       "1601    earphones fits well onto the ears, doesn't blo...\n",
       "1602    sound quality very bad... over all very bad pr...\n",
       "1603    this is only for calls...mic is good...but com...\n",
       "Name: COMMENTS, Length: 1604, dtype: object"
      ]
     },
     "execution_count": 4,
     "metadata": {},
     "output_type": "execute_result"
    }
   ],
   "source": [
    "data.lower()"
   ]
  },
  {
   "cell_type": "code",
   "execution_count": 5,
   "metadata": {},
   "outputs": [
    {
     "data": {
      "text/plain": [
       "0       okay.. skeptical buy tight budget , honest lit...\n",
       "1       earphone worth pay for. design earbud cause pa...\n",
       "2       particularly people sensitive ears, gets ear p...\n",
       "3       built quality 6.5 10the lower wire durable nyl...\n",
       "4       don't 4 start rating. boat brand endorse lot m...\n",
       "                              ...                        \n",
       "1599         good sound qualityand impressively good bass\n",
       "1600                                                  osm\n",
       "1601    earphones fits ears, doesn't block ear outside...\n",
       "1602        sound quality bad... bad product... happy buy\n",
       "1603    calls...mic good...but comfort bad music worst...\n",
       "Name: COMMENTS, Length: 1604, dtype: object"
      ]
     },
     "execution_count": 5,
     "metadata": {},
     "output_type": "execute_result"
    }
   ],
   "source": [
    "data.remove_stop_words()"
   ]
  },
  {
   "cell_type": "code",
   "execution_count": 6,
   "metadata": {},
   "outputs": [
    {
     "data": {
      "text/plain": [
       "0       okay.. skeptical buy tight budget , honest lit...\n",
       "1       earphone worth pay for. design earbud cause pa...\n",
       "2       particularly people sensitive ears, gets ear p...\n",
       "3       built quality . the lower wire durable nylon k...\n",
       "4       don't  start rating. boat brand endorse lot mo...\n",
       "                              ...                        \n",
       "1599         good sound qualityand impressively good bass\n",
       "1600                                                  osm\n",
       "1601    earphones fits ears, doesn't block ear outside...\n",
       "1602        sound quality bad... bad product... happy buy\n",
       "1603    calls...mic good...but comfort bad music worst...\n",
       "Name: COMMENTS, Length: 1604, dtype: object"
      ]
     },
     "execution_count": 6,
     "metadata": {},
     "output_type": "execute_result"
    }
   ],
   "source": [
    "data.remove_digists()"
   ]
  },
  {
   "cell_type": "code",
   "execution_count": 7,
   "metadata": {},
   "outputs": [
    {
     "data": {
      "text/plain": [
       "0       okay skeptical buy tight budget  honest little...\n",
       "1       earphone worth pay for design earbud cause pai...\n",
       "2       particularly people sensitive ears gets ear pa...\n",
       "3       built quality  the lower wire durable nylon kn...\n",
       "4       dont  start rating boat brand endorse lot mone...\n",
       "                              ...                        \n",
       "1599         good sound qualityand impressively good bass\n",
       "1600                                                  osm\n",
       "1601    earphones fits ears doesnt block ear outside s...\n",
       "1602              sound quality bad bad product happy buy\n",
       "1603             callsmic goodbut comfort bad music worst\n",
       "Name: COMMENTS, Length: 1604, dtype: object"
      ]
     },
     "execution_count": 7,
     "metadata": {},
     "output_type": "execute_result"
    }
   ],
   "source": [
    "data.remove_punctuation()"
   ]
  },
  {
   "cell_type": "code",
   "execution_count": 8,
   "metadata": {},
   "outputs": [],
   "source": [
    "data_tokens = copy.deepcopy(data)"
   ]
  },
  {
   "cell_type": "code",
   "execution_count": 9,
   "metadata": {},
   "outputs": [
    {
     "data": {
      "text/plain": [
       "0       [okay, skeptical, buy, tight, budget, honest, ...\n",
       "1       [earphone, worth, pay, for, design, earbud, ca...\n",
       "2       [particularly, people, sensitive, ears, gets, ...\n",
       "3       [built, quality, the, lower, wire, durable, ny...\n",
       "4       [dont, start, rating, boat, brand, endorse, lo...\n",
       "                              ...                        \n",
       "1599    [good, sound, qualityand, impressively, good, ...\n",
       "1600                                                [osm]\n",
       "1601    [earphones, fits, ears, doesnt, block, ear, ou...\n",
       "1602      [sound, quality, bad, bad, product, happy, buy]\n",
       "1603      [callsmic, goodbut, comfort, bad, music, worst]\n",
       "Name: COMMENTS, Length: 1604, dtype: object"
      ]
     },
     "execution_count": 9,
     "metadata": {},
     "output_type": "execute_result"
    }
   ],
   "source": [
    "data_tokens.tokenize()"
   ]
  },
  {
   "cell_type": "markdown",
   "metadata": {},
   "source": [
    "### ***Text repressentations*** ###"
   ]
  },
  {
   "cell_type": "code",
   "execution_count": 10,
   "metadata": {},
   "outputs": [],
   "source": [
    "representations = []"
   ]
  },
  {
   "cell_type": "markdown",
   "metadata": {},
   "source": [
    "#### ***Most common tokens*** ####"
   ]
  },
  {
   "cell_type": "code",
   "execution_count": 11,
   "metadata": {},
   "outputs": [
    {
     "data": {
      "text/html": [
       "<div>\n",
       "<style scoped>\n",
       "    .dataframe tbody tr th:only-of-type {\n",
       "        vertical-align: middle;\n",
       "    }\n",
       "\n",
       "    .dataframe tbody tr th {\n",
       "        vertical-align: top;\n",
       "    }\n",
       "\n",
       "    .dataframe thead th {\n",
       "        text-align: right;\n",
       "    }\n",
       "</style>\n",
       "<table border=\"1\" class=\"dataframe\">\n",
       "  <thead>\n",
       "    <tr style=\"text-align: right;\">\n",
       "      <th></th>\n",
       "      <th>good</th>\n",
       "      <th>quality</th>\n",
       "      <th>sound</th>\n",
       "      <th>product</th>\n",
       "      <th>bass</th>\n",
       "      <th>ear</th>\n",
       "      <th>working</th>\n",
       "      <th>boat</th>\n",
       "      <th>price</th>\n",
       "      <th>earphones</th>\n",
       "    </tr>\n",
       "  </thead>\n",
       "  <tbody>\n",
       "    <tr>\n",
       "      <th>0</th>\n",
       "      <td>0</td>\n",
       "      <td>0</td>\n",
       "      <td>1</td>\n",
       "      <td>1</td>\n",
       "      <td>0</td>\n",
       "      <td>0</td>\n",
       "      <td>0</td>\n",
       "      <td>0</td>\n",
       "      <td>0</td>\n",
       "      <td>0</td>\n",
       "    </tr>\n",
       "    <tr>\n",
       "      <th>1</th>\n",
       "      <td>0</td>\n",
       "      <td>0</td>\n",
       "      <td>1</td>\n",
       "      <td>0</td>\n",
       "      <td>1</td>\n",
       "      <td>0</td>\n",
       "      <td>0</td>\n",
       "      <td>0</td>\n",
       "      <td>0</td>\n",
       "      <td>0</td>\n",
       "    </tr>\n",
       "    <tr>\n",
       "      <th>2</th>\n",
       "      <td>1</td>\n",
       "      <td>0</td>\n",
       "      <td>0</td>\n",
       "      <td>0</td>\n",
       "      <td>0</td>\n",
       "      <td>1</td>\n",
       "      <td>0</td>\n",
       "      <td>0</td>\n",
       "      <td>0</td>\n",
       "      <td>0</td>\n",
       "    </tr>\n",
       "    <tr>\n",
       "      <th>3</th>\n",
       "      <td>1</td>\n",
       "      <td>1</td>\n",
       "      <td>1</td>\n",
       "      <td>1</td>\n",
       "      <td>1</td>\n",
       "      <td>1</td>\n",
       "      <td>0</td>\n",
       "      <td>1</td>\n",
       "      <td>1</td>\n",
       "      <td>1</td>\n",
       "    </tr>\n",
       "    <tr>\n",
       "      <th>4</th>\n",
       "      <td>1</td>\n",
       "      <td>0</td>\n",
       "      <td>0</td>\n",
       "      <td>1</td>\n",
       "      <td>1</td>\n",
       "      <td>0</td>\n",
       "      <td>0</td>\n",
       "      <td>1</td>\n",
       "      <td>0</td>\n",
       "      <td>0</td>\n",
       "    </tr>\n",
       "    <tr>\n",
       "      <th>...</th>\n",
       "      <td>...</td>\n",
       "      <td>...</td>\n",
       "      <td>...</td>\n",
       "      <td>...</td>\n",
       "      <td>...</td>\n",
       "      <td>...</td>\n",
       "      <td>...</td>\n",
       "      <td>...</td>\n",
       "      <td>...</td>\n",
       "      <td>...</td>\n",
       "    </tr>\n",
       "    <tr>\n",
       "      <th>1599</th>\n",
       "      <td>1</td>\n",
       "      <td>0</td>\n",
       "      <td>1</td>\n",
       "      <td>0</td>\n",
       "      <td>1</td>\n",
       "      <td>0</td>\n",
       "      <td>0</td>\n",
       "      <td>0</td>\n",
       "      <td>0</td>\n",
       "      <td>0</td>\n",
       "    </tr>\n",
       "    <tr>\n",
       "      <th>1600</th>\n",
       "      <td>0</td>\n",
       "      <td>0</td>\n",
       "      <td>0</td>\n",
       "      <td>0</td>\n",
       "      <td>0</td>\n",
       "      <td>0</td>\n",
       "      <td>0</td>\n",
       "      <td>0</td>\n",
       "      <td>0</td>\n",
       "      <td>0</td>\n",
       "    </tr>\n",
       "    <tr>\n",
       "      <th>1601</th>\n",
       "      <td>0</td>\n",
       "      <td>0</td>\n",
       "      <td>0</td>\n",
       "      <td>0</td>\n",
       "      <td>0</td>\n",
       "      <td>1</td>\n",
       "      <td>0</td>\n",
       "      <td>0</td>\n",
       "      <td>1</td>\n",
       "      <td>1</td>\n",
       "    </tr>\n",
       "    <tr>\n",
       "      <th>1602</th>\n",
       "      <td>0</td>\n",
       "      <td>1</td>\n",
       "      <td>1</td>\n",
       "      <td>1</td>\n",
       "      <td>0</td>\n",
       "      <td>0</td>\n",
       "      <td>0</td>\n",
       "      <td>0</td>\n",
       "      <td>0</td>\n",
       "      <td>0</td>\n",
       "    </tr>\n",
       "    <tr>\n",
       "      <th>1603</th>\n",
       "      <td>0</td>\n",
       "      <td>0</td>\n",
       "      <td>0</td>\n",
       "      <td>0</td>\n",
       "      <td>0</td>\n",
       "      <td>0</td>\n",
       "      <td>0</td>\n",
       "      <td>0</td>\n",
       "      <td>0</td>\n",
       "      <td>0</td>\n",
       "    </tr>\n",
       "  </tbody>\n",
       "</table>\n",
       "<p>1604 rows × 10 columns</p>\n",
       "</div>"
      ],
      "text/plain": [
       "      good  quality  sound  product  bass  ear  working  boat  price  \\\n",
       "0        0        0      1        1     0    0        0     0      0   \n",
       "1        0        0      1        0     1    0        0     0      0   \n",
       "2        1        0      0        0     0    1        0     0      0   \n",
       "3        1        1      1        1     1    1        0     1      1   \n",
       "4        1        0      0        1     1    0        0     1      0   \n",
       "...    ...      ...    ...      ...   ...  ...      ...   ...    ...   \n",
       "1599     1        0      1        0     1    0        0     0      0   \n",
       "1600     0        0      0        0     0    0        0     0      0   \n",
       "1601     0        0      0        0     0    1        0     0      1   \n",
       "1602     0        1      1        1     0    0        0     0      0   \n",
       "1603     0        0      0        0     0    0        0     0      0   \n",
       "\n",
       "      earphones  \n",
       "0             0  \n",
       "1             0  \n",
       "2             0  \n",
       "3             1  \n",
       "4             0  \n",
       "...         ...  \n",
       "1599          0  \n",
       "1600          0  \n",
       "1601          1  \n",
       "1602          0  \n",
       "1603          0  \n",
       "\n",
       "[1604 rows x 10 columns]"
      ]
     },
     "execution_count": 11,
     "metadata": {},
     "output_type": "execute_result"
    }
   ],
   "source": [
    "ndt.most_common_tokens(data_tokens[:], 10)"
   ]
  },
  {
   "cell_type": "code",
   "execution_count": 12,
   "metadata": {},
   "outputs": [],
   "source": [
    "top_most_common_tokens = [5, 10, 20, 50]\n",
    "for top in top_most_common_tokens:\n",
    "    representations.append((f'most_common_tokens_{top}', ndt.most_common_tokens(data_tokens[:], top).to_numpy()))"
   ]
  },
  {
   "cell_type": "markdown",
   "metadata": {},
   "source": [
    "#### ***Vectorizers*** ####"
   ]
  },
  {
   "cell_type": "code",
   "execution_count": 13,
   "metadata": {},
   "outputs": [],
   "source": [
    "vectorizers_list = [CountVectorizer, TfidfVectorizer]\n",
    "min_df_list = [0.01, 0.1, 1]\n",
    "max_df_list = [0.3, 0.5, 1.0]\n",
    "max_features_list = [300, 500, 100]"
   ]
  },
  {
   "cell_type": "code",
   "execution_count": null,
   "metadata": {},
   "outputs": [],
   "source": []
  },
  {
   "cell_type": "code",
   "execution_count": 14,
   "metadata": {},
   "outputs": [
    {
     "name": "stdout",
     "output_type": "stream",
     "text": [
      "{'min_df': 0.01, 'max_df': 0.3, 'max_features': 300}\n",
      "{'min_df': 0.01, 'max_df': 0.3, 'max_features': 500}\n",
      "{'min_df': 0.01, 'max_df': 0.3, 'max_features': 100}\n",
      "{'min_df': 0.01, 'max_df': 0.5, 'max_features': 300}\n",
      "{'min_df': 0.01, 'max_df': 0.5, 'max_features': 500}\n",
      "{'min_df': 0.01, 'max_df': 0.5, 'max_features': 100}\n",
      "{'min_df': 0.01, 'max_df': 1.0, 'max_features': 300}\n",
      "{'min_df': 0.01, 'max_df': 1.0, 'max_features': 500}\n",
      "{'min_df': 0.01, 'max_df': 1.0, 'max_features': 100}\n",
      "{'min_df': 0.1, 'max_df': 0.3, 'max_features': 300}\n",
      "{'min_df': 0.1, 'max_df': 0.3, 'max_features': 500}\n",
      "{'min_df': 0.1, 'max_df': 0.3, 'max_features': 100}\n",
      "{'min_df': 0.1, 'max_df': 0.5, 'max_features': 300}\n",
      "{'min_df': 0.1, 'max_df': 0.5, 'max_features': 500}\n",
      "{'min_df': 0.1, 'max_df': 0.5, 'max_features': 100}\n",
      "{'min_df': 0.1, 'max_df': 1.0, 'max_features': 300}\n",
      "{'min_df': 0.1, 'max_df': 1.0, 'max_features': 500}\n",
      "{'min_df': 0.1, 'max_df': 1.0, 'max_features': 100}\n",
      "{'min_df': 1, 'max_df': 0.3, 'max_features': 300}\n",
      "{'min_df': 1, 'max_df': 0.3, 'max_features': 500}\n",
      "{'min_df': 1, 'max_df': 0.3, 'max_features': 100}\n",
      "{'min_df': 1, 'max_df': 0.5, 'max_features': 300}\n",
      "{'min_df': 1, 'max_df': 0.5, 'max_features': 500}\n",
      "{'min_df': 1, 'max_df': 0.5, 'max_features': 100}\n",
      "{'min_df': 1, 'max_df': 1.0, 'max_features': 300}\n",
      "{'min_df': 1, 'max_df': 1.0, 'max_features': 500}\n",
      "{'min_df': 1, 'max_df': 1.0, 'max_features': 100}\n",
      "{'min_df': 0.01, 'max_df': 0.3, 'max_features': 300}\n",
      "{'min_df': 0.01, 'max_df': 0.3, 'max_features': 500}\n",
      "{'min_df': 0.01, 'max_df': 0.3, 'max_features': 100}\n",
      "{'min_df': 0.01, 'max_df': 0.5, 'max_features': 300}\n",
      "{'min_df': 0.01, 'max_df': 0.5, 'max_features': 500}\n",
      "{'min_df': 0.01, 'max_df': 0.5, 'max_features': 100}\n",
      "{'min_df': 0.01, 'max_df': 1.0, 'max_features': 300}\n",
      "{'min_df': 0.01, 'max_df': 1.0, 'max_features': 500}\n",
      "{'min_df': 0.01, 'max_df': 1.0, 'max_features': 100}\n",
      "{'min_df': 0.1, 'max_df': 0.3, 'max_features': 300}\n",
      "{'min_df': 0.1, 'max_df': 0.3, 'max_features': 500}\n",
      "{'min_df': 0.1, 'max_df': 0.3, 'max_features': 100}\n",
      "{'min_df': 0.1, 'max_df': 0.5, 'max_features': 300}\n",
      "{'min_df': 0.1, 'max_df': 0.5, 'max_features': 500}\n",
      "{'min_df': 0.1, 'max_df': 0.5, 'max_features': 100}\n",
      "{'min_df': 0.1, 'max_df': 1.0, 'max_features': 300}\n",
      "{'min_df': 0.1, 'max_df': 1.0, 'max_features': 500}\n",
      "{'min_df': 0.1, 'max_df': 1.0, 'max_features': 100}\n",
      "{'min_df': 1, 'max_df': 0.3, 'max_features': 300}\n",
      "{'min_df': 1, 'max_df': 0.3, 'max_features': 500}\n",
      "{'min_df': 1, 'max_df': 0.3, 'max_features': 100}\n",
      "{'min_df': 1, 'max_df': 0.5, 'max_features': 300}\n",
      "{'min_df': 1, 'max_df': 0.5, 'max_features': 500}\n",
      "{'min_df': 1, 'max_df': 0.5, 'max_features': 100}\n",
      "{'min_df': 1, 'max_df': 1.0, 'max_features': 300}\n",
      "{'min_df': 1, 'max_df': 1.0, 'max_features': 500}\n",
      "{'min_df': 1, 'max_df': 1.0, 'max_features': 100}\n"
     ]
    }
   ],
   "source": [
    "for n, (Vectorizer, min_df, max_df, max_features) in \\\n",
    "    enumerate(product(vectorizers_list, min_df_list, max_df_list, max_features_list)):\n",
    "        vectorizer_kwargs = {'min_df':min_df, 'max_df':max_df, 'max_features': max_features}\n",
    "        embeddings = ndt.use_vectorizer(data[:], Vectorizer, vectorizer_kwargs)\n",
    "        print(vectorizer_kwargs)"
   ]
  },
  {
   "cell_type": "code",
   "execution_count": 15,
   "metadata": {},
   "outputs": [
    {
     "data": {
      "text/plain": [
       "array([[0.        , 0.        , 0.        , ..., 0.        , 0.        ,\n",
       "        0.        ],\n",
       "       [0.        , 0.        , 0.        , ..., 0.        , 0.        ,\n",
       "        0.27970441],\n",
       "       [0.        , 0.        , 0.        , ..., 0.        , 0.        ,\n",
       "        0.        ],\n",
       "       ...,\n",
       "       [0.        , 0.        , 0.        , ..., 0.        , 0.        ,\n",
       "        0.        ],\n",
       "       [0.        , 0.        , 0.        , ..., 0.        , 0.        ,\n",
       "        0.        ],\n",
       "       [0.        , 0.        , 0.        , ..., 0.        , 0.61272165,\n",
       "        0.        ]])"
      ]
     },
     "execution_count": 15,
     "metadata": {},
     "output_type": "execute_result"
    }
   ],
   "source": []
  },
  {
   "cell_type": "markdown",
   "metadata": {},
   "source": [
    "#### ***Word2Vec*** ####"
   ]
  },
  {
   "cell_type": "code",
   "execution_count": 67,
   "metadata": {},
   "outputs": [
    {
     "name": "stderr",
     "output_type": "stream",
     "text": [
      "c:\\Users\\mariu\\AppData\\Local\\Programs\\Python\\Python37\\lib\\site-packages\\numpy\\core\\fromnumeric.py:3420: RuntimeWarning: Mean of empty slice.\n",
      "  out=out, **kwargs)\n",
      "c:\\Users\\mariu\\AppData\\Local\\Programs\\Python\\Python37\\lib\\site-packages\\numpy\\core\\_methods.py:188: RuntimeWarning: invalid value encountered in double_scalars\n",
      "  ret = ret.dtype.type(ret / rcount)\n"
     ]
    },
    {
     "data": {
      "text/plain": [
       "array([[ 0.07245913, -0.10201433, -0.09310213, ...,  0.10923203,\n",
       "         0.09103949, -0.07374188],\n",
       "       [ 0.06186942, -0.08502579, -0.07767051, ...,  0.0908356 ,\n",
       "         0.07667576, -0.06243226],\n",
       "       [ 0.07311751, -0.10194395, -0.09358924, ...,  0.10963823,\n",
       "         0.09055211, -0.07266089],\n",
       "       ...,\n",
       "       [ 0.07827283, -0.10855212, -0.09853151, ...,  0.11672531,\n",
       "         0.09624936, -0.07718303],\n",
       "       [ 0.08094943, -0.11417437, -0.10395207, ...,  0.12159872,\n",
       "         0.10113773, -0.08214863],\n",
       "       [ 0.05016395, -0.06951857, -0.06385238, ...,  0.07266359,\n",
       "         0.0616712 , -0.04873827]], dtype=float32)"
      ]
     },
     "execution_count": 67,
     "metadata": {},
     "output_type": "execute_result"
    }
   ],
   "source": [
    "model = Word2Vec(data_tokens[:], window = 3, size = 150)\n",
    "ndt.use_word2vec_model(model, data_tokens[:])"
   ]
  },
  {
   "cell_type": "markdown",
   "metadata": {},
   "source": [
    "#### ***Doc2Vec*** ####"
   ]
  },
  {
   "cell_type": "code",
   "execution_count": 77,
   "metadata": {},
   "outputs": [],
   "source": [
    "tagged_doccs = ndt.use_doc2vec_model(data_tokens[:])"
   ]
  },
  {
   "cell_type": "code",
   "execution_count": null,
   "metadata": {},
   "outputs": [],
   "source": [
    "Doc2Vec(tagged_doccs)"
   ]
  },
  {
   "cell_type": "code",
   "execution_count": null,
   "metadata": {},
   "outputs": [],
   "source": []
  }
 ],
 "metadata": {
  "interpreter": {
   "hash": "f5dc7221bd57f443bd21d92d893b3958d3081f94c6c945d5f95188cb4cde5b4f"
  },
  "kernelspec": {
   "display_name": "Python 3.7.5 64-bit",
   "language": "python",
   "name": "python3"
  },
  "language_info": {
   "codemirror_mode": {
    "name": "ipython",
    "version": 3
   },
   "file_extension": ".py",
   "mimetype": "text/x-python",
   "name": "python",
   "nbconvert_exporter": "python",
   "pygments_lexer": "ipython3",
   "version": "3.7.5"
  },
  "orig_nbformat": 4
 },
 "nbformat": 4,
 "nbformat_minor": 2
}
