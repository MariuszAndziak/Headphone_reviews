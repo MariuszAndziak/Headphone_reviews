{
 "cells": [
  {
   "cell_type": "markdown",
   "metadata": {},
   "source": [
    "# Headphone dataset review analysis #"
   ]
  },
  {
   "cell_type": "markdown",
   "metadata": {},
   "source": [
    "Analyze how customers expressed their feelings about headphones bought through Amazon\n",
    "\n",
    "Full conclusions from explanatory data analysis are provided at the bottom of the notebook. \n",
    "\n",
    "Data from: https://www.kaggle.com/datasets/mdwaquarazam/headphone-dataset-review-analysis"
   ]
  },
  {
   "cell_type": "markdown",
   "metadata": {},
   "source": [
    "---"
   ]
  },
  {
   "cell_type": "markdown",
   "metadata": {},
   "source": [
    "### ***Imports*** ###"
   ]
  },
  {
   "cell_type": "code",
   "execution_count": 94,
   "metadata": {},
   "outputs": [],
   "source": [
    "import numpy as np\n",
    "import matplotlib.pyplot as plt\n",
    "import pandas as pd\n",
    "\n",
    "from wordcloud import WordCloud, ImageColorGenerator\n",
    "\n",
    "from spacy.lang.en.stop_words import STOP_WORDS\n",
    "import string\n",
    "from PIL import Image\n",
    "from collections import Counter\n",
    "from sklearn.feature_extraction.text import CountVectorizer\n",
    "\n",
    "import seaborn as sns\n",
    "import nltk\n",
    "from nltk.tokenize import sent_tokenize"
   ]
  },
  {
   "cell_type": "code",
   "execution_count": 2,
   "metadata": {},
   "outputs": [],
   "source": [
    "# Set of colors to use in plots\n",
    "plt.style.use('ggplot')\n",
    "cycle_colors = plt.rcParams['axes.prop_cycle'].by_key()['color']"
   ]
  },
  {
   "cell_type": "code",
   "execution_count": 3,
   "metadata": {},
   "outputs": [],
   "source": [
    "%matplotlib inline"
   ]
  },
  {
   "cell_type": "markdown",
   "metadata": {},
   "source": [
    "---"
   ]
  },
  {
   "cell_type": "markdown",
   "metadata": {},
   "source": [
    "### ***General data profiling*** ###"
   ]
  },
  {
   "cell_type": "code",
   "execution_count": 4,
   "metadata": {},
   "outputs": [],
   "source": [
    "df = pd.read_csv('inputs/headphone_datn.csv')"
   ]
  },
  {
   "cell_type": "code",
   "execution_count": 5,
   "metadata": {},
   "outputs": [
    {
     "data": {
      "text/html": [
       "<div>\n",
       "<style scoped>\n",
       "    .dataframe tbody tr th:only-of-type {\n",
       "        vertical-align: middle;\n",
       "    }\n",
       "\n",
       "    .dataframe tbody tr th {\n",
       "        vertical-align: top;\n",
       "    }\n",
       "\n",
       "    .dataframe thead th {\n",
       "        text-align: right;\n",
       "    }\n",
       "</style>\n",
       "<table border=\"1\" class=\"dataframe\">\n",
       "  <thead>\n",
       "    <tr style=\"text-align: right;\">\n",
       "      <th></th>\n",
       "      <th>Customer_Name</th>\n",
       "      <th>REVIEW_TITLE</th>\n",
       "      <th>Color</th>\n",
       "      <th>REVIEW_DATE</th>\n",
       "      <th>COMMENTS</th>\n",
       "      <th>RATINGS</th>\n",
       "    </tr>\n",
       "  </thead>\n",
       "  <tbody>\n",
       "    <tr>\n",
       "      <th>0</th>\n",
       "      <td>Ramdika</td>\n",
       "      <td>Really Exceed my expectation.</td>\n",
       "      <td>Black</td>\n",
       "      <td>30-May-21</td>\n",
       "      <td>Okay.. I was skeptical at first to buy this as...</td>\n",
       "      <td>5</td>\n",
       "    </tr>\n",
       "    <tr>\n",
       "      <th>1</th>\n",
       "      <td>Sachin AK</td>\n",
       "      <td>Great for a change from inear buds</td>\n",
       "      <td>Black</td>\n",
       "      <td>01-Jun-21</td>\n",
       "      <td>The earphone is worth what you pay for. The de...</td>\n",
       "      <td>5</td>\n",
       "    </tr>\n",
       "    <tr>\n",
       "      <th>2</th>\n",
       "      <td>Manikandan Raj</td>\n",
       "      <td>For people with sensitive ears</td>\n",
       "      <td>Black</td>\n",
       "      <td>05-Sep-21</td>\n",
       "      <td>Particularly for people with sensitive ears, w...</td>\n",
       "      <td>4</td>\n",
       "    </tr>\n",
       "    <tr>\n",
       "      <th>3</th>\n",
       "      <td>Reviewguy</td>\n",
       "      <td>I tested it for a week and here's a detailed r...</td>\n",
       "      <td>Iguana</td>\n",
       "      <td>11-Sep-21</td>\n",
       "      <td>Built Quality 6.5 10The lower wire is a durabl...</td>\n",
       "      <td>4</td>\n",
       "    </tr>\n",
       "    <tr>\n",
       "      <th>4</th>\n",
       "      <td>Sridhar Sarkar</td>\n",
       "      <td>Not a good headphone</td>\n",
       "      <td>Iguana</td>\n",
       "      <td>26-Jun-21</td>\n",
       "      <td>Don't go with the over all 4 start rating. Thi...</td>\n",
       "      <td>2</td>\n",
       "    </tr>\n",
       "  </tbody>\n",
       "</table>\n",
       "</div>"
      ],
      "text/plain": [
       "    Customer_Name                                       REVIEW_TITLE   Color  \\\n",
       "0         Ramdika                      Really Exceed my expectation.   Black   \n",
       "1       Sachin AK                 Great for a change from inear buds   Black   \n",
       "2  Manikandan Raj                     For people with sensitive ears   Black   \n",
       "3       Reviewguy  I tested it for a week and here's a detailed r...  Iguana   \n",
       "4  Sridhar Sarkar                               Not a good headphone  Iguana   \n",
       "\n",
       "  REVIEW_DATE                                           COMMENTS  RATINGS  \n",
       "0   30-May-21  Okay.. I was skeptical at first to buy this as...        5  \n",
       "1   01-Jun-21  The earphone is worth what you pay for. The de...        5  \n",
       "2   05-Sep-21  Particularly for people with sensitive ears, w...        4  \n",
       "3   11-Sep-21  Built Quality 6.5 10The lower wire is a durabl...        4  \n",
       "4   26-Jun-21  Don't go with the over all 4 start rating. Thi...        2  "
      ]
     },
     "execution_count": 5,
     "metadata": {},
     "output_type": "execute_result"
    }
   ],
   "source": [
    "df.head(5) # preview data"
   ]
  },
  {
   "cell_type": "code",
   "execution_count": 6,
   "metadata": {},
   "outputs": [
    {
     "data": {
      "text/plain": [
       "(1604, 6)"
      ]
     },
     "execution_count": 6,
     "metadata": {},
     "output_type": "execute_result"
    }
   ],
   "source": [
    "df.shape # how many observations and features are there"
   ]
  },
  {
   "cell_type": "code",
   "execution_count": 7,
   "metadata": {},
   "outputs": [
    {
     "data": {
      "text/plain": [
       "Customer_Name     0\n",
       "REVIEW_TITLE     10\n",
       "Color             0\n",
       "REVIEW_DATE       0\n",
       "COMMENTS         58\n",
       "RATINGS           0\n",
       "dtype: int64"
      ]
     },
     "execution_count": 7,
     "metadata": {},
     "output_type": "execute_result"
    }
   ],
   "source": [
    "df.isna().sum() # how many empty string are there"
   ]
  },
  {
   "cell_type": "code",
   "execution_count": 8,
   "metadata": {},
   "outputs": [
    {
     "data": {
      "text/html": [
       "<div>\n",
       "<style scoped>\n",
       "    .dataframe tbody tr th:only-of-type {\n",
       "        vertical-align: middle;\n",
       "    }\n",
       "\n",
       "    .dataframe tbody tr th {\n",
       "        vertical-align: top;\n",
       "    }\n",
       "\n",
       "    .dataframe thead th {\n",
       "        text-align: right;\n",
       "    }\n",
       "</style>\n",
       "<table border=\"1\" class=\"dataframe\">\n",
       "  <thead>\n",
       "    <tr style=\"text-align: right;\">\n",
       "      <th></th>\n",
       "      <th>Customer_Name</th>\n",
       "      <th>REVIEW_TITLE</th>\n",
       "      <th>Color</th>\n",
       "      <th>REVIEW_DATE</th>\n",
       "      <th>COMMENTS</th>\n",
       "      <th>RATINGS</th>\n",
       "    </tr>\n",
       "  </thead>\n",
       "  <tbody>\n",
       "    <tr>\n",
       "      <th>807</th>\n",
       "      <td>janak baldaniya</td>\n",
       "      <td>NaN</td>\n",
       "      <td>Spirit Lime</td>\n",
       "      <td>03-Jan-22</td>\n",
       "      <td>NaN</td>\n",
       "      <td>4</td>\n",
       "    </tr>\n",
       "    <tr>\n",
       "      <th>1535</th>\n",
       "      <td>SANTHOSH</td>\n",
       "      <td>NaN</td>\n",
       "      <td>Blue</td>\n",
       "      <td>04-Oct-21</td>\n",
       "      <td>NaN</td>\n",
       "      <td>4</td>\n",
       "    </tr>\n",
       "  </tbody>\n",
       "</table>\n",
       "</div>"
      ],
      "text/plain": [
       "        Customer_Name REVIEW_TITLE        Color REVIEW_DATE COMMENTS  RATINGS\n",
       "807   janak baldaniya          NaN  Spirit Lime   03-Jan-22      NaN        4\n",
       "1535         SANTHOSH          NaN         Blue   04-Oct-21      NaN        4"
      ]
     },
     "execution_count": 8,
     "metadata": {},
     "output_type": "execute_result"
    }
   ],
   "source": [
    "# show observations with an empty comment and an empty review title\n",
    "df[df['COMMENTS'].isna() & df['REVIEW_TITLE'].isna()] "
   ]
  },
  {
   "cell_type": "code",
   "execution_count": 9,
   "metadata": {},
   "outputs": [
    {
     "data": {
      "text/html": [
       "<div>\n",
       "<style scoped>\n",
       "    .dataframe tbody tr th:only-of-type {\n",
       "        vertical-align: middle;\n",
       "    }\n",
       "\n",
       "    .dataframe tbody tr th {\n",
       "        vertical-align: top;\n",
       "    }\n",
       "\n",
       "    .dataframe thead th {\n",
       "        text-align: right;\n",
       "    }\n",
       "</style>\n",
       "<table border=\"1\" class=\"dataframe\">\n",
       "  <thead>\n",
       "    <tr style=\"text-align: right;\">\n",
       "      <th></th>\n",
       "      <th>Customer_Name</th>\n",
       "      <th>REVIEW_TITLE</th>\n",
       "      <th>Color</th>\n",
       "      <th>REVIEW_DATE</th>\n",
       "      <th>COMMENTS</th>\n",
       "      <th>RATINGS</th>\n",
       "    </tr>\n",
       "  </thead>\n",
       "  <tbody>\n",
       "    <tr>\n",
       "      <th>345</th>\n",
       "      <td>g.pradeep kumar</td>\n",
       "      <td>Simple and stylish</td>\n",
       "      <td>Black</td>\n",
       "      <td>13-Jun-21</td>\n",
       "      <td>NaN</td>\n",
       "      <td>5</td>\n",
       "    </tr>\n",
       "    <tr>\n",
       "      <th>531</th>\n",
       "      <td>chandana</td>\n",
       "      <td>Mic not working after month</td>\n",
       "      <td>White</td>\n",
       "      <td>01-Jan-22</td>\n",
       "      <td>NaN</td>\n",
       "      <td>1</td>\n",
       "    </tr>\n",
       "    <tr>\n",
       "      <th>635</th>\n",
       "      <td>Pooja Rane</td>\n",
       "      <td>Good Sound Quality</td>\n",
       "      <td>White</td>\n",
       "      <td>10-Jan-22</td>\n",
       "      <td>NaN</td>\n",
       "      <td>5</td>\n",
       "    </tr>\n",
       "    <tr>\n",
       "      <th>716</th>\n",
       "      <td>Amazon Customer</td>\n",
       "      <td>Good</td>\n",
       "      <td>Spirit Lime</td>\n",
       "      <td>09-Dec-21</td>\n",
       "      <td>NaN</td>\n",
       "      <td>5</td>\n",
       "    </tr>\n",
       "    <tr>\n",
       "      <th>746</th>\n",
       "      <td>Abhra Kanti Mukherjee</td>\n",
       "      <td>Comfortable and efficient</td>\n",
       "      <td>Iguana</td>\n",
       "      <td>09-Jan-22</td>\n",
       "      <td>NaN</td>\n",
       "      <td>5</td>\n",
       "    </tr>\n",
       "    <tr>\n",
       "      <th>807</th>\n",
       "      <td>janak baldaniya</td>\n",
       "      <td>NaN</td>\n",
       "      <td>Spirit Lime</td>\n",
       "      <td>03-Jan-22</td>\n",
       "      <td>NaN</td>\n",
       "      <td>4</td>\n",
       "    </tr>\n",
       "    <tr>\n",
       "      <th>828</th>\n",
       "      <td>Unnati</td>\n",
       "      <td>Loved these earphones.</td>\n",
       "      <td>Iguana</td>\n",
       "      <td>08-Nov-21</td>\n",
       "      <td>NaN</td>\n",
       "      <td>5</td>\n",
       "    </tr>\n",
       "    <tr>\n",
       "      <th>882</th>\n",
       "      <td>rajesh kumar</td>\n",
       "      <td>Voice cals not working</td>\n",
       "      <td>Blue</td>\n",
       "      <td>17-Nov-21</td>\n",
       "      <td>NaN</td>\n",
       "      <td>1</td>\n",
       "    </tr>\n",
       "    <tr>\n",
       "      <th>903</th>\n",
       "      <td>Rony J Gharami</td>\n",
       "      <td>Money valued product at low cost.</td>\n",
       "      <td>Spirit Lime</td>\n",
       "      <td>08-Nov-21</td>\n",
       "      <td>NaN</td>\n",
       "      <td>4</td>\n",
       "    </tr>\n",
       "    <tr>\n",
       "      <th>983</th>\n",
       "      <td>Sai Sharvani</td>\n",
       "      <td>Awesome Sound Quality worth buying it .</td>\n",
       "      <td>White</td>\n",
       "      <td>05-May-22</td>\n",
       "      <td>NaN</td>\n",
       "      <td>5</td>\n",
       "    </tr>\n",
       "    <tr>\n",
       "      <th>1085</th>\n",
       "      <td>sagar</td>\n",
       "      <td>Worst product. There is no rubber protector fo...</td>\n",
       "      <td>White</td>\n",
       "      <td>05-Mar-22</td>\n",
       "      <td>NaN</td>\n",
       "      <td>1</td>\n",
       "    </tr>\n",
       "    <tr>\n",
       "      <th>1090</th>\n",
       "      <td>Kochi Mastan</td>\n",
       "      <td>Was really happy with this product but ot stop...</td>\n",
       "      <td>Spirit Lime</td>\n",
       "      <td>08-Oct-21</td>\n",
       "      <td>NaN</td>\n",
       "      <td>2</td>\n",
       "    </tr>\n",
       "    <tr>\n",
       "      <th>1096</th>\n",
       "      <td>Rakesh Bishnoi</td>\n",
       "      <td>Badiya h</td>\n",
       "      <td>White</td>\n",
       "      <td>14-Dec-21</td>\n",
       "      <td>NaN</td>\n",
       "      <td>5</td>\n",
       "    </tr>\n",
       "    <tr>\n",
       "      <th>1101</th>\n",
       "      <td>AMRIT SINGH</td>\n",
       "      <td>Best in class</td>\n",
       "      <td>White</td>\n",
       "      <td>23-Mar-22</td>\n",
       "      <td>NaN</td>\n",
       "      <td>5</td>\n",
       "    </tr>\n",
       "    <tr>\n",
       "      <th>1167</th>\n",
       "      <td>Ardent buyer</td>\n",
       "      <td>Bass quality is not up to the mark</td>\n",
       "      <td>Blue</td>\n",
       "      <td>28-Sep-21</td>\n",
       "      <td>NaN</td>\n",
       "      <td>3</td>\n",
       "    </tr>\n",
       "    <tr>\n",
       "      <th>1178</th>\n",
       "      <td>Aman Sharma</td>\n",
       "      <td>It's good in good range too.</td>\n",
       "      <td>Black</td>\n",
       "      <td>15-Nov-21</td>\n",
       "      <td>NaN</td>\n",
       "      <td>4</td>\n",
       "    </tr>\n",
       "    <tr>\n",
       "      <th>1204</th>\n",
       "      <td>RAJENDRA KUMAR RAMAN</td>\n",
       "      <td>Boat is a brand of trust but this time it was ...</td>\n",
       "      <td>Black</td>\n",
       "      <td>21-Sep-21</td>\n",
       "      <td>NaN</td>\n",
       "      <td>3</td>\n",
       "    </tr>\n",
       "    <tr>\n",
       "      <th>1239</th>\n",
       "      <td>Harini R</td>\n",
       "      <td>Satisfied cable length is smal but headset top...</td>\n",
       "      <td>Spirit Lime</td>\n",
       "      <td>19-Jan-22</td>\n",
       "      <td>NaN</td>\n",
       "      <td>5</td>\n",
       "    </tr>\n",
       "    <tr>\n",
       "      <th>1240</th>\n",
       "      <td>Priyanka tak</td>\n",
       "      <td>Pathetic product. Stopped working on th day. D...</td>\n",
       "      <td>White</td>\n",
       "      <td>26-Feb-22</td>\n",
       "      <td>NaN</td>\n",
       "      <td>1</td>\n",
       "    </tr>\n",
       "    <tr>\n",
       "      <th>1241</th>\n",
       "      <td>Ramprasad</td>\n",
       "      <td>Normal sound music</td>\n",
       "      <td>White</td>\n",
       "      <td>11-Jan-22</td>\n",
       "      <td>NaN</td>\n",
       "      <td>2</td>\n",
       "    </tr>\n",
       "    <tr>\n",
       "      <th>1242</th>\n",
       "      <td>Faiyaz Ahmad</td>\n",
       "      <td>It's a very nice earphone.</td>\n",
       "      <td>Black</td>\n",
       "      <td>07-Apr-22</td>\n",
       "      <td>NaN</td>\n",
       "      <td>5</td>\n",
       "    </tr>\n",
       "    <tr>\n",
       "      <th>1243</th>\n",
       "      <td>Rizah Taufiq</td>\n",
       "      <td>Very good product one of the best earphones th...</td>\n",
       "      <td>Spirit Lime</td>\n",
       "      <td>16-Nov-21</td>\n",
       "      <td>NaN</td>\n",
       "      <td>5</td>\n",
       "    </tr>\n",
       "    <tr>\n",
       "      <th>1244</th>\n",
       "      <td>Sam 01</td>\n",
       "      <td>Sound quality</td>\n",
       "      <td>Black</td>\n",
       "      <td>14-Apr-22</td>\n",
       "      <td>NaN</td>\n",
       "      <td>1</td>\n",
       "    </tr>\n",
       "    <tr>\n",
       "      <th>1245</th>\n",
       "      <td>Wilkin Sebastian</td>\n",
       "      <td>Guys please don't buy this.my ears started to ...</td>\n",
       "      <td>White</td>\n",
       "      <td>07-Apr-22</td>\n",
       "      <td>NaN</td>\n",
       "      <td>3</td>\n",
       "    </tr>\n",
       "    <tr>\n",
       "      <th>1277</th>\n",
       "      <td>Amazon Customer</td>\n",
       "      <td>Worst product. Received a damaged item and now...</td>\n",
       "      <td>Spirit Lime</td>\n",
       "      <td>13-Oct-21</td>\n",
       "      <td>NaN</td>\n",
       "      <td>1</td>\n",
       "    </tr>\n",
       "    <tr>\n",
       "      <th>1280</th>\n",
       "      <td>siddharth</td>\n",
       "      <td>It's osm</td>\n",
       "      <td>White</td>\n",
       "      <td>15-Dec-21</td>\n",
       "      <td>NaN</td>\n",
       "      <td>5</td>\n",
       "    </tr>\n",
       "    <tr>\n",
       "      <th>1282</th>\n",
       "      <td>Manohar</td>\n",
       "      <td>Worst Noise Cancellation</td>\n",
       "      <td>Black</td>\n",
       "      <td>21-Jun-21</td>\n",
       "      <td>NaN</td>\n",
       "      <td>1</td>\n",
       "    </tr>\n",
       "    <tr>\n",
       "      <th>1306</th>\n",
       "      <td>Loshan Lenka</td>\n",
       "      <td>Just what I am looking for, It's not hurting m...</td>\n",
       "      <td>Spirit Lime</td>\n",
       "      <td>21-Sep-21</td>\n",
       "      <td>NaN</td>\n",
       "      <td>5</td>\n",
       "    </tr>\n",
       "    <tr>\n",
       "      <th>1318</th>\n",
       "      <td>Ragavendhar</td>\n",
       "      <td>Good buds worthy</td>\n",
       "      <td>Black</td>\n",
       "      <td>07-Sep-21</td>\n",
       "      <td>NaN</td>\n",
       "      <td>5</td>\n",
       "    </tr>\n",
       "    <tr>\n",
       "      <th>1322</th>\n",
       "      <td>Abhishek Gaikwad</td>\n",
       "      <td>Bass and sound quality not up to expectations.</td>\n",
       "      <td>Black</td>\n",
       "      <td>13-Oct-21</td>\n",
       "      <td>NaN</td>\n",
       "      <td>2</td>\n",
       "    </tr>\n",
       "    <tr>\n",
       "      <th>1332</th>\n",
       "      <td>Ahamed Ibrahim</td>\n",
       "      <td>Worthy for money</td>\n",
       "      <td>Iguana</td>\n",
       "      <td>15-Jul-21</td>\n",
       "      <td>NaN</td>\n",
       "      <td>5</td>\n",
       "    </tr>\n",
       "    <tr>\n",
       "      <th>1336</th>\n",
       "      <td>sachin dhembre</td>\n",
       "      <td>Bad quality one side is not working</td>\n",
       "      <td>Spirit Lime</td>\n",
       "      <td>07-Nov-21</td>\n",
       "      <td>NaN</td>\n",
       "      <td>1</td>\n",
       "    </tr>\n",
       "    <tr>\n",
       "      <th>1345</th>\n",
       "      <td>Vishwanath Gupta</td>\n",
       "      <td>Nice</td>\n",
       "      <td>Blue</td>\n",
       "      <td>17-Dec-21</td>\n",
       "      <td>NaN</td>\n",
       "      <td>4</td>\n",
       "    </tr>\n",
       "    <tr>\n",
       "      <th>1349</th>\n",
       "      <td>Sanju</td>\n",
       "      <td>Very bad product please don't buy</td>\n",
       "      <td>Black</td>\n",
       "      <td>05-Dec-21</td>\n",
       "      <td>NaN</td>\n",
       "      <td>1</td>\n",
       "    </tr>\n",
       "    <tr>\n",
       "      <th>1351</th>\n",
       "      <td>Iqbal</td>\n",
       "      <td>Nice product, has an appearance like apple ear...</td>\n",
       "      <td>White</td>\n",
       "      <td>02-Dec-21</td>\n",
       "      <td>NaN</td>\n",
       "      <td>5</td>\n",
       "    </tr>\n",
       "    <tr>\n",
       "      <th>1353</th>\n",
       "      <td>Devesh Kashyap</td>\n",
       "      <td>There were a few scratches but overall earphon...</td>\n",
       "      <td>Black</td>\n",
       "      <td>27-Nov-21</td>\n",
       "      <td>NaN</td>\n",
       "      <td>4</td>\n",
       "    </tr>\n",
       "    <tr>\n",
       "      <th>1354</th>\n",
       "      <td>Yogi Singh</td>\n",
       "      <td>Value for money in this price range.</td>\n",
       "      <td>Blue</td>\n",
       "      <td>22-Sep-21</td>\n",
       "      <td>NaN</td>\n",
       "      <td>4</td>\n",
       "    </tr>\n",
       "    <tr>\n",
       "      <th>1358</th>\n",
       "      <td>Heena maru</td>\n",
       "      <td>Supar</td>\n",
       "      <td>Blue</td>\n",
       "      <td>13-Sep-21</td>\n",
       "      <td>NaN</td>\n",
       "      <td>5</td>\n",
       "    </tr>\n",
       "    <tr>\n",
       "      <th>1362</th>\n",
       "      <td>md shahrukh</td>\n",
       "      <td>Nice Quality prodocut</td>\n",
       "      <td>Blue</td>\n",
       "      <td>19-Oct-21</td>\n",
       "      <td>NaN</td>\n",
       "      <td>4</td>\n",
       "    </tr>\n",
       "    <tr>\n",
       "      <th>1376</th>\n",
       "      <td>K.RAGHU</td>\n",
       "      <td>One.of the best product from boat</td>\n",
       "      <td>Spirit Lime</td>\n",
       "      <td>30-Aug-21</td>\n",
       "      <td>NaN</td>\n",
       "      <td>5</td>\n",
       "    </tr>\n",
       "    <tr>\n",
       "      <th>1379</th>\n",
       "      <td>Mohammed Shadil</td>\n",
       "      <td>Good product highly recommended</td>\n",
       "      <td>Black</td>\n",
       "      <td>10-Aug-21</td>\n",
       "      <td>NaN</td>\n",
       "      <td>5</td>\n",
       "    </tr>\n",
       "    <tr>\n",
       "      <th>1407</th>\n",
       "      <td>Saravanan</td>\n",
       "      <td>Good and value for money</td>\n",
       "      <td>Black</td>\n",
       "      <td>13-Aug-21</td>\n",
       "      <td>NaN</td>\n",
       "      <td>5</td>\n",
       "    </tr>\n",
       "    <tr>\n",
       "      <th>1522</th>\n",
       "      <td>Vasif</td>\n",
       "      <td>Smooth noise and audible during calls</td>\n",
       "      <td>Iguana</td>\n",
       "      <td>24-Oct-21</td>\n",
       "      <td>NaN</td>\n",
       "      <td>4</td>\n",
       "    </tr>\n",
       "    <tr>\n",
       "      <th>1535</th>\n",
       "      <td>SANTHOSH</td>\n",
       "      <td>NaN</td>\n",
       "      <td>Blue</td>\n",
       "      <td>04-Oct-21</td>\n",
       "      <td>NaN</td>\n",
       "      <td>4</td>\n",
       "    </tr>\n",
       "    <tr>\n",
       "      <th>1536</th>\n",
       "      <td>Prasad</td>\n",
       "      <td>It's good</td>\n",
       "      <td>Blue</td>\n",
       "      <td>13-Oct-21</td>\n",
       "      <td>NaN</td>\n",
       "      <td>5</td>\n",
       "    </tr>\n",
       "    <tr>\n",
       "      <th>1554</th>\n",
       "      <td>Sana</td>\n",
       "      <td>Good Product</td>\n",
       "      <td>Black</td>\n",
       "      <td>08-Oct-21</td>\n",
       "      <td>NaN</td>\n",
       "      <td>4</td>\n",
       "    </tr>\n",
       "    <tr>\n",
       "      <th>1564</th>\n",
       "      <td>Palwinder singh</td>\n",
       "      <td>Beautiful product.. as per expectations</td>\n",
       "      <td>Black</td>\n",
       "      <td>07-Oct-21</td>\n",
       "      <td>NaN</td>\n",
       "      <td>5</td>\n",
       "    </tr>\n",
       "    <tr>\n",
       "      <th>1570</th>\n",
       "      <td>Liza sahani</td>\n",
       "      <td>Osm</td>\n",
       "      <td>Iguana</td>\n",
       "      <td>17-Oct-21</td>\n",
       "      <td>NaN</td>\n",
       "      <td>5</td>\n",
       "    </tr>\n",
       "    <tr>\n",
       "      <th>1571</th>\n",
       "      <td>Amazon Customer</td>\n",
       "      <td>For calling purpose ok. Good mic quality. But ...</td>\n",
       "      <td>Black</td>\n",
       "      <td>11-Nov-21</td>\n",
       "      <td>NaN</td>\n",
       "      <td>4</td>\n",
       "    </tr>\n",
       "    <tr>\n",
       "      <th>1572</th>\n",
       "      <td>Suraj</td>\n",
       "      <td>Nice look and best in this price ..</td>\n",
       "      <td>Blue</td>\n",
       "      <td>13-Oct-21</td>\n",
       "      <td>NaN</td>\n",
       "      <td>5</td>\n",
       "    </tr>\n",
       "    <tr>\n",
       "      <th>1587</th>\n",
       "      <td>SHYAM</td>\n",
       "      <td>Best in the budget, perfect for those who does...</td>\n",
       "      <td>Iguana</td>\n",
       "      <td>21-Oct-21</td>\n",
       "      <td>NaN</td>\n",
       "      <td>5</td>\n",
       "    </tr>\n",
       "    <tr>\n",
       "      <th>1589</th>\n",
       "      <td>Pankaja</td>\n",
       "      <td>Nice one</td>\n",
       "      <td>Blue</td>\n",
       "      <td>01-Oct-21</td>\n",
       "      <td>NaN</td>\n",
       "      <td>5</td>\n",
       "    </tr>\n",
       "    <tr>\n",
       "      <th>1593</th>\n",
       "      <td>Samprada Kumar</td>\n",
       "      <td>Good product</td>\n",
       "      <td>Black</td>\n",
       "      <td>10-Nov-21</td>\n",
       "      <td>NaN</td>\n",
       "      <td>5</td>\n",
       "    </tr>\n",
       "    <tr>\n",
       "      <th>1594</th>\n",
       "      <td>Harshit Aggarwal</td>\n",
       "      <td>Very nice product must try ....</td>\n",
       "      <td>Black</td>\n",
       "      <td>22-Oct-21</td>\n",
       "      <td>NaN</td>\n",
       "      <td>4</td>\n",
       "    </tr>\n",
       "    <tr>\n",
       "      <th>1595</th>\n",
       "      <td>Rajat</td>\n",
       "      <td>A better quality product than other companies</td>\n",
       "      <td>Black</td>\n",
       "      <td>19-Oct-21</td>\n",
       "      <td>NaN</td>\n",
       "      <td>5</td>\n",
       "    </tr>\n",
       "    <tr>\n",
       "      <th>1596</th>\n",
       "      <td>Sharadha</td>\n",
       "      <td>Loved it</td>\n",
       "      <td>Iguana</td>\n",
       "      <td>18-Oct-21</td>\n",
       "      <td>NaN</td>\n",
       "      <td>5</td>\n",
       "    </tr>\n",
       "    <tr>\n",
       "      <th>1597</th>\n",
       "      <td>abhijit nair</td>\n",
       "      <td>Just Amazing...</td>\n",
       "      <td>Iguana</td>\n",
       "      <td>14-Oct-21</td>\n",
       "      <td>NaN</td>\n",
       "      <td>4</td>\n",
       "    </tr>\n",
       "    <tr>\n",
       "      <th>1598</th>\n",
       "      <td>Andrea Fernandes</td>\n",
       "      <td>So I received my earphones today. I really lov...</td>\n",
       "      <td>White</td>\n",
       "      <td>11-Oct-21</td>\n",
       "      <td>NaN</td>\n",
       "      <td>4</td>\n",
       "    </tr>\n",
       "  </tbody>\n",
       "</table>\n",
       "</div>"
      ],
      "text/plain": [
       "              Customer_Name  \\\n",
       "345         g.pradeep kumar   \n",
       "531                chandana   \n",
       "635              Pooja Rane   \n",
       "716         Amazon Customer   \n",
       "746   Abhra Kanti Mukherjee   \n",
       "807         janak baldaniya   \n",
       "828                 Unnati    \n",
       "882            rajesh kumar   \n",
       "903          Rony J Gharami   \n",
       "983            Sai Sharvani   \n",
       "1085                  sagar   \n",
       "1090           Kochi Mastan   \n",
       "1096         Rakesh Bishnoi   \n",
       "1101            AMRIT SINGH   \n",
       "1167           Ardent buyer   \n",
       "1178            Aman Sharma   \n",
       "1204   RAJENDRA KUMAR RAMAN   \n",
       "1239               Harini R   \n",
       "1240           Priyanka tak   \n",
       "1241              Ramprasad   \n",
       "1242           Faiyaz Ahmad   \n",
       "1243           Rizah Taufiq   \n",
       "1244                 Sam 01   \n",
       "1245       Wilkin Sebastian   \n",
       "1277        Amazon Customer   \n",
       "1280             siddharth    \n",
       "1282                Manohar   \n",
       "1306           Loshan Lenka   \n",
       "1318            Ragavendhar   \n",
       "1322       Abhishek Gaikwad   \n",
       "1332         Ahamed Ibrahim   \n",
       "1336         sachin dhembre   \n",
       "1345       Vishwanath Gupta   \n",
       "1349                  Sanju   \n",
       "1351                  Iqbal   \n",
       "1353         Devesh Kashyap   \n",
       "1354             Yogi Singh   \n",
       "1358             Heena maru   \n",
       "1362            md shahrukh   \n",
       "1376                K.RAGHU   \n",
       "1379        Mohammed Shadil   \n",
       "1407              Saravanan   \n",
       "1522                  Vasif   \n",
       "1535               SANTHOSH   \n",
       "1536                 Prasad   \n",
       "1554                   Sana   \n",
       "1564        Palwinder singh   \n",
       "1570            Liza sahani   \n",
       "1571        Amazon Customer   \n",
       "1572                  Suraj   \n",
       "1587                  SHYAM   \n",
       "1589                Pankaja   \n",
       "1593         Samprada Kumar   \n",
       "1594       Harshit Aggarwal   \n",
       "1595                  Rajat   \n",
       "1596               Sharadha   \n",
       "1597           abhijit nair   \n",
       "1598       Andrea Fernandes   \n",
       "\n",
       "                                           REVIEW_TITLE        Color  \\\n",
       "345                                  Simple and stylish        Black   \n",
       "531                         Mic not working after month        White   \n",
       "635                                  Good Sound Quality        White   \n",
       "716                                                Good  Spirit Lime   \n",
       "746                           Comfortable and efficient       Iguana   \n",
       "807                                                 NaN  Spirit Lime   \n",
       "828                              Loved these earphones.       Iguana   \n",
       "882                              Voice cals not working         Blue   \n",
       "903                   Money valued product at low cost.  Spirit Lime   \n",
       "983             Awesome Sound Quality worth buying it .        White   \n",
       "1085  Worst product. There is no rubber protector fo...        White   \n",
       "1090  Was really happy with this product but ot stop...  Spirit Lime   \n",
       "1096                                           Badiya h        White   \n",
       "1101                                      Best in class        White   \n",
       "1167                 Bass quality is not up to the mark         Blue   \n",
       "1178                       It's good in good range too.        Black   \n",
       "1204  Boat is a brand of trust but this time it was ...        Black   \n",
       "1239  Satisfied cable length is smal but headset top...  Spirit Lime   \n",
       "1240  Pathetic product. Stopped working on th day. D...        White   \n",
       "1241                                 Normal sound music        White   \n",
       "1242                         It's a very nice earphone.        Black   \n",
       "1243  Very good product one of the best earphones th...  Spirit Lime   \n",
       "1244                                      Sound quality        Black   \n",
       "1245  Guys please don't buy this.my ears started to ...        White   \n",
       "1277  Worst product. Received a damaged item and now...  Spirit Lime   \n",
       "1280                                           It's osm        White   \n",
       "1282                           Worst Noise Cancellation        Black   \n",
       "1306  Just what I am looking for, It's not hurting m...  Spirit Lime   \n",
       "1318                                   Good buds worthy        Black   \n",
       "1322     Bass and sound quality not up to expectations.        Black   \n",
       "1332                                   Worthy for money       Iguana   \n",
       "1336                Bad quality one side is not working  Spirit Lime   \n",
       "1345                                               Nice         Blue   \n",
       "1349                  Very bad product please don't buy        Black   \n",
       "1351  Nice product, has an appearance like apple ear...        White   \n",
       "1353  There were a few scratches but overall earphon...        Black   \n",
       "1354               Value for money in this price range.         Blue   \n",
       "1358                                              Supar         Blue   \n",
       "1362                              Nice Quality prodocut         Blue   \n",
       "1376                  One.of the best product from boat  Spirit Lime   \n",
       "1379                    Good product highly recommended        Black   \n",
       "1407                           Good and value for money        Black   \n",
       "1522              Smooth noise and audible during calls       Iguana   \n",
       "1535                                                NaN         Blue   \n",
       "1536                                          It's good         Blue   \n",
       "1554                                       Good Product        Black   \n",
       "1564            Beautiful product.. as per expectations        Black   \n",
       "1570                                                Osm       Iguana   \n",
       "1571  For calling purpose ok. Good mic quality. But ...        Black   \n",
       "1572                Nice look and best in this price ..         Blue   \n",
       "1587  Best in the budget, perfect for those who does...       Iguana   \n",
       "1589                                           Nice one         Blue   \n",
       "1593                                       Good product        Black   \n",
       "1594                    Very nice product must try ....        Black   \n",
       "1595      A better quality product than other companies        Black   \n",
       "1596                                           Loved it       Iguana   \n",
       "1597                                    Just Amazing...       Iguana   \n",
       "1598  So I received my earphones today. I really lov...        White   \n",
       "\n",
       "     REVIEW_DATE COMMENTS  RATINGS  \n",
       "345    13-Jun-21      NaN        5  \n",
       "531    01-Jan-22      NaN        1  \n",
       "635    10-Jan-22      NaN        5  \n",
       "716    09-Dec-21      NaN        5  \n",
       "746    09-Jan-22      NaN        5  \n",
       "807    03-Jan-22      NaN        4  \n",
       "828    08-Nov-21      NaN        5  \n",
       "882    17-Nov-21      NaN        1  \n",
       "903    08-Nov-21      NaN        4  \n",
       "983    05-May-22      NaN        5  \n",
       "1085   05-Mar-22      NaN        1  \n",
       "1090   08-Oct-21      NaN        2  \n",
       "1096   14-Dec-21      NaN        5  \n",
       "1101   23-Mar-22      NaN        5  \n",
       "1167   28-Sep-21      NaN        3  \n",
       "1178   15-Nov-21      NaN        4  \n",
       "1204   21-Sep-21      NaN        3  \n",
       "1239   19-Jan-22      NaN        5  \n",
       "1240   26-Feb-22      NaN        1  \n",
       "1241   11-Jan-22      NaN        2  \n",
       "1242   07-Apr-22      NaN        5  \n",
       "1243   16-Nov-21      NaN        5  \n",
       "1244   14-Apr-22      NaN        1  \n",
       "1245   07-Apr-22      NaN        3  \n",
       "1277   13-Oct-21      NaN        1  \n",
       "1280   15-Dec-21      NaN        5  \n",
       "1282   21-Jun-21      NaN        1  \n",
       "1306   21-Sep-21      NaN        5  \n",
       "1318   07-Sep-21      NaN        5  \n",
       "1322   13-Oct-21      NaN        2  \n",
       "1332   15-Jul-21      NaN        5  \n",
       "1336   07-Nov-21      NaN        1  \n",
       "1345   17-Dec-21      NaN        4  \n",
       "1349   05-Dec-21      NaN        1  \n",
       "1351   02-Dec-21      NaN        5  \n",
       "1353   27-Nov-21      NaN        4  \n",
       "1354   22-Sep-21      NaN        4  \n",
       "1358   13-Sep-21      NaN        5  \n",
       "1362   19-Oct-21      NaN        4  \n",
       "1376   30-Aug-21      NaN        5  \n",
       "1379   10-Aug-21      NaN        5  \n",
       "1407   13-Aug-21      NaN        5  \n",
       "1522   24-Oct-21      NaN        4  \n",
       "1535   04-Oct-21      NaN        4  \n",
       "1536   13-Oct-21      NaN        5  \n",
       "1554   08-Oct-21      NaN        4  \n",
       "1564   07-Oct-21      NaN        5  \n",
       "1570   17-Oct-21      NaN        5  \n",
       "1571   11-Nov-21      NaN        4  \n",
       "1572   13-Oct-21      NaN        5  \n",
       "1587   21-Oct-21      NaN        5  \n",
       "1589   01-Oct-21      NaN        5  \n",
       "1593   10-Nov-21      NaN        5  \n",
       "1594   22-Oct-21      NaN        4  \n",
       "1595   19-Oct-21      NaN        5  \n",
       "1596   18-Oct-21      NaN        5  \n",
       "1597   14-Oct-21      NaN        4  \n",
       "1598   11-Oct-21      NaN        4  "
      ]
     },
     "execution_count": 9,
     "metadata": {},
     "output_type": "execute_result"
    }
   ],
   "source": [
    "df[df['COMMENTS'].isna()] # display empty reviews"
   ]
  },
  {
   "cell_type": "code",
   "execution_count": 10,
   "metadata": {},
   "outputs": [
    {
     "data": {
      "text/plain": [
       "White          0.283042\n",
       "Black          0.279925\n",
       "Spirit Lime    0.147132\n",
       "Blue           0.145885\n",
       "Iguana         0.144015\n",
       "Name: Color, dtype: float64"
      ]
     },
     "execution_count": 10,
     "metadata": {},
     "output_type": "execute_result"
    }
   ],
   "source": [
    "df['Color'].value_counts(normalize=True) # show distribution of colors in reviews"
   ]
  },
  {
   "cell_type": "markdown",
   "metadata": {},
   "source": [
    "---"
   ]
  },
  {
   "cell_type": "markdown",
   "metadata": {},
   "source": [
    "### ***Main classes and functions*** ###"
   ]
  },
  {
   "cell_type": "code",
   "execution_count": 11,
   "metadata": {},
   "outputs": [],
   "source": [
    "class tiny_preprocessing(object):\n",
    "    '''\n",
    "    Simple preprocessing class for text cleanup. Only basic functions are included.\n",
    "    '''\n",
    "    def __init__(self, text):\n",
    "        self.text = text\n",
    "    \n",
    "    def __getitem__(self, index):\n",
    "        return self.text[index]\n",
    "    \n",
    "    def lower(self):\n",
    "        self.text = self.text.map(lambda x: str(x).lower())\n",
    "        return self.text\n",
    "\n",
    "    def remove_stop_words(self):\n",
    "        self.text = self.text.map(lambda x: ' '.join([elem for elem in x.split() if elem not in STOP_WORDS]))\n",
    "        return self.text\n",
    "    \n",
    "    def remove_punctuation(self):\n",
    "        self.text = self.text.map(lambda x: x.translate(x.maketrans('', '', string.punctuation)))\n",
    "        return self.text\n",
    "\n",
    "    def simple_preprocess(self):\n",
    "        self.lower()\n",
    "        self.remove_stop_words()\n",
    "        self.remove_punctuation()\n"
   ]
  },
  {
   "cell_type": "code",
   "execution_count": 12,
   "metadata": {},
   "outputs": [],
   "source": [
    "def visualize_dict(words_freq: dict, plot_title: str, color_number = 1):\n",
    "    '''\n",
    "    Display a horizontal bar plot from a dictionary\n",
    "\n",
    "    Args:\n",
    "        words_freq: dictionary with words as keys and frequencies as values\n",
    "        plot_title: title of plot\n",
    "        color_numer: number from 0 to 6 represnting color\n",
    "    \n",
    "    Returns:\n",
    "        Plot of word frequencies displayed as a horizontal bar plot\n",
    "    '''\n",
    "    plt.title(plot_title)\n",
    "    plt.barh(*zip(*sorted(words_freq.items(), key = lambda x: x[1])), color = cycle_colors[color_number]);"
   ]
  },
  {
   "cell_type": "code",
   "execution_count": 13,
   "metadata": {},
   "outputs": [],
   "source": [
    "def hist_plot(col_name: str, plot_title: str, percentile = None):\n",
    "    '''\n",
    "    Display a distribution plot of a specific column of a dataset. If a percentile\n",
    "    is privided - display a distrubution plot of a specific data up to a certain\n",
    "    percentile\n",
    "\n",
    "    Args:\n",
    "        col_name: name of column in dataset\n",
    "        plot_title: title of plot\n",
    "        percentile (optional): percentile of a feature\n",
    "    '''\n",
    "    plt.title(plot_title)\n",
    "    if percentile == None:\n",
    "        sns.histplot(data = df[col_name]);\n",
    "    else:\n",
    "        sns.histplot(df[df[col_name] < np.percentile(df[col_name], percentile)][col_name]);"
   ]
  },
  {
   "cell_type": "markdown",
   "metadata": {},
   "source": [
    "---"
   ]
  },
  {
   "cell_type": "markdown",
   "metadata": {},
   "source": [
    "### ***Text preprocessing*** ###"
   ]
  },
  {
   "cell_type": "markdown",
   "metadata": {},
   "source": [
    "Comments preprocessing"
   ]
  },
  {
   "cell_type": "code",
   "execution_count": 14,
   "metadata": {},
   "outputs": [
    {
     "data": {
      "text/plain": [
       "0       okay skeptical buy tight budget  honest little...\n",
       "1       earphone worth pay for design earbud cause pai...\n",
       "2       particularly people sensitive ears gets ear pa...\n",
       "3       built quality 65 10the lower wire durable nylo...\n",
       "4       dont 4 start rating boat brand endorse lot mon...\n",
       "                              ...                        \n",
       "1599         good sound qualityand impressively good bass\n",
       "1600                                                  osm\n",
       "1601    earphones fits ears doesnt block ear outside s...\n",
       "1602              sound quality bad bad product happy buy\n",
       "1603             callsmic goodbut comfort bad music worst\n",
       "Name: COMMENTS, Length: 1604, dtype: object"
      ]
     },
     "execution_count": 14,
     "metadata": {},
     "output_type": "execute_result"
    }
   ],
   "source": [
    "data = tiny_preprocessing(df['COMMENTS'])\n",
    "data.simple_preprocess()\n",
    "\n",
    "data[:]"
   ]
  },
  {
   "cell_type": "markdown",
   "metadata": {},
   "source": [
    "Review titles preprocessing"
   ]
  },
  {
   "cell_type": "code",
   "execution_count": 15,
   "metadata": {},
   "outputs": [
    {
     "data": {
      "text/plain": [
       "0                      exceed expectation\n",
       "1                 great change inear buds\n",
       "2                   people sensitive ears\n",
       "3       tested week heres detailed review\n",
       "4                          good headphone\n",
       "                      ...                \n",
       "1599                          simply fine\n",
       "1600                          value money\n",
       "1601                          value money\n",
       "1602     duplicate headphones worth price\n",
       "1603                      worstonly calls\n",
       "Name: REVIEW_TITLE, Length: 1604, dtype: object"
      ]
     },
     "execution_count": 15,
     "metadata": {},
     "output_type": "execute_result"
    }
   ],
   "source": [
    "data_rev = tiny_preprocessing(df['REVIEW_TITLE'])\n",
    "data_rev.simple_preprocess()\n",
    "\n",
    "data_rev[:]"
   ]
  },
  {
   "cell_type": "markdown",
   "metadata": {},
   "source": [
    "Add preprocessed data to dataframe"
   ]
  },
  {
   "cell_type": "code",
   "execution_count": 16,
   "metadata": {},
   "outputs": [],
   "source": [
    "df['comments_prep'] = data[:]\n",
    "df['review_prep'] = data_rev[:]"
   ]
  },
  {
   "cell_type": "markdown",
   "metadata": {},
   "source": [
    "Build main corpus"
   ]
  },
  {
   "cell_type": "code",
   "execution_count": 17,
   "metadata": {},
   "outputs": [],
   "source": [
    "def build_corpus(preprocessed_comments: pd.Series) -> list:\n",
    "    '''\n",
    "    Build a corpus - a list of all tokens (with repetitions)\n",
    "\n",
    "    Args:\n",
    "        preprocessed_comments: dataframe column with preprocessed comments \n",
    "        (as string)\n",
    "    Returns:\n",
    "        A list of all preprocessed tokens used in the dataset\n",
    "    '''\n",
    "    # split commments into tokens\n",
    "    comments_prep_tokens = preprocessed_comments.str.split() \n",
    "    corpus = [] # make empty corpus\n",
    "    for token in comments_prep_tokens:\n",
    "        corpus += token # add token to corpus\n",
    "    return corpus\n",
    "\n",
    "corpus = build_corpus(df['comments_prep'])"
   ]
  },
  {
   "cell_type": "markdown",
   "metadata": {},
   "source": [
    "---"
   ]
  },
  {
   "cell_type": "markdown",
   "metadata": {},
   "source": [
    "### ***Word cloud logo generation*** ###"
   ]
  },
  {
   "cell_type": "code",
   "execution_count": 18,
   "metadata": {},
   "outputs": [],
   "source": [
    "# change image to numpy array\n",
    "mask = np.array(Image.open('inputs/headphone-8215.jpg'))"
   ]
  },
  {
   "cell_type": "code",
   "execution_count": 19,
   "metadata": {},
   "outputs": [
    {
     "data": {
      "image/png": "[encoded data removed]",
      "text/plain": [
       "<Figure size 720x720 with 1 Axes>"
      ]
     },
     "metadata": {
      "needs_background": "light"
     },
     "output_type": "display_data"
    }
   ],
   "source": [
    "# wordcloud generation\n",
    "wc = WordCloud(background_color='white', max_words=500, mask = mask, max_font_size=60, random_state=0)\n",
    "text = ' '.join(data[:]) # join all reviews into one single text\n",
    "wc.generate(text)\n",
    "\n",
    "image_colors = ImageColorGenerator(mask)\n",
    "image_colors.default_color = [0,0,0]\n",
    "\n",
    "plt.figure(figsize=[10,10])\n",
    "plt.imshow(wc.recolor(color_func=image_colors), interpolation=\"bilinear\")\n",
    "plt.axis(\"off\");\n",
    "plt.savefig('outputs/headphone_word_cloud.png')"
   ]
  },
  {
   "cell_type": "markdown",
   "metadata": {},
   "source": [
    "---"
   ]
  },
  {
   "cell_type": "markdown",
   "metadata": {},
   "source": [
    "### ***Basic statistics for comments*** ###"
   ]
  },
  {
   "cell_type": "markdown",
   "metadata": {},
   "source": [
    "Statistics done on raw text"
   ]
  },
  {
   "cell_type": "markdown",
   "metadata": {},
   "source": [
    "Character count"
   ]
  },
  {
   "cell_type": "code",
   "execution_count": 20,
   "metadata": {},
   "outputs": [],
   "source": [
    "df['char_counts'] = df['COMMENTS'].map(lambda x: len(str(x)))"
   ]
  },
  {
   "cell_type": "markdown",
   "metadata": {},
   "source": [
    "Word count"
   ]
  },
  {
   "cell_type": "code",
   "execution_count": 21,
   "metadata": {},
   "outputs": [],
   "source": [
    "df['word_counts'] = df['COMMENTS'].map(lambda x: len(str(x).split()))"
   ]
  },
  {
   "cell_type": "markdown",
   "metadata": {},
   "source": [
    "Sentence count"
   ]
  },
  {
   "cell_type": "code",
   "execution_count": 22,
   "metadata": {},
   "outputs": [],
   "source": [
    "df['sent_counts'] = df['COMMENTS'].map(lambda x: len(sent_tokenize(str(x))))"
   ]
  },
  {
   "cell_type": "markdown",
   "metadata": {},
   "source": [
    "Average word length"
   ]
  },
  {
   "cell_type": "code",
   "execution_count": 23,
   "metadata": {},
   "outputs": [],
   "source": [
    "df['avg_word_len'] = df[\"COMMENTS\"].map(lambda x: np.mean([len(w) for w in str(x).split()]))"
   ]
  },
  {
   "cell_type": "markdown",
   "metadata": {},
   "source": [
    "Average sentence length"
   ]
  },
  {
   "cell_type": "code",
   "execution_count": 24,
   "metadata": {},
   "outputs": [],
   "source": [
    "df['avg_sent_len'] = df['COMMENTS'].map(lambda x: np.mean([len(s.split()) for s in sent_tokenize(str(x))]))"
   ]
  },
  {
   "cell_type": "markdown",
   "metadata": {},
   "source": [
    "---"
   ]
  },
  {
   "cell_type": "markdown",
   "metadata": {},
   "source": [
    "### ***Basic statistics for review titles*** ###"
   ]
  },
  {
   "cell_type": "markdown",
   "metadata": {},
   "source": [
    "Statistics done on raw text"
   ]
  },
  {
   "cell_type": "markdown",
   "metadata": {},
   "source": [
    "Character count"
   ]
  },
  {
   "cell_type": "code",
   "execution_count": 25,
   "metadata": {},
   "outputs": [],
   "source": [
    "df['char_counts_rev'] = df['REVIEW_TITLE'].map(lambda x: len(str(x)))"
   ]
  },
  {
   "cell_type": "markdown",
   "metadata": {},
   "source": [
    "Word count"
   ]
  },
  {
   "cell_type": "code",
   "execution_count": 26,
   "metadata": {},
   "outputs": [],
   "source": [
    "df['word_counts_rev'] = df['REVIEW_TITLE'].map(lambda x: len(str(x).split()))"
   ]
  },
  {
   "cell_type": "markdown",
   "metadata": {},
   "source": [
    "Sentence count"
   ]
  },
  {
   "cell_type": "code",
   "execution_count": 27,
   "metadata": {},
   "outputs": [],
   "source": [
    "df['sent_counts_rev'] = df['REVIEW_TITLE'].map(lambda x: len(sent_tokenize(str(x))))"
   ]
  },
  {
   "cell_type": "markdown",
   "metadata": {},
   "source": [
    "Average word length"
   ]
  },
  {
   "cell_type": "code",
   "execution_count": 28,
   "metadata": {},
   "outputs": [],
   "source": [
    "df['avg_word_len_rev'] = df['REVIEW_TITLE'].map(lambda x: np.mean([len(w) for w in str(x).split()]))"
   ]
  },
  {
   "cell_type": "markdown",
   "metadata": {},
   "source": [
    "Average sent length"
   ]
  },
  {
   "cell_type": "code",
   "execution_count": 29,
   "metadata": {},
   "outputs": [],
   "source": [
    "df['avg_sent_len_rev'] = df['REVIEW_TITLE'].map(lambda x: np.mean([len(s.split()) for s in sent_tokenize(str(x))]))"
   ]
  },
  {
   "cell_type": "markdown",
   "metadata": {},
   "source": [
    "---"
   ]
  },
  {
   "cell_type": "markdown",
   "metadata": {},
   "source": [
    "### ***Basic statistics for customers*** ###"
   ]
  },
  {
   "cell_type": "markdown",
   "metadata": {},
   "source": [
    "Is the customer anonymous"
   ]
  },
  {
   "cell_type": "code",
   "execution_count": 30,
   "metadata": {},
   "outputs": [
    {
     "data": {
      "text/plain": [
       "Amazon Customer       86\n",
       "Rahul                  5\n",
       "Abhishek               4\n",
       "Akash                  3\n",
       "Yogesh                 3\n",
       "                      ..\n",
       "DHARMENDRA SINGH       1\n",
       "Madhava Vanapilli      1\n",
       "RAMSIYA SAKET          1\n",
       "SANJAY KUMAR MURMU     1\n",
       "Anjali Singh           1\n",
       "Name: Customer_Name, Length: 1465, dtype: int64"
      ]
     },
     "execution_count": 30,
     "metadata": {},
     "output_type": "execute_result"
    }
   ],
   "source": [
    "df['Customer_Name'].value_counts()"
   ]
  },
  {
   "cell_type": "markdown",
   "metadata": {},
   "source": [
    "How many individual customers are there"
   ]
  },
  {
   "cell_type": "code",
   "execution_count": 31,
   "metadata": {},
   "outputs": [
    {
     "data": {
      "text/plain": [
       "1465"
      ]
     },
     "execution_count": 31,
     "metadata": {},
     "output_type": "execute_result"
    }
   ],
   "source": [
    "df['Customer_Name'].nunique()"
   ]
  },
  {
   "cell_type": "markdown",
   "metadata": {},
   "source": [
    "Check if a customer left their name"
   ]
  },
  {
   "cell_type": "code",
   "execution_count": 32,
   "metadata": {},
   "outputs": [],
   "source": [
    "df['anonymous_customer'] = df['Customer_Name'].map(lambda x: True if x != 'Amazon Customer' else False)"
   ]
  },
  {
   "cell_type": "markdown",
   "metadata": {},
   "source": [
    "---"
   ]
  },
  {
   "cell_type": "markdown",
   "metadata": {},
   "source": [
    "### ***Distribution plots*** ###"
   ]
  },
  {
   "cell_type": "code",
   "execution_count": 33,
   "metadata": {},
   "outputs": [
    {
     "data": {
      "image/png": "[encoded data removed]",
      "text/plain": [
       "<Figure size 432x288 with 1 Axes>"
      ]
     },
     "metadata": {
      "needs_background": "light"
     },
     "output_type": "display_data"
    }
   ],
   "source": [
    "hist_plot('word_counts', 'Distribution of word counts in comments')"
   ]
  },
  {
   "cell_type": "code",
   "execution_count": 34,
   "metadata": {},
   "outputs": [
    {
     "data": {
      "image/png": "[encoded data removed]",
      "text/plain": [
       "<Figure size 432x288 with 1 Axes>"
      ]
     },
     "metadata": {
      "needs_background": "light"
     },
     "output_type": "display_data"
    }
   ],
   "source": [
    "hist_plot('word_counts', 'Distribution of word counts in comments (99 percentile)', 99)"
   ]
  },
  {
   "cell_type": "code",
   "execution_count": 35,
   "metadata": {},
   "outputs": [
    {
     "data": {
      "text/plain": [
       "8.0"
      ]
     },
     "execution_count": 35,
     "metadata": {},
     "output_type": "execute_result"
    }
   ],
   "source": [
    "np.median(df['word_counts']) # median number of words in comments"
   ]
  },
  {
   "cell_type": "code",
   "execution_count": 36,
   "metadata": {},
   "outputs": [
    {
     "data": {
      "image/png": "[encoded data removed]",
      "text/plain": [
       "<Figure size 432x288 with 1 Axes>"
      ]
     },
     "metadata": {
      "needs_background": "light"
     },
     "output_type": "display_data"
    }
   ],
   "source": [
    "hist_plot('word_counts_rev', 'Distribution of word counts in review titles')"
   ]
  },
  {
   "cell_type": "code",
   "execution_count": 37,
   "metadata": {},
   "outputs": [
    {
     "data": {
      "text/plain": [
       "3.0"
      ]
     },
     "execution_count": 37,
     "metadata": {},
     "output_type": "execute_result"
    }
   ],
   "source": [
    "np.median(df['word_counts_rev']) # median number of words in the title"
   ]
  },
  {
   "cell_type": "code",
   "execution_count": 38,
   "metadata": {},
   "outputs": [
    {
     "data": {
      "text/plain": [
       "19"
      ]
     },
     "execution_count": 38,
     "metadata": {},
     "output_type": "execute_result"
    }
   ],
   "source": [
    "df['word_counts_rev'].max() # maximal number of words in a title"
   ]
  },
  {
   "cell_type": "code",
   "execution_count": 39,
   "metadata": {},
   "outputs": [
    {
     "name": "stderr",
     "output_type": "stream",
     "text": [
      "c:\\Users\\mariu\\AppData\\Local\\Programs\\Python\\Python37\\lib\\site-packages\\seaborn\\_decorators.py:43: FutureWarning: Pass the following variable as a keyword arg: x. From version 0.12, the only valid positional argument will be `data`, and passing other arguments without an explicit keyword will result in an error or misinterpretation.\n",
      "  FutureWarning\n"
     ]
    },
    {
     "data": {
      "image/png": "[encoded data removed]",
      "text/plain": [
       "<Figure size 432x288 with 1 Axes>"
      ]
     },
     "metadata": {
      "needs_background": "light"
     },
     "output_type": "display_data"
    }
   ],
   "source": [
    "plt.title('Boxplot of number of sentences in comments')\n",
    "sns.boxplot(df['sent_counts'], color= cycle_colors[1]);"
   ]
  },
  {
   "cell_type": "code",
   "execution_count": 40,
   "metadata": {},
   "outputs": [
    {
     "data": {
      "text/plain": [
       "count    1604.000000\n",
       "mean        1.593516\n",
       "std         1.336883\n",
       "min         1.000000\n",
       "25%         1.000000\n",
       "50%         1.000000\n",
       "75%         2.000000\n",
       "max        17.000000\n",
       "Name: sent_counts, dtype: float64"
      ]
     },
     "execution_count": 40,
     "metadata": {},
     "output_type": "execute_result"
    }
   ],
   "source": [
    "df['sent_counts'].describe()"
   ]
  },
  {
   "cell_type": "markdown",
   "metadata": {},
   "source": [
    "---"
   ]
  },
  {
   "cell_type": "markdown",
   "metadata": {},
   "source": [
    "### ***General Term Frequency Analysis*** ###"
   ]
  },
  {
   "cell_type": "markdown",
   "metadata": {},
   "source": [
    "Show most common words"
   ]
  },
  {
   "cell_type": "code",
   "execution_count": 41,
   "metadata": {},
   "outputs": [
    {
     "data": {
      "text/plain": [
       "[('good', 673),\n",
       " ('quality', 543),\n",
       " ('sound', 467),\n",
       " ('product', 414),\n",
       " ('bass', 166),\n",
       " ('ear', 151),\n",
       " ('working', 151),\n",
       " ('boat', 149),\n",
       " ('price', 145),\n",
       " ('earphones', 140)]"
      ]
     },
     "execution_count": 41,
     "metadata": {},
     "output_type": "execute_result"
    }
   ],
   "source": [
    "most_common_words = nltk.FreqDist(corpus).most_common(10)\n",
    "most_common_words"
   ]
  },
  {
   "cell_type": "code",
   "execution_count": 42,
   "metadata": {},
   "outputs": [
    {
     "data": {
      "image/png": "[encoded data removed]",
      "text/plain": [
       "<Figure size 432x288 with 1 Axes>"
      ]
     },
     "metadata": {
      "needs_background": "light"
     },
     "output_type": "display_data"
    }
   ],
   "source": [
    "visualize_dict(dict(most_common_words), 'Most common words in the dataset', 1)"
   ]
  },
  {
   "cell_type": "code",
   "execution_count": 43,
   "metadata": {},
   "outputs": [
    {
     "name": "stdout",
     "output_type": "stream",
     "text": [
      "Word count of the word \"very\": 1\n",
      "Word count of the word \"not\": 2\n"
     ]
    }
   ],
   "source": [
    "print(f'Word count of the word \"very\": {nltk.FreqDist(corpus)[\"very\"]}')\n",
    "print(f'Word count of the word \"not\": {nltk.FreqDist(corpus)[\"not\"]}') # check for possible negations"
   ]
  },
  {
   "cell_type": "markdown",
   "metadata": {},
   "source": [
    "---"
   ]
  },
  {
   "cell_type": "markdown",
   "metadata": {},
   "source": [
    "### ***Sentiment based term frequency analysis*** ###"
   ]
  },
  {
   "cell_type": "markdown",
   "metadata": {},
   "source": [
    "Sentiment construction based an ratings"
   ]
  },
  {
   "cell_type": "code",
   "execution_count": 44,
   "metadata": {},
   "outputs": [],
   "source": [
    "sentiment_dict = {'positive': [5, 4], 'neutral': [3], 'negative': [1, 2]}"
   ]
  },
  {
   "cell_type": "code",
   "execution_count": 45,
   "metadata": {},
   "outputs": [],
   "source": [
    "def key_return(x: int) -> str:\n",
    "    '''\n",
    "    Change ratings to sentiments. This function should be used with the help \n",
    "    of map function on a dataframe column.\n",
    "    Looks through the lists, that are the values of the dictionary. If x in \n",
    "    present in any of those lists, it's key is returned.\n",
    "\n",
    "    Args:\n",
    "        x: number from 1 do 5\n",
    "    \n",
    "    Returns:\n",
    "        Dictionary key if a number exists in a list, that if associated with \n",
    "        that key\n",
    "    '''\n",
    "    return next(k for k,v in sentiment_dict.items() if x in v)\n",
    "\n",
    "df['RATINGS_SENTIMENT'] = df['RATINGS'].map(lambda x: key_return(x))"
   ]
  },
  {
   "cell_type": "code",
   "execution_count": 46,
   "metadata": {},
   "outputs": [
    {
     "data": {
      "text/plain": [
       "positive    0.581671\n",
       "negative    0.324190\n",
       "neutral     0.094140\n",
       "Name: RATINGS_SENTIMENT, dtype: float64"
      ]
     },
     "execution_count": 46,
     "metadata": {},
     "output_type": "execute_result"
    }
   ],
   "source": [
    "# how many positve, neutral and negative comments are there\n",
    "df['RATINGS_SENTIMENT'].value_counts(normalize = True)"
   ]
  },
  {
   "cell_type": "markdown",
   "metadata": {},
   "source": [
    "Positive comments"
   ]
  },
  {
   "cell_type": "code",
   "execution_count": 47,
   "metadata": {},
   "outputs": [],
   "source": [
    "def build_corpus_pos_neg(sentiment_type: str) -> list:\n",
    "    '''\n",
    "    Build a positive or negative corpus of tokens.\n",
    "\n",
    "    Args:\n",
    "        sentument_type ('positive' or 'negative'): type of sentiment to use\n",
    "\n",
    "    Returns:\n",
    "        A list of preprocessed tokens used in the dataset\n",
    "    '''\n",
    "    tokens = df[df['RATINGS_SENTIMENT'] == sentiment_type]['comments_prep'].str.split()\n",
    "    corpus = [] # make empty corpus\n",
    "    for token in tokens:\n",
    "        corpus += token # add token to corpus\n",
    "    return corpus"
   ]
  },
  {
   "cell_type": "code",
   "execution_count": 48,
   "metadata": {},
   "outputs": [],
   "source": [
    "positive_corpus = build_corpus_pos_neg('positive')"
   ]
  },
  {
   "cell_type": "code",
   "execution_count": 49,
   "metadata": {},
   "outputs": [],
   "source": [
    "most_common_words_positive = nltk.FreqDist(positive_corpus).most_common(10)"
   ]
  },
  {
   "cell_type": "code",
   "execution_count": 50,
   "metadata": {},
   "outputs": [
    {
     "data": {
      "image/png": "[encoded data removed]",
      "text/plain": [
       "<Figure size 432x288 with 1 Axes>"
      ]
     },
     "metadata": {
      "needs_background": "light"
     },
     "output_type": "display_data"
    }
   ],
   "source": [
    "visualize_dict(dict(most_common_words_positive), 'Most common words in positive comments', 5)"
   ]
  },
  {
   "cell_type": "markdown",
   "metadata": {},
   "source": [
    "Negative comments"
   ]
  },
  {
   "cell_type": "code",
   "execution_count": 51,
   "metadata": {},
   "outputs": [],
   "source": [
    "negative_corpus = build_corpus_pos_neg('negative')"
   ]
  },
  {
   "cell_type": "code",
   "execution_count": 52,
   "metadata": {},
   "outputs": [],
   "source": [
    "most_common_words_negative = nltk.FreqDist(negative_corpus).most_common(10)"
   ]
  },
  {
   "cell_type": "code",
   "execution_count": 53,
   "metadata": {},
   "outputs": [
    {
     "data": {
      "image/png": "[encoded data removed]",
      "text/plain": [
       "<Figure size 432x288 with 1 Axes>"
      ]
     },
     "metadata": {
      "needs_background": "light"
     },
     "output_type": "display_data"
    }
   ],
   "source": [
    "visualize_dict(dict(most_common_words_negative), 'Most common words in negative comments', 0)"
   ]
  },
  {
   "cell_type": "markdown",
   "metadata": {},
   "source": [
    "---"
   ]
  },
  {
   "cell_type": "markdown",
   "metadata": {},
   "source": [
    "### ***N-grams Frequency Analysis*** ###"
   ]
  },
  {
   "cell_type": "markdown",
   "metadata": {},
   "source": [
    "All tokens"
   ]
  },
  {
   "cell_type": "code",
   "execution_count": 54,
   "metadata": {},
   "outputs": [],
   "source": [
    "vec = CountVectorizer(ngram_range=(2,2))\n",
    "bow = vec.fit_transform(df['comments_prep'])"
   ]
  },
  {
   "cell_type": "code",
   "execution_count": 55,
   "metadata": {},
   "outputs": [],
   "source": [
    "count_values = bow.toarray().sum(axis=0)\n",
    "ngram_freq = pd.DataFrame(sorted([(count_values[i], k) for k, i in vec.vocabulary_.items()], reverse = True))\n",
    "ngram_freq.columns = [\"frequency\", \"ngram\"]"
   ]
  },
  {
   "cell_type": "code",
   "execution_count": 56,
   "metadata": {},
   "outputs": [
    {
     "data": {
      "text/html": [
       "<div>\n",
       "<style scoped>\n",
       "    .dataframe tbody tr th:only-of-type {\n",
       "        vertical-align: middle;\n",
       "    }\n",
       "\n",
       "    .dataframe tbody tr th {\n",
       "        vertical-align: top;\n",
       "    }\n",
       "\n",
       "    .dataframe thead th {\n",
       "        text-align: right;\n",
       "    }\n",
       "</style>\n",
       "<table border=\"1\" class=\"dataframe\">\n",
       "  <thead>\n",
       "    <tr style=\"text-align: right;\">\n",
       "      <th></th>\n",
       "      <th>frequency</th>\n",
       "      <th>ngram</th>\n",
       "    </tr>\n",
       "  </thead>\n",
       "  <tbody>\n",
       "    <tr>\n",
       "      <th>0</th>\n",
       "      <td>217</td>\n",
       "      <td>sound quality</td>\n",
       "    </tr>\n",
       "    <tr>\n",
       "      <th>1</th>\n",
       "      <td>103</td>\n",
       "      <td>quality good</td>\n",
       "    </tr>\n",
       "    <tr>\n",
       "      <th>2</th>\n",
       "      <td>75</td>\n",
       "      <td>good product</td>\n",
       "    </tr>\n",
       "    <tr>\n",
       "      <th>3</th>\n",
       "      <td>68</td>\n",
       "      <td>value money</td>\n",
       "    </tr>\n",
       "    <tr>\n",
       "      <th>4</th>\n",
       "      <td>66</td>\n",
       "      <td>good quality</td>\n",
       "    </tr>\n",
       "    <tr>\n",
       "      <th>...</th>\n",
       "      <td>...</td>\n",
       "      <td>...</td>\n",
       "    </tr>\n",
       "    <tr>\n",
       "      <th>8261</th>\n",
       "      <td>1</td>\n",
       "      <td>10 couple</td>\n",
       "    </tr>\n",
       "    <tr>\n",
       "      <th>8262</th>\n",
       "      <td>1</td>\n",
       "      <td>10 built</td>\n",
       "    </tr>\n",
       "    <tr>\n",
       "      <th>8263</th>\n",
       "      <td>1</td>\n",
       "      <td>10 better</td>\n",
       "    </tr>\n",
       "    <tr>\n",
       "      <th>8264</th>\n",
       "      <td>1</td>\n",
       "      <td>10 audio</td>\n",
       "    </tr>\n",
       "    <tr>\n",
       "      <th>8265</th>\n",
       "      <td>1</td>\n",
       "      <td>10 10sound</td>\n",
       "    </tr>\n",
       "  </tbody>\n",
       "</table>\n",
       "<p>8266 rows × 2 columns</p>\n",
       "</div>"
      ],
      "text/plain": [
       "      frequency          ngram\n",
       "0           217  sound quality\n",
       "1           103   quality good\n",
       "2            75   good product\n",
       "3            68    value money\n",
       "4            66   good quality\n",
       "...         ...            ...\n",
       "8261          1      10 couple\n",
       "8262          1       10 built\n",
       "8263          1      10 better\n",
       "8264          1       10 audio\n",
       "8265          1     10 10sound\n",
       "\n",
       "[8266 rows x 2 columns]"
      ]
     },
     "execution_count": 56,
     "metadata": {},
     "output_type": "execute_result"
    }
   ],
   "source": [
    "ngram_freq"
   ]
  },
  {
   "cell_type": "code",
   "execution_count": 77,
   "metadata": {},
   "outputs": [],
   "source": [
    "def make_bi_grams_dict(corpus: list) -> dict:\n",
    "    '''\n",
    "    Make a dictionary of bi-grams frequencies\n",
    "\n",
    "    Args:\n",
    "        corpus: text corpus (list of tokens)\n",
    "    \n",
    "    Returns:\n",
    "        Dictionary with bigrams as keys and word counts (frequencies)\n",
    "        as values\n",
    "    '''\n",
    "\n",
    "    n_grams = nltk.FreqDist(list(nltk.ngrams(corpus, 2))) # n_grams as list of tuples\n",
    "    most_common_n_grams = n_grams.most_common(10)\n",
    "\n",
    "    return {' '.join(k): v for k, v in dict(most_common_n_grams).items()}"
   ]
  },
  {
   "cell_type": "code",
   "execution_count": 80,
   "metadata": {},
   "outputs": [],
   "source": [
    "bi_grams_dict = make_bi_grams_dict(corpus)"
   ]
  },
  {
   "cell_type": "code",
   "execution_count": 81,
   "metadata": {},
   "outputs": [
    {
     "data": {
      "text/plain": [
       "{'sound quality': 218,\n",
       " 'quality good': 109,\n",
       " 'good product': 77,\n",
       " 'value money': 68,\n",
       " 'good quality': 68,\n",
       " 'good sound': 66,\n",
       " 'product good': 44,\n",
       " 'noise cancellation': 44,\n",
       " 'stopped working': 39,\n",
       " 'dont buy': 39}"
      ]
     },
     "execution_count": 81,
     "metadata": {},
     "output_type": "execute_result"
    }
   ],
   "source": [
    "bi_grams_dict"
   ]
  },
  {
   "cell_type": "code",
   "execution_count": 82,
   "metadata": {},
   "outputs": [
    {
     "data": {
      "image/png": "[encoded data removed]",
      "text/plain": [
       "<Figure size 432x288 with 1 Axes>"
      ]
     },
     "metadata": {
      "needs_background": "light"
     },
     "output_type": "display_data"
    }
   ],
   "source": [
    "visualize_dict(bi_grams_dict, 'Most common bigrams for all comments', 1)"
   ]
  },
  {
   "cell_type": "markdown",
   "metadata": {},
   "source": [
    "Only positive reviews"
   ]
  },
  {
   "cell_type": "code",
   "execution_count": 83,
   "metadata": {},
   "outputs": [],
   "source": [
    "positive_bi_grams_dict = make_bi_grams_dict(positive_corpus)"
   ]
  },
  {
   "cell_type": "code",
   "execution_count": 84,
   "metadata": {},
   "outputs": [
    {
     "data": {
      "image/png": "[encoded data removed]",
      "text/plain": [
       "<Figure size 432x288 with 1 Axes>"
      ]
     },
     "metadata": {
      "needs_background": "light"
     },
     "output_type": "display_data"
    }
   ],
   "source": [
    "visualize_dict(positive_bi_grams_dict, 'Most common bigrams for positive comments', 5)"
   ]
  },
  {
   "cell_type": "markdown",
   "metadata": {},
   "source": []
  },
  {
   "cell_type": "markdown",
   "metadata": {},
   "source": [
    "Only negative comments"
   ]
  },
  {
   "cell_type": "code",
   "execution_count": 85,
   "metadata": {},
   "outputs": [],
   "source": [
    "negative_bi_grams_dict = make_bi_grams_dict(negative_corpus)"
   ]
  },
  {
   "cell_type": "code",
   "execution_count": 86,
   "metadata": {},
   "outputs": [
    {
     "data": {
      "image/png": "[encoded data removed]",
      "text/plain": [
       "<Figure size 432x288 with 1 Axes>"
      ]
     },
     "metadata": {
      "needs_background": "light"
     },
     "output_type": "display_data"
    }
   ],
   "source": [
    "visualize_dict(negative_bi_grams_dict, 'Most common bigrams for negative comments', 0)"
   ]
  },
  {
   "cell_type": "markdown",
   "metadata": {},
   "source": [
    "### ***Parts of Speech analysis*** ###"
   ]
  },
  {
   "cell_type": "markdown",
   "metadata": {},
   "source": [
    "Focusing on adjectives"
   ]
  },
  {
   "cell_type": "code",
   "execution_count": 87,
   "metadata": {},
   "outputs": [],
   "source": [
    "def return_pos(corpus: list, tag_name: str, n_most_common: int = 10) -> list:\n",
    "    '''\n",
    "    Return most common tokens that are a specific part of speech\n",
    "\n",
    "    Args:\n",
    "        corpus: corpus of tokens to look for\n",
    "        tag_name: name of part of speech to look for (in universal tagset)\n",
    "        n_most_common: how many most common tokens should be returned\n",
    "    \n",
    "    Returns:\n",
    "        A dictionary of most common tokens of a specific part of speech as keys\n",
    "        and their frequencies as values\n",
    "    '''\n",
    "    # tag all words in corpus\n",
    "    tags = nltk.pos_tag(corpus, tagset = 'universal')\n",
    "\n",
    "    # filter only those words that are of type tag_name\n",
    "    tags = [word for word, tag in tags if tag == tag_name]\n",
    "\n",
    "    # count the words and get only most common ones\n",
    "    most_common = Counter(tags).most_common(n_most_common)\n",
    "    \n",
    "    return dict(zip([elem[0] for elem in most_common], [elem[1] for elem in most_common]))"
   ]
  },
  {
   "cell_type": "code",
   "execution_count": 92,
   "metadata": {},
   "outputs": [
    {
     "data": {
      "image/png": "[encoded data removed]",
      "text/plain": [
       "<Figure size 432x288 with 1 Axes>"
      ]
     },
     "metadata": {
      "needs_background": "light"
     },
     "output_type": "display_data"
    }
   ],
   "source": [
    "general_corpus_adjevtives = return_pos(corpus, 'ADJ')\n",
    "visualize_dict(general_corpus_adjevtives, 'Most common adjectives for the whole corpus', 1)"
   ]
  },
  {
   "cell_type": "code",
   "execution_count": 68,
   "metadata": {},
   "outputs": [
    {
     "data": {
      "image/png": "[encoded data removed]",
      "text/plain": [
       "<Figure size 432x288 with 1 Axes>"
      ]
     },
     "metadata": {
      "needs_background": "light"
     },
     "output_type": "display_data"
    }
   ],
   "source": [
    "positive_comments_adjevtives = return_pos(positive_corpus, 'ADJ')\n",
    "visualize_dict(positive_comments_adjevtives, 'Most common adjectives for positive comments', 5)"
   ]
  },
  {
   "cell_type": "code",
   "execution_count": 93,
   "metadata": {},
   "outputs": [
    {
     "data": {
      "image/png": "[encoded data removed]",
      "text/plain": [
       "<Figure size 432x288 with 1 Axes>"
      ]
     },
     "metadata": {
      "needs_background": "light"
     },
     "output_type": "display_data"
    }
   ],
   "source": [
    "negative_comments_adjevtives = return_pos(negative_corpus, 'ADJ')\n",
    "visualize_dict(negative_comments_adjevtives, 'Most common adjectives for negative comments', 0)"
   ]
  },
  {
   "cell_type": "markdown",
   "metadata": {},
   "source": [
    "### ***Conclusions*** ###"
   ]
  },
  {
   "cell_type": "markdown",
   "metadata": {},
   "source": [
    "The data consists of the customer name, review title, comment (actual review), color of the headphones, rating and the date when the review was posted.\n",
    "\n",
    "There are 1604 review in total, 2 reviews don’t contain any textual information, 58 reviews have no comments, 10 review have no title and 2 reviews have both no comment and no title. 56 reviews with no comments and only titles (out of 58 mentioned) were probably misplaced and could be considered as having actual meaningful information in a form of a comment. \n",
    "\n",
    "There are 5 colors of headphones in the dataset: white, black, spirit lime, blur, iguana. Most of the reviews are associated with black or white types.\n",
    "There are 1465 unique customers, with only 86 signed in as  default “Amazon Customer”.\n",
    "\n",
    "Most of the comments aren't longer than 80 words (which is about 15% of single spaced A4 page). The median length of comments in 8 words. There are usually 1 or 2 sentences in a comment. The review titles are mostly short - usually 2 words. \n",
    "\n",
    "Most common words in all reviews are: “good”, “sound” and “quality”. Most common words in positive reviews are the same as the most common words in the whole dataset. This bias is probably due to the fact, that 58% of the whole dataset are positive comments, but only 32% are negative ones. Most common words in negative reviews are: “sound”, “quality” and “product”. Top single words for positive and negative reviews are in most cases the same and don’t provide any meaningful insight.\n",
    "\n",
    "In terms of bigrams, customers generally say good things about the sound quality of the products, but in the terms of negative comments the sound quality isn't the only thing that is bothering them. They albo mention that the product stopped working after some time."
   ]
  }
 ],
 "metadata": {
  "interpreter": {
   "hash": "f5dc7221bd57f443bd21d92d893b3958d3081f94c6c945d5f95188cb4cde5b4f"
  },
  "kernelspec": {
   "display_name": "Python 3.7.5 64-bit",
   "language": "python",
   "name": "python3"
  },
  "language_info": {
   "codemirror_mode": {
    "name": "ipython",
    "version": 3
   },
   "file_extension": ".py",
   "mimetype": "text/x-python",
   "name": "python",
   "nbconvert_exporter": "python",
   "pygments_lexer": "ipython3",
   "version": "3.7.5"
  },
  "orig_nbformat": 4
 },
 "nbformat": 4,
 "nbformat_minor": 2
}
